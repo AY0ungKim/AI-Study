{
  "nbformat": 4,
  "nbformat_minor": 0,
  "metadata": {
    "colab": {
      "provenance": [],
      "authorship_tag": "ABX9TyPRdi/wXaEa4S/8FbPuYYUh",
      "include_colab_link": true
    },
    "kernelspec": {
      "name": "python3",
      "display_name": "Python 3"
    },
    "language_info": {
      "name": "python"
    }
  },
  "cells": [
    {
      "cell_type": "markdown",
      "metadata": {
        "id": "view-in-github",
        "colab_type": "text"
      },
      "source": [
        "<a href=\"https://colab.research.google.com/github/AY0ungKim/AI-Study/blob/main/Linear_resgrssion.ipynb\" target=\"_parent\"><img src=\"https://colab.research.google.com/assets/colab-badge.svg\" alt=\"Open In Colab\"/></a>"
      ]
    },
    {
      "cell_type": "markdown",
      "source": [
        "## **Linear Regression 1**\n",
        "*출처: 서울대학교 데이터사이언스대학원 머신러닝 딥러닝 수업 정리*\n",
        "\n",
        "### **1. 개괄**\n",
        "- Linear regression: 지도 학습의 가장 간단한 형태로, ** (classification은 y가 이산형인 반면, regression은 y가 연속형임)\n"
      ],
      "metadata": {
        "id": "cCb1TUz5mN-4"
      }
    },
    {
      "cell_type": "code",
      "execution_count": null,
      "metadata": {
        "id": "zyTqXoowmBtG"
      },
      "outputs": [],
      "source": []
    }
  ]
}
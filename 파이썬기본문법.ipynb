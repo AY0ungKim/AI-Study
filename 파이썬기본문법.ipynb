{
 "cells": [
  {
   "cell_type": "markdown",
   "id": "9a782116",
   "metadata": {},
   "source": [
    "# Jupyter Notebook 사용방법\n"
   ]
  },
  {
   "cell_type": "markdown",
   "id": "fdb861e7",
   "metadata": {},
   "source": [
    "- 코드 입력 방법:  \n",
    "코드 셀에 파이썬 코드를 넣고, [Run] 버튼을 누르면 코드가 실행되면서 결과가 코드 셀 하단에 출력된다. 이 때 ln [ ]:이 ln [1]:로 바뀌고, 다른 코드 셀을 실행할 때마다 [ ]안에 있는 번호가 증가한다."
   ]
  },
  {
   "cell_type": "code",
   "execution_count": 4,
   "id": "d9099bdd",
   "metadata": {},
   "outputs": [
    {
     "data": {
      "text/plain": [
       "3"
      ]
     },
     "execution_count": 4,
     "metadata": {},
     "output_type": "execute_result"
    }
   ],
   "source": [
    "1+2"
   ]
  },
  {
   "cell_type": "markdown",
   "id": "f5f59c74",
   "metadata": {},
   "source": [
    "- 코드 셀 추가, 삭제:  \n",
    "새로운 코드 셀을 추가하기 위해서는 [+], 현재 선택된 코드 셀을 삭제하기 위해서는 가위표시 툴바를 누르면 된다."
   ]
  },
  {
   "cell_type": "code",
   "execution_count": null,
   "id": "3409f1f0",
   "metadata": {},
   "outputs": [],
   "source": []
  },
  {
   "cell_type": "markdown",
   "id": "289607c0",
   "metadata": {},
   "source": [
    "- 메뉴의 [Markdown]을 선택하면 코드에 대한 설명을 작성할 수 있다. \\# 은 제목이라는 뜻이며 \\# 이 하나씩 늘어날수록 하위 제목이 된다."
   ]
  },
  {
   "cell_type": "code",
   "execution_count": null,
   "id": "65766f4d",
   "metadata": {},
   "outputs": [],
   "source": [
    "# Python start\n",
    "## Ch1"
   ]
  },
  {
   "cell_type": "markdown",
   "id": "6cdcc094",
   "metadata": {},
   "source": [
    "- 제목 변경:  \n",
    "노트북의 Jupyter 로고 옆의 Untitled를 클릭하면 노트북의 제목을 변경할 수 있다."
   ]
  },
  {
   "cell_type": "markdown",
   "id": "8320df43",
   "metadata": {},
   "source": [
    "- 파일로 저장:\n",
    "메뉴의 [File] > [Save and Checkpoint]를 클릭하면 노트북이 *.ipynb 파일로 저장된다. "
   ]
  },
  {
   "cell_type": "markdown",
   "id": "0777db9f",
   "metadata": {},
   "source": [
    "- 코드 셀에서 변수를 만들면 다른 코드 셀에서 해당 변수를 사용할 수 있다. "
   ]
  },
  {
   "cell_type": "markdown",
   "id": "f8ae8a8c",
   "metadata": {},
   "source": [
    "- 코드 셀의 실행 순서는 ln [ ]: 에 표시된 숫자 순서를 따른다."
   ]
  },
  {
   "cell_type": "markdown",
   "id": "60e2bfc6",
   "metadata": {},
   "source": [
    "$\\Longrightarrow$ 이처럼 주피터 노트북은 코드, 코드의 실행 결과, 코드에 대한 설명을 한 번에 작성할 수 있어서 체계적인 기록이 가능하다. \n"
   ]
  },
  {
   "cell_type": "code",
   "execution_count": null,
   "id": "660964ce",
   "metadata": {},
   "outputs": [],
   "source": []
  },
  {
   "cell_type": "markdown",
   "id": "7a85b20e",
   "metadata": {},
   "source": [
    "# Python의 변수 생성"
   ]
  },
  {
   "cell_type": "code",
   "execution_count": 1,
   "id": "330326e5",
   "metadata": {},
   "outputs": [
    {
     "data": {
      "text/plain": [
       "8"
      ]
     },
     "execution_count": 1,
     "metadata": {},
     "output_type": "execute_result"
    }
   ],
   "source": [
    "3+5"
   ]
  },
  {
   "cell_type": "code",
   "execution_count": 6,
   "id": "54d28538",
   "metadata": {},
   "outputs": [
    {
     "data": {
      "text/plain": [
       "10"
      ]
     },
     "execution_count": 6,
     "metadata": {},
     "output_type": "execute_result"
    }
   ],
   "source": [
    "a=3+5\n",
    "a+2"
   ]
  },
  {
   "cell_type": "code",
   "execution_count": 7,
   "id": "34515154",
   "metadata": {},
   "outputs": [
    {
     "ename": "SyntaxError",
     "evalue": "invalid decimal literal (1554485228.py, line 1)",
     "output_type": "error",
     "traceback": [
      "\u001b[1;36m  Cell \u001b[1;32mIn[7], line 1\u001b[1;36m\u001b[0m\n\u001b[1;33m    1a=3+5\u001b[0m\n\u001b[1;37m    ^\u001b[0m\n\u001b[1;31mSyntaxError\u001b[0m\u001b[1;31m:\u001b[0m invalid decimal literal\n"
     ]
    }
   ],
   "source": [
    "1a=3+5\n",
    "1a+2"
   ]
  },
  {
   "cell_type": "code",
   "execution_count": null,
   "id": "717729c2",
   "metadata": {},
   "outputs": [],
   "source": []
  },
  {
   "cell_type": "markdown",
   "id": "af6b1169",
   "metadata": {},
   "source": [
    "<hr>"
   ]
  },
  {
   "cell_type": "markdown",
   "id": "0d37dc97",
   "metadata": {},
   "source": [
    "# 파이썬 기초 문법\n",
    "## 사칙연산\n"
   ]
  },
  {
   "cell_type": "markdown",
   "id": "2a557a33",
   "metadata": {},
   "source": [
    "1 더하기(+) 2는 3이라는 값을 출력해 보자. 보통 계산기 사용하듯 더하기 기호만 넣어 주면 된다."
   ]
  },
  {
   "cell_type": "code",
   "execution_count": 8,
   "id": "428f5a1b",
   "metadata": {},
   "outputs": [
    {
     "data": {
      "text/plain": [
       "3"
      ]
     },
     "execution_count": 8,
     "metadata": {},
     "output_type": "execute_result"
    }
   ],
   "source": [
    "1+2"
   ]
  },
  {
   "cell_type": "markdown",
   "id": "1da547b1",
   "metadata": {},
   "source": [
    "나눗셈(/)과 곱셈(*) 역시 예상한 대로 결괏값을 보여준다."
   ]
  },
  {
   "cell_type": "code",
   "execution_count": 9,
   "id": "8de8edac",
   "metadata": {},
   "outputs": [
    {
     "data": {
      "text/plain": [
       "2.0"
      ]
     },
     "execution_count": 9,
     "metadata": {},
     "output_type": "execute_result"
    }
   ],
   "source": [
    "3/1.5"
   ]
  },
  {
   "cell_type": "code",
   "execution_count": 10,
   "id": "7a3c303a",
   "metadata": {},
   "outputs": [
    {
     "data": {
      "text/plain": [
       "9"
      ]
     },
     "execution_count": 10,
     "metadata": {},
     "output_type": "execute_result"
    }
   ],
   "source": [
    "3*3"
   ]
  },
  {
   "cell_type": "code",
   "execution_count": null,
   "id": "616f9d00",
   "metadata": {},
   "outputs": [],
   "source": []
  },
  {
   "cell_type": "markdown",
   "id": "c0caa539",
   "metadata": {},
   "source": [
    "## 변수 사용하여 계산 하기"
   ]
  },
  {
   "cell_type": "code",
   "execution_count": 11,
   "id": "2de63f27",
   "metadata": {},
   "outputs": [
    {
     "data": {
      "text/plain": [
       "3"
      ]
     },
     "execution_count": 11,
     "metadata": {},
     "output_type": "execute_result"
    }
   ],
   "source": [
    "# 아래 예제는 변수 a 에 1을, b에 2를 대입한 다음 a와 b를 더하면 3이라는 결괏값을 보여 준다.\n",
    "a=1\n",
    "b=2\n",
    "a+b"
   ]
  },
  {
   "cell_type": "markdown",
   "id": "897f0349",
   "metadata": {},
   "source": [
    " 하나의 명령어는 한 줄에 입력되는 것이 기본이지만 세미콜론(;)을 사용하여 한 줄에서 명령어를 나눌 수도 있다. \n",
    " print() 함수를 사용하여 변수의 값을 출력 할 수 있다."
   ]
  },
  {
   "cell_type": "code",
   "execution_count": 12,
   "id": "e77dbebc",
   "metadata": {},
   "outputs": [
    {
     "name": "stdout",
     "output_type": "stream",
     "text": [
      "1\n",
      "2\n",
      "3\n"
     ]
    }
   ],
   "source": [
    "print(a);print(b)\n",
    "print(a+b)"
   ]
  },
  {
   "cell_type": "code",
   "execution_count": 13,
   "id": "6f524e79",
   "metadata": {},
   "outputs": [
    {
     "data": {
      "text/plain": [
       "2"
      ]
     },
     "execution_count": 13,
     "metadata": {},
     "output_type": "execute_result"
    }
   ],
   "source": [
    "a;b"
   ]
  },
  {
   "cell_type": "code",
   "execution_count": null,
   "id": "e57ca1a7",
   "metadata": {},
   "outputs": [],
   "source": []
  },
  {
   "cell_type": "markdown",
   "id": "a18b7775",
   "metadata": {},
   "source": [
    "## 제어문 (Control Statement)\n",
    "- if, while, for 등의 제어문에 대해서 배워본다. \n",
    "- 제어문을 통해서 프로그램의 구조를 살펴보자."
   ]
  },
  {
   "cell_type": "markdown",
   "id": "096fba25",
   "metadata": {},
   "source": [
    "* Tips : 제어문을 다루기 전에 다음의 사항을 미리 확인해 보자!\n",
    "\n",
    "\n",
    "    - 제어문에 속하는 모든 문장은 반드시 들여쓰기를 해 주어야 함(들여쓰기를 하지 않는 경우 오류 발생)\n",
    "    - 제어문에 속하는 모든 문장들의 들여쓰기 너비가 동일해야 함(동일하지 않은 경우 오류 발생)\n",
    "    - 들여쓰기는 TAB 한 번 또는 스페이스 4칸으로 사용하는데, 탭은 환경에 따라 공백 수가 다를 수 있어서 스페이스로 사용하는 추세"
   ]
  },
  {
   "cell_type": "markdown",
   "id": "4d2bce03",
   "metadata": {},
   "source": [
    "### 조건문 if\n",
    "\n"
   ]
  },
  {
   "cell_type": "markdown",
   "id": "fa7595ad",
   "metadata": {},
   "source": [
    "* if 조건문은 조건을 판별할 때 사용하는 문장을 말한다. \n",
    "* 조건의 참, 거짓 여부에 따라 프로그램 제어 또는 반복하는 수행을 할 수 있다. "
   ]
  },
  {
   "cell_type": "markdown",
   "id": "d001898b",
   "metadata": {},
   "source": [
    "#### if 문의 기본 구조"
   ]
  },
  {
   "cell_type": "markdown",
   "id": "f6c22ba9",
   "metadata": {},
   "source": [
    "if 조건문:\n",
    "\n",
    "    수행할 문장1\n",
    "    수행할 문장2\n",
    "    ...\n",
    "elif 조건문:\n",
    "\n",
    "    수행할 문장1\n",
    "    수행할 문장2\n",
    "    ...\n",
    "else:\n",
    "    \n",
    "    수행할 문장1\n",
    "    수행할 문장2\n",
    "    ..."
   ]
  },
  {
   "cell_type": "markdown",
   "id": "05c24f9d",
   "metadata": {},
   "source": [
    "다음은 간단한 조건문 if를 사용한 예제이다. a가 1보다 크면 \"a is greater than 1\"이라는 문장을출력 (print)하라는 뜻이다."
   ]
  },
  {
   "cell_type": "code",
   "execution_count": 14,
   "id": "992c9cb4",
   "metadata": {},
   "outputs": [
    {
     "name": "stdout",
     "output_type": "stream",
     "text": [
      "a is greater than 1\n"
     ]
    }
   ],
   "source": [
    "a=2\n",
    "\n",
    "if a>1:\n",
    "    print(\"a is greater than 1\")"
   ]
  },
  {
   "cell_type": "markdown",
   "id": "a6a58b06",
   "metadata": {},
   "source": [
    "#### 비교 연산자\n",
    "* 조건문에서 조건의 만족 여부를 판단하기 위해 사용되는 비교연산자를 사용하는 방법을 알아보자."
   ]
  },
  {
   "cell_type": "markdown",
   "id": "4628fe73",
   "metadata": {},
   "source": [
    "|비교 연산자|설명|\n",
    "|:-------:|:---:|\n",
    "|x < y|\tx가 y보다 작다|\n",
    "|x > y|\tx가 y보다 크다|\n",
    "|x == y|\tx와 y가 같다|\n",
    "|x != y\t|x와 y가 같지 않다|\n",
    "|x >= y|\tx가 y보다 크거나 같다|\n",
    "|x <= y\t|x가 y보다 작거나 같다|"
   ]
  },
  {
   "cell_type": "code",
   "execution_count": 16,
   "id": "08340feb",
   "metadata": {},
   "outputs": [
    {
     "data": {
      "text/plain": [
       "True"
      ]
     },
     "execution_count": 16,
     "metadata": {},
     "output_type": "execute_result"
    }
   ],
   "source": [
    "x = 200\n",
    "y = 100\n",
    "x > y # 해당 조건은 True"
   ]
  },
  {
   "cell_type": "markdown",
   "id": "47aac866",
   "metadata": {},
   "source": [
    "아래와 같이 if elif else 를 이용한 조건문을 확인해 보자."
   ]
  },
  {
   "cell_type": "code",
   "execution_count": 17,
   "id": "8ceeef8b",
   "metadata": {
    "scrolled": true
   },
   "outputs": [
    {
     "name": "stdout",
     "output_type": "stream",
     "text": [
      "x가 y보다 크다.\n"
     ]
    }
   ],
   "source": [
    "# 표현 1\n",
    "if x > y:\n",
    "    print('x가 y보다 크다.')\n",
    "elif x<y:\n",
    "    print('x가 y보다 작다.')\n",
    "else:\n",
    "    print('x가 y가 같다.')"
   ]
  },
  {
   "cell_type": "markdown",
   "id": "3083f596",
   "metadata": {},
   "source": [
    "이번엔 if else 문을 확인해 보자."
   ]
  },
  {
   "cell_type": "code",
   "execution_count": 18,
   "id": "27b386a5",
   "metadata": {
    "scrolled": true
   },
   "outputs": [
    {
     "name": "stdout",
     "output_type": "stream",
     "text": [
      "success\n"
     ]
    }
   ],
   "source": [
    "# if else 문 : 표현1\n",
    "score=75\n",
    "\n",
    "if score>=60: \n",
    "    message = \"success\"\n",
    "else: \n",
    "    message = \"failure\"\n",
    "print(message)"
   ]
  },
  {
   "cell_type": "markdown",
   "id": "9d807b6d",
   "metadata": {},
   "source": [
    "#### and, or, not 사용\n",
    "* 조건을 판단하기 위해 사용하는 다른 연산자로는 and, or, not이 있다. 각각의 연산자는 다음처럼 동작한다.\n",
    "\n",
    "|연산자\t|설명|\n",
    "|:--------: | :--:|\n",
    "|x or y|\tx와 y 둘중에 하나만 참이어도 참이다.|\n",
    "|x and y|\tx와 y 모두 참이어야 참이다.|\n",
    "|not x |x가 거짓이면 참이다.|"
   ]
  },
  {
   "cell_type": "code",
   "execution_count": 19,
   "id": "65d34ca1",
   "metadata": {},
   "outputs": [
    {
     "name": "stdout",
     "output_type": "stream",
     "text": [
      "지금 사자!\n"
     ]
    }
   ],
   "source": [
    "money = 2000\n",
    "card = True\n",
    "\n",
    "if money >= 3000 or card:\n",
    "    print(\"지금 사자!\")\n",
    "else:\n",
    "    print(\"나중에 사자\")"
   ]
  },
  {
   "cell_type": "code",
   "execution_count": null,
   "id": "bfada2fc",
   "metadata": {},
   "outputs": [],
   "source": []
  },
  {
   "cell_type": "markdown",
   "id": "6c756807",
   "metadata": {},
   "source": [
    "### 반복문 for"
   ]
  },
  {
   "cell_type": "markdown",
   "id": "46fd031b",
   "metadata": {},
   "source": [
    "* while문과 비슷한 반복문인 for문은 매우 유용하고 문장 구조가 한눈에 쏙 들어온다는 장점이 있다."
   ]
  },
  {
   "cell_type": "markdown",
   "id": "40ff3776",
   "metadata": {},
   "source": [
    "for 문의 기본 구조는 아래와 같다. "
   ]
  },
  {
   "cell_type": "markdown",
   "id": "9c463f8b",
   "metadata": {},
   "source": [
    "for 변수 in 리스트(또는 튜플, 문자열):\n",
    "    \n",
    "    수행할 문장1\n",
    "    수행할 문장2\n",
    "    ..."
   ]
  },
  {
   "cell_type": "markdown",
   "id": "ef7f49de",
   "metadata": {},
   "source": [
    "리스트나 튜플, 문자열의 첫 번째 요소부터 마지막 요소까지 차례로 변수에 대입되어 \"수행할 문장1\", \"수행할 문장2\" 등이 수행된다."
   ]
  },
  {
   "cell_type": "markdown",
   "id": "3f7859e5",
   "metadata": {},
   "source": [
    "다양한 for 문의 예시를 확인해보자."
   ]
  },
  {
   "cell_type": "markdown",
   "id": "e3945a4a",
   "metadata": {},
   "source": [
    "- 다음은 반복문 for를 사용해서 [1, 2, 3] 안의 값을 하나씩 출력하는 것을 보여 주는 예이다.  \n",
    "- for문을 사용하면 실행해야 할 문장을 여러 번 반복해서 실행시킬 수 있다.<br>\n",
    "- 아래 예는 대괄호 ([ ])사이에 있는 값들을 하나씩 출력한다.  \n",
    "  - 아래 코드의 의미는 \"[1, 2, 3] 리스트의 앞에서부터 하나씩 꺼내어 a 변수에 대입한 후 print(a)를 수행하라\"이다.  \n",
    "  - 당연히 a에 차례로 1, 2, 3이라는 값이 대입되며 print(a)에 의해서 아래와 같이 그 값이 차례대로 출력된다. "
   ]
  },
  {
   "cell_type": "code",
   "execution_count": 20,
   "id": "926b8701",
   "metadata": {},
   "outputs": [
    {
     "name": "stdout",
     "output_type": "stream",
     "text": [
      "1\n",
      "2\n",
      "3\n"
     ]
    }
   ],
   "source": [
    "# 리스트 활용 \n",
    "for x in [1, 2, 3]: # 리스트의 요소들을 하나씩 x에 대입\n",
    "    print(x)"
   ]
  },
  {
   "cell_type": "code",
   "execution_count": 21,
   "id": "69ff8fae",
   "metadata": {},
   "outputs": [
    {
     "name": "stdout",
     "output_type": "stream",
     "text": [
      "1\n",
      "2\n",
      "3\n"
     ]
    }
   ],
   "source": [
    "# 튜플 활용 \n",
    "for x in (1, 2, 3): \n",
    "    print(x)"
   ]
  },
  {
   "cell_type": "markdown",
   "id": "57376c29",
   "metadata": {},
   "source": [
    "아래와 같이 for문 안에 if 문을 사용 할 수 있다. "
   ]
  },
  {
   "cell_type": "code",
   "execution_count": 22,
   "id": "deb25cf0",
   "metadata": {
    "scrolled": true
   },
   "outputs": [
    {
     "name": "stdout",
     "output_type": "stream",
     "text": [
      "2 는 2의 배수\n",
      "3 는 3의 배수\n",
      "4 는 2의 배수\n"
     ]
    }
   ],
   "source": [
    "for i in [1, 2, 3, 4, 5]:\n",
    "    if i%2 == 0:     \n",
    "        print(i, '는 2의 배수')\n",
    "    elif i%3 == 0:\n",
    "        print(i, '는 3의 배수')\n",
    "    else:\n",
    "        pass   # 수행 없음 "
   ]
  },
  {
   "cell_type": "markdown",
   "id": "dfed128c",
   "metadata": {},
   "source": [
    "### range 함수  사용\n",
    "* for문은 숫자 리스트를 자동으로 만들어 주는 range 함수와 함께 사용하는 경우가 많다. 다음은 range 함수의 간단한 사용법이다."
   ]
  },
  {
   "cell_type": "code",
   "execution_count": 23,
   "id": "38579d4d",
   "metadata": {},
   "outputs": [
    {
     "data": {
      "text/plain": [
       "range(0, 11)"
      ]
     },
     "execution_count": 23,
     "metadata": {},
     "output_type": "execute_result"
    }
   ],
   "source": [
    "# range(11)은 0이상 11 미만의 숫자를 포함하는 객체를 만들어 준다.\n",
    "a = range(11)\n",
    "a "
   ]
  },
  {
   "cell_type": "code",
   "execution_count": 24,
   "id": "ffdece50",
   "metadata": {},
   "outputs": [],
   "source": [
    "# 시작 숫자와 끝 숫자를 지정하려면 range(시작 숫자, 끝 숫자) 형태를 사용한다. (0이상 11미만의 숫자를 포함하는 객체)\n",
    "b = range(0, 11)"
   ]
  },
  {
   "cell_type": "code",
   "execution_count": 25,
   "id": "7ec687e4",
   "metadata": {},
   "outputs": [
    {
     "data": {
      "text/plain": [
       "range(0, 11)"
      ]
     },
     "execution_count": 25,
     "metadata": {},
     "output_type": "execute_result"
    }
   ],
   "source": [
    "b"
   ]
  },
  {
   "cell_type": "code",
   "execution_count": 26,
   "id": "204acddc",
   "metadata": {
    "scrolled": true
   },
   "outputs": [
    {
     "data": {
      "text/plain": [
       "True"
      ]
     },
     "execution_count": 26,
     "metadata": {},
     "output_type": "execute_result"
    }
   ],
   "source": [
    "a == b"
   ]
  },
  {
   "cell_type": "code",
   "execution_count": 27,
   "id": "936617b6",
   "metadata": {},
   "outputs": [
    {
     "name": "stdout",
     "output_type": "stream",
     "text": [
      "0\n",
      "1\n",
      "2\n",
      "3\n",
      "4\n",
      "5\n"
     ]
    }
   ],
   "source": [
    "for i in range(6):\n",
    "    print(i)"
   ]
  },
  {
   "cell_type": "markdown",
   "id": "fcc08914",
   "metadata": {},
   "source": [
    "for 문에서 사용되는 range 함수의 예시를 좀 더 살펴보자\n",
    "\n",
    "for와 range 함수를 사용하면 1부터 10까지 더하는 것을 다음과 같이 쉽게 구현할 수 있다."
   ]
  },
  {
   "cell_type": "code",
   "execution_count": 28,
   "id": "bde15585",
   "metadata": {
    "scrolled": true
   },
   "outputs": [
    {
     "name": "stdout",
     "output_type": "stream",
     "text": [
      "55\n"
     ]
    }
   ],
   "source": [
    "add = 0\n",
    "for i in range(1, 11):\n",
    "    add = add+i   # 1 이상 11 미만의 숫자가 이전 add에 계속 더해짐 \n",
    "print(add)"
   ]
  },
  {
   "cell_type": "markdown",
   "id": "481a54df",
   "metadata": {},
   "source": [
    "### for문 중첩 사용"
   ]
  },
  {
   "cell_type": "markdown",
   "id": "c3bb247f",
   "metadata": {},
   "source": [
    "* for와 range 함수를 사용하면 소스 코드 단 4줄만으로 구구단을 출력할 수 있다."
   ]
  },
  {
   "cell_type": "code",
   "execution_count": 29,
   "id": "0248cb09",
   "metadata": {},
   "outputs": [
    {
     "name": "stdout",
     "output_type": "stream",
     "text": [
      "2 4 6 8 10 12 14 16 18 \n",
      "3 6 9 12 15 18 21 24 27 \n",
      "4 8 12 16 20 24 28 32 36 \n",
      "5 10 15 20 25 30 35 40 45 \n",
      "6 12 18 24 30 36 42 48 54 \n",
      "7 14 21 28 35 42 49 56 63 \n",
      "8 16 24 32 40 48 56 64 72 \n",
      "9 18 27 36 45 54 63 72 81 \n"
     ]
    }
   ],
   "source": [
    "for i in range(2, 10): # ①번 for문\n",
    "    for j in range(1, 10): # ②번 for문\n",
    "        print(i*j, end=\" \") # end를 넣어 준 이유는 해당 결괏값을 출력할 때 다음줄로 넘기지 않고 그 줄에 계속해서 출력하기 위해\n",
    "    print('') # 2단, 3단 등을 구분하기 위해 두 번째 for문이 끝나면 결괏값을 다음 줄부터 출력하게 해주는 문장"
   ]
  },
  {
   "cell_type": "code",
   "execution_count": null,
   "id": "7b6fbd24",
   "metadata": {},
   "outputs": [],
   "source": []
  },
  {
   "cell_type": "markdown",
   "id": "0a5fba32",
   "metadata": {},
   "source": [
    "### 반복문 while"
   ]
  },
  {
   "cell_type": "markdown",
   "id": "d833a8c7",
   "metadata": {},
   "source": [
    "- While이라는 영어 단어는 \"~인 동안\"이란 뜻인데, for문과 마찬가지로 반복해서 문장을 수행할 수 있도록 해준다."
   ]
  },
  {
   "cell_type": "markdown",
   "id": "c77b8ea6",
   "metadata": {},
   "source": [
    "* 다음은 while 반복문의 기본구조이다. \n",
    "* while문은 조건문이 참인 동안에 while문 아래의 수행할 문장이 반복해서 수행된다."
   ]
  },
  {
   "cell_type": "markdown",
   "id": "c5541648",
   "metadata": {},
   "source": [
    "while 조건문:\n",
    "\n",
    "    수행할 문장1\n",
    "    수행할 문장2\n",
    "    수행할 문장3\n",
    "    ..."
   ]
  },
  {
   "cell_type": "code",
   "execution_count": 30,
   "id": "cffadeb1",
   "metadata": {
    "scrolled": true
   },
   "outputs": [
    {
     "name": "stdout",
     "output_type": "stream",
     "text": [
      "0\n",
      "1\n",
      "2\n",
      "3\n",
      "4\n"
     ]
    }
   ],
   "source": [
    "# i < 5 인 동안에 i 를 출력하고 i+1 로 i를 재정의 함 \n",
    "i=0\n",
    "while i<5:\n",
    "    print(i)\n",
    "    i = i+1   # i+=1  도 동일한 표현, \n",
    "              # i=i+1이라는 문장은 i의 값을 1씩 더하게 한다. \n",
    "              # i 값이 5보다 커지게 되면 while문을 빠져나가게 된다."
   ]
  },
  {
   "cell_type": "code",
   "execution_count": 31,
   "id": "f8710dd7",
   "metadata": {},
   "outputs": [
    {
     "name": "stdout",
     "output_type": "stream",
     "text": [
      "나무를 1번 찍었습니다.\n",
      "나무를 2번 찍었습니다.\n",
      "나무를 3번 찍었습니다.\n",
      "나무를 4번 찍었습니다.\n",
      "나무를 5번 찍었습니다.\n",
      "나무를 6번 찍었습니다.\n",
      "나무를 7번 찍었습니다.\n",
      "나무를 8번 찍었습니다.\n",
      "나무를 9번 찍었습니다.\n",
      "나무를 10번 찍었습니다.\n",
      "나무 넘어갑니다.\n"
     ]
    }
   ],
   "source": [
    "# treeHit <10 인 동안에 treeHit을 하나씩 키우면서, 첫번쨰 print 내용을 출력하고, treeHit 이 10이 되면 \"나무 넘어갑니다\" 출력\n",
    "treeHit = 0\n",
    "\n",
    "while treeHit<10:\n",
    "    treeHit = treeHit+1\n",
    "    print(\"나무를 %d번 찍었습니다.\" % treeHit)\n",
    "    if treeHit==10:\n",
    "        print(\"나무 넘어갑니다.\")"
   ]
  },
  {
   "cell_type": "code",
   "execution_count": null,
   "id": "1e77947b",
   "metadata": {},
   "outputs": [],
   "source": []
  },
  {
   "cell_type": "code",
   "execution_count": null,
   "id": "2f5975f7",
   "metadata": {},
   "outputs": [],
   "source": []
  },
  {
   "cell_type": "markdown",
   "id": "ce961d81",
   "metadata": {},
   "source": [
    "## 함수 만들기"
   ]
  },
  {
   "cell_type": "markdown",
   "id": "64e801c6",
   "metadata": {},
   "source": [
    "- 파이썬은 def 를 통해 사용자가 원하는 기능을 하는 함수를 직접 만들 수 있다. \n",
    "- def 는 파이썬에서 함수를 만들어 주는 문법 단어 (예약어)이다."
   ]
  },
  {
   "cell_type": "markdown",
   "id": "7aae47e8",
   "metadata": {},
   "source": [
    "기본 형식은 다음과 같다."
   ]
  },
  {
   "cell_type": "code",
   "execution_count": null,
   "id": "4e7f739b",
   "metadata": {},
   "outputs": [],
   "source": [
    "def 이름(입력 변수):  \n",
    "    실행 문장  \n",
    "    return 출력 변수"
   ]
  },
  {
   "cell_type": "markdown",
   "id": "475cd9de",
   "metadata": {},
   "source": [
    "아래 예제는 add 함수를 만들고 그 함수를 어떻게 사용하는지를 보여준다. "
   ]
  },
  {
   "cell_type": "code",
   "execution_count": 32,
   "id": "5063909e",
   "metadata": {},
   "outputs": [
    {
     "data": {
      "text/plain": [
       "3"
      ]
     },
     "execution_count": 32,
     "metadata": {},
     "output_type": "execute_result"
    }
   ],
   "source": [
    "# add(a, b)에서 a, b는 입력값이고, a+b는 결괏값이다. 즉 1, 2가 입력으로 들어오면 1+2를 수행하고 그 결괏값인 3을 돌려준다\n",
    "def add(a,b):\n",
    "    return a+b\n",
    "\n",
    "add(1,2)"
   ]
  },
  {
   "cell_type": "code",
   "execution_count": 33,
   "id": "244fc38e",
   "metadata": {},
   "outputs": [
    {
     "name": "stdout",
     "output_type": "stream",
     "text": [
      "3\n"
     ]
    }
   ],
   "source": [
    "## print와 return의 차이: return을 해야 저장됨\n",
    "def sum1(a,b):\n",
    "    print(a+b)\n",
    " \n",
    "b = sum1(1,2)"
   ]
  },
  {
   "cell_type": "code",
   "execution_count": 34,
   "id": "4c44ea73",
   "metadata": {},
   "outputs": [
    {
     "name": "stdout",
     "output_type": "stream",
     "text": [
      "None\n"
     ]
    }
   ],
   "source": [
    "print(b)"
   ]
  },
  {
   "cell_type": "code",
   "execution_count": null,
   "id": "bfec1b88",
   "metadata": {},
   "outputs": [],
   "source": []
  },
  {
   "cell_type": "code",
   "execution_count": null,
   "id": "df7a2cd0",
   "metadata": {},
   "outputs": [],
   "source": []
  },
  {
   "cell_type": "markdown",
   "id": "673a7ec5",
   "metadata": {},
   "source": [
    "<hr>"
   ]
  },
  {
   "cell_type": "markdown",
   "id": "6d70a08c",
   "metadata": {},
   "source": [
    "# 자료의 형태(Data type)"
   ]
  },
  {
   "cell_type": "markdown",
   "id": "a563ac78",
   "metadata": {},
   "source": [
    "## 숫자형 자료 (numeric)"
   ]
  },
  {
   "cell_type": "markdown",
   "id": "e479802b",
   "metadata": {},
   "source": [
    "- 숫자형(Number)이란 숫자 형태로 이루어진 자료형으로, \n",
    "  - 형태에 따라서 1, 2, 3 과 같은 정수(interger),\n",
    "  - 12.34 와 같은 실수(float), \n",
    "  - 드물게 사용하는 복소수(complex)로 구분하여 생각할 수 있다.\n",
    "- 이들을 활용한 다양한 연산이 가능하다.\n",
    "- type(변수명) 함수는 type을 출력하는 함수로, 해당 변수의 자료형을 확인할 수 있다."
   ]
  },
  {
   "cell_type": "code",
   "execution_count": 35,
   "id": "c49b6ad5",
   "metadata": {},
   "outputs": [
    {
     "name": "stdout",
     "output_type": "stream",
     "text": [
      "8\n"
     ]
    }
   ],
   "source": [
    "a=5\n",
    "b=3\n",
    "\n",
    "c=a+b\n",
    "\n",
    "print(c)"
   ]
  },
  {
   "cell_type": "code",
   "execution_count": 36,
   "id": "69b665de",
   "metadata": {},
   "outputs": [
    {
     "data": {
      "text/plain": [
       "int"
      ]
     },
     "execution_count": 36,
     "metadata": {},
     "output_type": "execute_result"
    }
   ],
   "source": [
    "type(a) # 정수"
   ]
  },
  {
   "cell_type": "code",
   "execution_count": null,
   "id": "3c039e36",
   "metadata": {},
   "outputs": [],
   "source": []
  },
  {
   "cell_type": "markdown",
   "id": "61ee0578",
   "metadata": {},
   "source": [
    "## 문자열 자료(string)"
   ]
  },
  {
   "cell_type": "markdown",
   "id": "fcc149e6",
   "metadata": {},
   "source": [
    "- 문자열(String)이란 문자, 단어 등으로 구성된 문자들의 집합을 의미한다. \n",
    "- 문자형 자료의 입력은 작은 따옴표(‘ ’) 또는 큰 따옴표(“ ”)를 사용한다. "
   ]
  },
  {
   "cell_type": "code",
   "execution_count": 37,
   "id": "8c024ced",
   "metadata": {},
   "outputs": [
    {
     "name": "stdout",
     "output_type": "stream",
     "text": [
      "python\n",
      "python\n",
      "'python'\n"
     ]
    }
   ],
   "source": [
    "d='python'; print(d)\n",
    "e=\"python\"; print(e)\n",
    "f=\"'python'\";print(f)"
   ]
  },
  {
   "cell_type": "code",
   "execution_count": 38,
   "id": "b837e8ad",
   "metadata": {},
   "outputs": [
    {
     "name": "stdout",
     "output_type": "stream",
     "text": [
      "123\n"
     ]
    }
   ],
   "source": [
    "g=\"123\";print(g)"
   ]
  },
  {
   "cell_type": "markdown",
   "id": "512bdc15",
   "metadata": {},
   "source": [
    "\"123은 숫자인데 왜 문자열이지?\"라는 의문이 들수도 있으나 따옴표로 둘러싸여 있으면 모두 문자열 자료형이라고 보면 된다."
   ]
  },
  {
   "cell_type": "markdown",
   "id": "e35f6cd9",
   "metadata": {},
   "source": [
    "### 문자열 포맷팅 (fomatting) \n",
    "* 문자열에서 특정 값을 변경하려면 formatting을 사용한다. \n",
    "* 아래 예제와 같이 문자열 안의 특정한 값 만을 바꿔야 할 경우가 있을 때 이것을 가능하게 해주는 것이 바로 문자열 포매팅 기법이다."
   ]
  },
  {
   "cell_type": "code",
   "execution_count": 39,
   "id": "1211592b",
   "metadata": {},
   "outputs": [
    {
     "data": {
      "text/plain": [
       "'I ate 15 apples. so I was sick for 2 days.'"
      ]
     },
     "execution_count": 39,
     "metadata": {},
     "output_type": "execute_result"
    }
   ],
   "source": [
    "\"I ate %d apples. so I was sick for %d days.\"  % (15, 2) #  %d : 정수(Integer)"
   ]
  },
  {
   "cell_type": "markdown",
   "id": "2fedc9ec",
   "metadata": {},
   "source": [
    "### format 함수를 사용한 포맷팅\n",
    "* format 함수를 사용한 포맷팅도 가능하다. 앞에서 살펴본 문자열 포매팅 예제를 format 함수를 사용해서 바꾸면 다음과 같다."
   ]
  },
  {
   "cell_type": "code",
   "execution_count": 40,
   "id": "2298dc9c",
   "metadata": {},
   "outputs": [
    {
     "data": {
      "text/plain": [
       "'I ate 15 apples. so I was sick for 2 days.'"
      ]
     },
     "execution_count": 40,
     "metadata": {},
     "output_type": "execute_result"
    }
   ],
   "source": [
    "# .format() 함수 사용\n",
    "\"I ate {0} apples. so I was sick for {1} days.\".format(15,2)"
   ]
  },
  {
   "cell_type": "code",
   "execution_count": null,
   "id": "35b0f1d8",
   "metadata": {},
   "outputs": [],
   "source": []
  },
  {
   "cell_type": "markdown",
   "id": "d40685ee",
   "metadata": {},
   "source": [
    "## 논리형 자료"
   ]
  },
  {
   "cell_type": "markdown",
   "id": "38735bd9",
   "metadata": {},
   "source": [
    "- 불(bool) 자료형이란 참과 거짓을 나타내는 논리 유형을 나타내는 자료형이다. \n",
    "- 파이썬에서는 비교 연산자와 논리 연산자의 판단 결과로 참 또는 거짓을 사용한다."
   ]
  },
  {
   "cell_type": "code",
   "execution_count": 41,
   "id": "5536d68e",
   "metadata": {},
   "outputs": [
    {
     "name": "stdout",
     "output_type": "stream",
     "text": [
      "True\n",
      "False\n"
     ]
    }
   ],
   "source": [
    "a=1\n",
    "b= (a==1) # 비교를 위한 연산자\n",
    "\n",
    "print(b)\n",
    "print(a>2)"
   ]
  },
  {
   "cell_type": "code",
   "execution_count": null,
   "id": "1ad31e10",
   "metadata": {},
   "outputs": [],
   "source": []
  },
  {
   "cell_type": "markdown",
   "id": "0516500d",
   "metadata": {},
   "source": [
    "## 리스트(List) 자료형"
   ]
  },
  {
   "cell_type": "markdown",
   "id": "51756658",
   "metadata": {},
   "source": [
    "- 리스트는 여러 개의 값을 일렬로 늘어놓아 묶어 놓은 집합체이다. \n",
    "- 변수에 값을 저장할 때, 여러 개의 값을 대괄호([ ])로 묶어주면 리스트가 되며 각 값은 comma(,) 로 구분할 수 있다. \n",
    "- 리스트에 저장된 각각의 값은 요소(element)라고 부르며 리스트는 숫자형, 문자형, 논리형 등 모든 자료형을 저장할 수 있으며 자료형을 섞어서 저장할 수도 있다."
   ]
  },
  {
   "cell_type": "code",
   "execution_count": 42,
   "id": "0c78e702",
   "metadata": {},
   "outputs": [
    {
     "name": "stdout",
     "output_type": "stream",
     "text": [
      "[2, 4, 6, 8] [1, 'I', 30, 'Love'] [1, 'I', [2, 'Love']] [1, 'I', [2, 'Love', [3, 'You']]] []\n"
     ]
    }
   ],
   "source": [
    "# 리스트는 다양한 유형의 요소를 지닐 수 있음 (비어있는 리스트, 숫자형, 문자열, 리스트 등...) \n",
    "a = [2,4,6,8]\n",
    "b = [1, \"I\", 30, \"Love\"]\n",
    "c = [1, \"I\", [2, \"Love\"]]\n",
    "d = [1, \"I\", [2, \"Love\", [3, \"You\"]]]\n",
    "e = []  \n",
    "\n",
    "print(a,b,c,d,e)"
   ]
  },
  {
   "cell_type": "code",
   "execution_count": 43,
   "id": "689a566c",
   "metadata": {},
   "outputs": [
    {
     "name": "stdout",
     "output_type": "stream",
     "text": [
      "<class 'list'> [[0, 1, 2, 3], [4, 5, 6, 7], [8, 9, 10, 11]]\n"
     ]
    }
   ],
   "source": [
    "aa=[[0,1,2,3],\n",
    "   [4,5,6,7],\n",
    "   [8,9,10,11]]\n",
    "print(type(aa),aa)"
   ]
  },
  {
   "cell_type": "code",
   "execution_count": null,
   "id": "e63f0d35",
   "metadata": {},
   "outputs": [],
   "source": []
  },
  {
   "cell_type": "markdown",
   "id": "abdf6f18",
   "metadata": {},
   "source": [
    "### 리스트 관련 함수"
   ]
  },
  {
   "cell_type": "markdown",
   "id": "1bcf2ef6",
   "metadata": {},
   "source": [
    "- 리스트 변수 이름 뒤에 '.'를 붙여서 여러 가지 리스트 관련 함수를 사용할 수 있다."
   ]
  },
  {
   "cell_type": "markdown",
   "id": "359eb693",
   "metadata": {},
   "source": [
    "* 함수 \n",
    "\n",
    "|Operation    | Description |\n",
    "|:--------:| :----:|\n",
    "| x.append()\t| 요소 추가 : 리스트 x의 마지막 요소 추가  |\n",
    "| x.sort()      | 리스트 정렬 : 리스트 x 의 요소를 순서대로 정렬|\n",
    "| x.reverse()\t| 리스트 뒤집기 : 현재 리스트 x의 요소를 거꾸로 뒤집기  |\n",
    "| x.index(a)  | 위치 반환 : 리스트 x에 a 값이 있으면 위치를 반환 |\n",
    "| x.insert(a,b) | 요소 삽입 : 리스트 x의 a 번째 위치에 b를 삽입|\n",
    "| x.remove(a)   | 요소 제거 : 리스트 x에서 첫번째로 나타나는 a를 삭제 |\n",
    "| x.pop()       | 요소 끄집어내기 : 리스트 x의 마지막 요소(혹은 위치 지정가능)를 반환하고 그 요소를 삭제 |\n",
    "| x.count(a)    | 갯수세기 : 리스트 x 안에 a가 몇개 있는지 갯수 반환 |\n",
    "| x.extend(a)   | 리스트 확장: 리스트 x에 리스트 a를 더함 |\n",
    "| x.copy()   | 리스트 복사: 리스트 x를 복사 |"
   ]
  },
  {
   "cell_type": "code",
   "execution_count": 44,
   "id": "8ec0739b",
   "metadata": {},
   "outputs": [],
   "source": [
    "List = [\"A\", \"B\", \"C\", \"D\"]"
   ]
  },
  {
   "cell_type": "code",
   "execution_count": 45,
   "id": "8d72eaf2",
   "metadata": {
    "scrolled": true
   },
   "outputs": [
    {
     "name": "stdout",
     "output_type": "stream",
     "text": [
      "['A', 'B', 'C', 'D', 'E']\n",
      "['A', 'B', 'C', 'D', 'E', 'G', 'H']\n",
      "['A', 'B', 'C', 'D', 'E', 'G', 'H', 'I', 'J']\n",
      "['A', 'B', 'C', 'D', 'E', 'F', 'G', 'H', 'I', 'J']\n"
     ]
    }
   ],
   "source": [
    "# append: 요소 값 추가\n",
    "List.append(\"E\")   \n",
    "print(List)\n",
    "\n",
    "# extend : 리스트 추가(확장)\n",
    "List.extend([\"G\",\"H\"]) \n",
    "print(List)\n",
    "\n",
    "b= [\"I\", \"J\"]\n",
    "List.extend(b)\n",
    "print(List)\n",
    "\n",
    "# insert : 요소 삽입\n",
    "List.insert(5, \"F\") #  index 5(0부터 시작)에 \"F\" 삽입\n",
    "print(List)"
   ]
  },
  {
   "cell_type": "code",
   "execution_count": null,
   "id": "928498c3",
   "metadata": {},
   "outputs": [],
   "source": []
  },
  {
   "cell_type": "markdown",
   "id": "0386033d",
   "metadata": {},
   "source": [
    "## 딕셔너리(Dictionary) 자료형\n",
    "\n",
    "* 딕셔너리는 사전 처럼 대응관계를 나태날 수 있는 자료형이다.\n",
    "   - \"apple\" 라는 단어에 사과, \"love\" 라는 단어에 \"사랑\" 이라는 뜻이 대응되듯 딕셔러니 자료는 key 와 value를 한 쌍으로 갖는 자료형이다.  key 가 love 라고 한다면, value는 \"사랑\" 이 될 것이다.  \n",
    "\n",
    "  \n",
    "* 리스트나 튜플과의 차별점\n",
    "   - 리스트와 튜플은 순차적으로 요소 값을 모두 확인하지만, 딕셔너리는 Key를 통해서 바로 value를 확인한다. 예를 들어, love의 뜻을 찾기 위해서 사전의 처음 부터 순차적으로 모두 검색하는 것이 아니라, love 라는 단어가 있는 곳만 확인하는 것이다. \n",
    "   \n",
    "   \n",
    "* 따라서, key는 고유한 값(중복되지 않아야 함)이어야 하며, 문자열 또는 단일 숫자, 튜플과 같이 변하지 않는 값인 unhashable type이어야 한다. 리스트와 같이 변경이 가능한 값은 Key로 사용이 불가능하다. \n",
    "* Value는 중복된 값이 사용 될 수 있으며, 변하는 값이든 변하지 않는 값이든 아무 값이나 넣을 수 있다. \n",
    "\n",
    "\n",
    "* 즉, 딕셔너리는 Index가 아닌 Key를 사용하여 데이터 탐색 하고\n",
    "* 순서가 없는 자료형으로 Indexing과 slicing이 불가하다.\n",
    "\n",
    "\n"
   ]
  },
  {
   "cell_type": "markdown",
   "id": "427922db",
   "metadata": {},
   "source": [
    "* 딕셔너리는 아래와 같이 중괄호 { }로 묶어서 표현 한다. \n",
    "\n",
    "{Key1:Value1, Key2:Value2, Key3:Value3, ...}"
   ]
  },
  {
   "cell_type": "code",
   "execution_count": 46,
   "id": "0383f246",
   "metadata": {},
   "outputs": [
    {
     "name": "stdout",
     "output_type": "stream",
     "text": [
      "{'Name': 'James', 'Job': 'Student', 'Phone': [82, 10, 9994, 323]}\n",
      "James is a Student\n"
     ]
    }
   ],
   "source": [
    "# example \n",
    "dic = {'Name':'James', 'Job':'Student', 'Phone':[82,10,9994,323]} # Key (Name , job , Phone) , value \n",
    "print(dic)\n",
    "print(dic['Name'] + ' is a ' + dic['Job'])"
   ]
  },
  {
   "cell_type": "code",
   "execution_count": 47,
   "id": "6bce73c8",
   "metadata": {},
   "outputs": [
    {
     "data": {
      "text/plain": [
       "dict"
      ]
     },
     "execution_count": 47,
     "metadata": {},
     "output_type": "execute_result"
    }
   ],
   "source": [
    "type(dic)"
   ]
  },
  {
   "cell_type": "markdown",
   "id": "40cf3eb7",
   "metadata": {},
   "source": [
    "### 딕셔너리 추가와 삭제"
   ]
  },
  {
   "cell_type": "markdown",
   "id": "4c86cdb6",
   "metadata": {},
   "source": [
    "#### 딕셔너리 key & value  추가 "
   ]
  },
  {
   "cell_type": "code",
   "execution_count": 48,
   "id": "1afeb1a2",
   "metadata": {
    "scrolled": true
   },
   "outputs": [
    {
     "name": "stdout",
     "output_type": "stream",
     "text": [
      "{'Name': 'James', 'Job': 'Student', 'Phone': [82, 10, 9994, 323]}\n"
     ]
    }
   ],
   "source": [
    "dic = {'Name':'James', 'Job':'Student'}\n",
    "dic['Phone'] = [82,10,9994,323]  # key & value 삽입\n",
    "print(dic)\n"
   ]
  },
  {
   "cell_type": "code",
   "execution_count": 49,
   "id": "a5ee619b",
   "metadata": {},
   "outputs": [
    {
     "name": "stdout",
     "output_type": "stream",
     "text": [
      "{'Name': 'James', 'Job': 'Student', 'Phone': [82, 10, 9994, 323], 1: 'a'}\n"
     ]
    }
   ],
   "source": [
    "dic[1] =\"a\" # key & value 삽입\n",
    "print(dic)"
   ]
  },
  {
   "cell_type": "markdown",
   "id": "b47153ea",
   "metadata": {},
   "source": [
    "#### 딕셔너리 삭제"
   ]
  },
  {
   "cell_type": "code",
   "execution_count": 50,
   "id": "4196672f",
   "metadata": {},
   "outputs": [
    {
     "name": "stdout",
     "output_type": "stream",
     "text": [
      "{'Name': 'James', 'Job': 'Student', 1: 'a'}\n"
     ]
    }
   ],
   "source": [
    "del dic['Phone'] # key & value 삭제\n",
    "print(dic)"
   ]
  },
  {
   "cell_type": "code",
   "execution_count": 51,
   "id": "cccf47cf",
   "metadata": {},
   "outputs": [
    {
     "name": "stdout",
     "output_type": "stream",
     "text": [
      "{'Name': 'James', 'Job': 'Student'}\n"
     ]
    }
   ],
   "source": [
    "del dic[1]  # Index 가 아닌 key 를 찾아 삭제한다 (딕셔너리는 순서가 없는 자료형 )\n",
    "print(dic)"
   ]
  },
  {
   "cell_type": "markdown",
   "id": "5dde7772",
   "metadata": {},
   "source": [
    "### 딕셔너리 관련 함수 "
   ]
  },
  {
   "cell_type": "markdown",
   "id": "cdadad8d",
   "metadata": {},
   "source": [
    "* 함수 \n",
    "\n",
    "|Operation    | Description |\n",
    "|:--------:   | :----------:|\n",
    "| x.keys()      | Key 리스트 만들기 |\n",
    "| x.values()    | Value 리스트 만들기 |\n",
    "| x.items()\t    | Key, Value 쌍 얻기  |\n",
    "| x.clear()     | Key: Value 쌍 모두 지우기 |\n",
    "| x.get(a)      | Key a에 해당 하는 Value얻기|\n",
    "| a in x        | key a가 딕셔너리 x 안에 있는지 확인 (True/ False) |\n"
   ]
  },
  {
   "cell_type": "code",
   "execution_count": 52,
   "id": "0213bc6a",
   "metadata": {
    "scrolled": false
   },
   "outputs": [
    {
     "name": "stdout",
     "output_type": "stream",
     "text": [
      "dict_keys(['Name', 'Job', 'Phone'])\n",
      "dict_values(['James', 'Student', [82, 10, 9994, 323]])\n",
      "dict_items([('Name', 'James'), ('Job', 'Student'), ('Phone', [82, 10, 9994, 323])])\n",
      "James\n",
      "James\n",
      "True\n",
      "False\n",
      "{}\n"
     ]
    }
   ],
   "source": [
    "dic = {'Name':'James', 'Job':'Student',  'Phone': [82, 10, 9994, 323]}\n",
    "print(dic.keys()) # key를 리스트로 묶어 dict_key 객체로 돌려줌 \n",
    "print(dic.values()) # value를 리스트로 묶어 dict_values 객체로 돌려줌 \n",
    "print(dic.items()) # key & value 쌍을 튜플로 묶어 dict_items로 돌려줌\n",
    "print(dic.get('Name')) # key 값을 이용해 value 출력\n",
    "print(dic['Name']) # 위와 동일\n",
    "print('Job' in dic) # 해당 값을 지닌 key 존재 여부 확인\n",
    "print('ID' in dic)\n",
    "dic.clear() # 전체 삭제\n",
    "print(dic)"
   ]
  },
  {
   "cell_type": "markdown",
   "id": "127baf0b",
   "metadata": {},
   "source": [
    "* Tip : Key 가 중복된 경우 어떻게 될까? \n",
    "\n",
    "    * 이 경우 중복된 key가 사용된 경우 하나만 사용하고 나머지는 버린다. \n",
    "    \n",
    "    * 어떤 value를 사용하고, 어떤 value를 버릴지 알 수 없음(random하게 선택 됨)"
   ]
  },
  {
   "cell_type": "code",
   "execution_count": 53,
   "id": "63ca882c",
   "metadata": {
    "scrolled": true
   },
   "outputs": [
    {
     "name": "stdout",
     "output_type": "stream",
     "text": [
      "{'Name': 'SJ', 'Job': 'Student'}\n"
     ]
    }
   ],
   "source": [
    "dic = {'Name':'James', 'Name':'SJ', 'Job':'Student'}\n",
    "print(dic)"
   ]
  },
  {
   "cell_type": "code",
   "execution_count": null,
   "id": "caad5d34",
   "metadata": {},
   "outputs": [],
   "source": []
  },
  {
   "cell_type": "code",
   "execution_count": null,
   "id": "7bfe0199",
   "metadata": {},
   "outputs": [],
   "source": []
  },
  {
   "cell_type": "markdown",
   "id": "423149ca",
   "metadata": {},
   "source": [
    "# 인덱싱(Indexing)과 슬라이싱(Slicing)"
   ]
  },
  {
   "cell_type": "markdown",
   "id": "9e243f8c",
   "metadata": {},
   "source": [
    "- 인덱싱(Indexing)이란 무엇인가를 \"가리킨다\"는 의미이고, 슬라이싱(Slicing):은 무엇인가를 \"잘라낸다\"는 의미이다.\n",
    "  - 인덱싱은 자료의 위치에 번호를 매겨 출력한 것이다.\n",
    "  - 주의할 점은 파이썬은 0 부터 번호를 매긴다는 점이다.\n",
    "    \n",
    "  - 자료[번호]는 문자열 안의 특정한 값을 뽑아내는 역할을 하며, 이러한 작업을 인덱싱이라고 한다.\n",
    "  - \"Life is too short, You need Python\"에서 단순히 한 문자만을 뽑아내는 것이 아니라 'Life' 또는 'You' 같은 단어를 뽑아내는 방법이 슬라이싱이다.  "
   ]
  },
  {
   "cell_type": "markdown",
   "id": "d308b9ff",
   "metadata": {},
   "source": [
    "- 문자형, array, series, list, dataframe 등에서 사용이 가능\n",
    "  - dataframe에서는 행, 열의 사용 방법이 상이"
   ]
  },
  {
   "cell_type": "markdown",
   "id": "a66f4d7f",
   "metadata": {},
   "source": [
    "### list 자료형과 인덱싱"
   ]
  },
  {
   "cell_type": "code",
   "execution_count": 54,
   "id": "a580f274",
   "metadata": {},
   "outputs": [],
   "source": [
    "a = [2,4,6,8]\n",
    "b = [1, \"I\", 30, \"Love\"]\n",
    "c = [1, \"I\", [2, \"Love\"]]\n",
    "d = [1, \"I\", [2, \"Love\", [3, \"You\"]]]"
   ]
  },
  {
   "cell_type": "code",
   "execution_count": 55,
   "id": "8a2f6557",
   "metadata": {},
   "outputs": [
    {
     "name": "stdout",
     "output_type": "stream",
     "text": [
      "List Index\n",
      "2\n",
      "4\n",
      "8\n",
      "6\n",
      "30\n",
      "[2, 'Love']\n",
      "Love\n",
      "[2, 'Love', [3, 'You']]\n"
     ]
    }
   ],
   "source": [
    "print(\"List Index\")\n",
    "print(a[0])\n",
    "print(a[1])\n",
    "print(a[-1])\n",
    "print(a[-2])\n",
    "print(b[2])\n",
    "print(c[2])\n",
    "print(c[2][1])\n",
    "print(d[-1])"
   ]
  },
  {
   "cell_type": "code",
   "execution_count": 56,
   "id": "41f2509b",
   "metadata": {
    "scrolled": true
   },
   "outputs": [
    {
     "name": "stdout",
     "output_type": "stream",
     "text": [
      "6\n",
      "ILove\n"
     ]
    }
   ],
   "source": [
    "print(a[0]+a[1])\n",
    "print(b[1]+b[3])"
   ]
  },
  {
   "cell_type": "code",
   "execution_count": 57,
   "id": "21a12892",
   "metadata": {},
   "outputs": [
    {
     "name": "stdout",
     "output_type": "stream",
     "text": [
      "List Slicing\n",
      "Life\n",
      "L\n"
     ]
    }
   ],
   "source": [
    "print(\"List Slicing\")\n",
    "x = \"Life is too short, You need Python\"\n",
    "\n",
    "print(x[0:4]) #슬라이싱\n",
    "# 참고로\n",
    "print(x[0]) # 인덱싱"
   ]
  },
  {
   "cell_type": "markdown",
   "id": "cd73044f",
   "metadata": {},
   "source": [
    "위의 문자열에서 단순히 한 문자만을 뽑아내는 것이 아니라 'Life' 또는 'You' 같은 단어를 뽑아내는 방법이 슬라이싱이다."
   ]
  },
  {
   "cell_type": "code",
   "execution_count": 58,
   "id": "68c5448d",
   "metadata": {},
   "outputs": [
    {
     "name": "stdout",
     "output_type": "stream",
     "text": [
      "[2, 4]\n",
      "['I']\n",
      "['I']\n",
      "['I', [2, 'Love', [3, 'You']]]\n"
     ]
    }
   ],
   "source": [
    "print(a[0:2])\n",
    "print(c[1:2])\n",
    "print(c[1:-1])\n",
    "print(d[1:])"
   ]
  },
  {
   "cell_type": "code",
   "execution_count": 59,
   "id": "1d8092ad",
   "metadata": {},
   "outputs": [
    {
     "name": "stdout",
     "output_type": "stream",
     "text": [
      "[0, 1, 2, 3]\n",
      "1\n",
      "11\n"
     ]
    }
   ],
   "source": [
    "print(aa[0])\n",
    "print(aa[0][1]) # aa의 [0]에서 [1]번째, 행,열로 이해X\n",
    "print(aa[2][3])\n",
    "#print(aa[1,1]) # error"
   ]
  },
  {
   "cell_type": "code",
   "execution_count": null,
   "id": "71dc3ec4",
   "metadata": {},
   "outputs": [],
   "source": []
  },
  {
   "cell_type": "markdown",
   "id": "6dea769d",
   "metadata": {},
   "source": [
    "## 배열(array)"
   ]
  },
  {
   "cell_type": "markdown",
   "id": "5cb4dce6",
   "metadata": {},
   "source": [
    "- 백터와 행렬 만들기\n",
    "- 리스트는 속도가 느리고 메모리를 많이 차지하는 단점이 있다. \n",
    "- 배열(array)을 사용하면 적은 메모리로 많은 데이터를 빠르게 처리할 수 있다. \n",
    "- 배열은 리스트와 비슷하지만 다음과 같은 점에서 다르다.\n",
    "  - 모든 원소가 같은 자료형이어야 한다.\n",
    "  - 원소의 갯수를 바꿀 수 없다.\n",
    "- 파이썬은 자체적으로 배열 자료형을 제공하지 않는다. 파이썬에서 배열을 사용하기 위한 표준 패키지는 넘파이(numpy)다."
   ]
  },
  {
   "cell_type": "code",
   "execution_count": 60,
   "id": "d45d4c18",
   "metadata": {},
   "outputs": [
    {
     "name": "stdout",
     "output_type": "stream",
     "text": [
      "[ 0  1  2  3  4  5  6  7  8  9 10 11 12 13 14 15]\n"
     ]
    },
    {
     "data": {
      "text/plain": [
       "numpy.ndarray"
      ]
     },
     "execution_count": 60,
     "metadata": {},
     "output_type": "execute_result"
    }
   ],
   "source": [
    "import numpy as np\n",
    "\n",
    "x=np.array(range(16))\n",
    "print(x)\n",
    "type(x)"
   ]
  },
  {
   "cell_type": "code",
   "execution_count": 61,
   "id": "1edcf2f1",
   "metadata": {},
   "outputs": [
    {
     "name": "stdout",
     "output_type": "stream",
     "text": [
      "[[ 0  1  2  3]\n",
      " [ 4  5  6  7]\n",
      " [ 8  9 10 11]\n",
      " [12 13 14 15]]\n"
     ]
    }
   ],
   "source": [
    "x=np.reshape(x,(4,4)) # matrix\n",
    "print(x)"
   ]
  },
  {
   "cell_type": "markdown",
   "id": "70bce88b",
   "metadata": {},
   "source": [
    "### array 인덱싱"
   ]
  },
  {
   "cell_type": "code",
   "execution_count": 62,
   "id": "6310d235",
   "metadata": {},
   "outputs": [
    {
     "name": "stdout",
     "output_type": "stream",
     "text": [
      "[[ 0  1  2  3]\n",
      " [ 4  5  6  7]\n",
      " [ 8  9 10 11]\n",
      " [12 13 14 15]]\n",
      "[0 1 2 3]\n",
      "[[ 1  2  3]\n",
      " [ 5  6  7]\n",
      " [ 9 10 11]]\n",
      "[[ 0  1]\n",
      " [ 4  5]\n",
      " [ 8  9]\n",
      " [12 13]]\n"
     ]
    }
   ],
   "source": [
    "print(x)\n",
    "print(x[0])\n",
    "print(x[0:3,1:4])\n",
    "print(x[:,0:2])"
   ]
  },
  {
   "cell_type": "code",
   "execution_count": 63,
   "id": "564629b8",
   "metadata": {
    "scrolled": true
   },
   "outputs": [
    {
     "name": "stdout",
     "output_type": "stream",
     "text": [
      "1 1\n"
     ]
    }
   ],
   "source": [
    "print(x[0][1],x[0,1]) # 같은 결과 # 리스트에서는 x[0,1] 불가능"
   ]
  },
  {
   "cell_type": "code",
   "execution_count": null,
   "id": "8a20eeeb",
   "metadata": {},
   "outputs": [],
   "source": []
  },
  {
   "cell_type": "markdown",
   "id": "2277e9c4",
   "metadata": {},
   "source": [
    "## Series 자료"
   ]
  },
  {
   "cell_type": "markdown",
   "id": "55d1e979",
   "metadata": {},
   "source": [
    "- Series란 일련의 객체를 담을 수 있는 1차원 배열(array)와 같은 구조이다.  \n",
    "- Series는 서로 다른 자료형(type)을 동시에 가질 수 있다.\n",
    "- Data Frame을 구성하는 하나의 특정 행이나 열로 설명 가능하며, Data Frame의 기본형이라 생각할 수 있다. (Series가 모여 Data Frame이 만들어짐)\n",
    "- pandas 패키지에서 Series 와 DataFrame 이라는 대표적인 두 가지 구조를 제공한다."
   ]
  },
  {
   "cell_type": "markdown",
   "id": "e928021e",
   "metadata": {},
   "source": [
    "### Series 생성"
   ]
  },
  {
   "cell_type": "code",
   "execution_count": 64,
   "id": "5c5cca76",
   "metadata": {},
   "outputs": [],
   "source": [
    "from pandas import Series, DataFrame"
   ]
  },
  {
   "cell_type": "code",
   "execution_count": 65,
   "id": "223af319",
   "metadata": {},
   "outputs": [
    {
     "data": {
      "text/plain": [
       "0       1\n",
       "1       A\n",
       "2    True\n",
       "dtype: object"
      ]
     },
     "execution_count": 65,
     "metadata": {},
     "output_type": "execute_result"
    }
   ],
   "source": [
    "obj1 = Series([1, 'A', True])\n",
    "obj1"
   ]
  },
  {
   "cell_type": "code",
   "execution_count": 31,
   "id": "44829e44",
   "metadata": {},
   "outputs": [
    {
     "data": {
      "text/plain": [
       "0    4\n",
       "1    7\n",
       "2   -5\n",
       "3    3\n",
       "dtype: int64"
      ]
     },
     "execution_count": 31,
     "metadata": {},
     "output_type": "execute_result"
    }
   ],
   "source": [
    "obj2 = Series([4, 7, -5, 3])\n",
    "obj2"
   ]
  },
  {
   "cell_type": "markdown",
   "id": "3377403f",
   "metadata": {},
   "source": [
    "* Python의 기본 자료형인 딕셔너리(dictionary)를 통해 Series를 생성할 수 있다."
   ]
  },
  {
   "cell_type": "code",
   "execution_count": 32,
   "id": "5b632deb",
   "metadata": {},
   "outputs": [
    {
     "data": {
      "text/plain": [
       "Utah      35000\n",
       "Oregon    71000\n",
       "Texas     16000\n",
       "Ohio       5000\n",
       "dtype: int64"
      ]
     },
     "execution_count": 32,
     "metadata": {},
     "output_type": "execute_result"
    }
   ],
   "source": [
    "sdata = {'Utah' : 35000, 'Oregon' : 71000, 'Texas' : 16000, 'Ohio': 5000}\n",
    "obj3 = Series(sdata) \n",
    "obj3   # key 이름 기준으로 정렬되는 것 확인"
   ]
  },
  {
   "cell_type": "markdown",
   "id": "0ed9d7d8",
   "metadata": {},
   "source": [
    "### 색인(index)"
   ]
  },
  {
   "cell_type": "markdown",
   "id": "fee35dc7",
   "metadata": {},
   "source": [
    "Series의 중요한 특징 중 하나는 색인(index)을 가지고 있다.(cf.Dataframe)"
   ]
  },
  {
   "cell_type": "code",
   "execution_count": 66,
   "id": "444953d9",
   "metadata": {},
   "outputs": [
    {
     "data": {
      "text/plain": [
       "a    4\n",
       "b    7\n",
       "c   -5\n",
       "d    3\n",
       "dtype: int64"
      ]
     },
     "execution_count": 66,
     "metadata": {},
     "output_type": "execute_result"
    }
   ],
   "source": [
    "obj4 = Series([4, 7, -5, 3], index=['a', 'b', 'c', 'd'])\n",
    "obj4"
   ]
  },
  {
   "cell_type": "markdown",
   "id": "8dc7923f",
   "metadata": {},
   "source": [
    "* Series의 요소 값(values)와 색인(index)는 values, index 속성을 통해 각각 얻을 수 있다."
   ]
  },
  {
   "cell_type": "code",
   "execution_count": 67,
   "id": "d8f353cd",
   "metadata": {
    "scrolled": true
   },
   "outputs": [
    {
     "name": "stdout",
     "output_type": "stream",
     "text": [
      "[ 4  7 -5  3]\n",
      "Index(['a', 'b', 'c', 'd'], dtype='object')\n",
      "int64\n"
     ]
    }
   ],
   "source": [
    "print(obj4.values) # 객체 값들만 반환\n",
    "print(obj4.index)  # 색인(index)만 반환\n",
    "print(obj4.dtypes) # 자료형"
   ]
  },
  {
   "cell_type": "markdown",
   "id": "e85b72cc",
   "metadata": {},
   "source": [
    "### Series 인덱싱"
   ]
  },
  {
   "cell_type": "markdown",
   "id": "de9cfcd1",
   "metadata": {},
   "source": [
    "* Series의 index 위치나 조건을 가지고 indexing 을 해보겠습니다."
   ]
  },
  {
   "cell_type": "code",
   "execution_count": 68,
   "id": "ccc8b2ea",
   "metadata": {},
   "outputs": [
    {
     "data": {
      "text/plain": [
       "4"
      ]
     },
     "execution_count": 68,
     "metadata": {},
     "output_type": "execute_result"
    }
   ],
   "source": [
    "obj4[0]"
   ]
  },
  {
   "cell_type": "code",
   "execution_count": 69,
   "id": "0ffa7d87",
   "metadata": {},
   "outputs": [
    {
     "data": {
      "text/plain": [
       "a    4\n",
       "b    7\n",
       "c   -5\n",
       "dtype: int64"
      ]
     },
     "execution_count": 69,
     "metadata": {},
     "output_type": "execute_result"
    }
   ],
   "source": [
    "obj4[:3]"
   ]
  },
  {
   "cell_type": "code",
   "execution_count": 70,
   "id": "9e201ecf",
   "metadata": {},
   "outputs": [
    {
     "data": {
      "text/plain": [
       "a    4\n",
       "b    7\n",
       "d    3\n",
       "dtype: int64"
      ]
     },
     "execution_count": 70,
     "metadata": {},
     "output_type": "execute_result"
    }
   ],
   "source": [
    "obj4[obj4 >= obj4.mean()]"
   ]
  },
  {
   "cell_type": "code",
   "execution_count": 71,
   "id": "c000221a",
   "metadata": {},
   "outputs": [
    {
     "data": {
      "text/plain": [
       "a    4\n",
       "dtype: int64"
      ]
     },
     "execution_count": 71,
     "metadata": {},
     "output_type": "execute_result"
    }
   ],
   "source": [
    "# 특정 index label을 지정해서 indexing을 해보겠습니다.\n",
    "obj4[['a']]"
   ]
  },
  {
   "cell_type": "code",
   "execution_count": 72,
   "id": "132cbcd0",
   "metadata": {},
   "outputs": [
    {
     "data": {
      "text/plain": [
       "a    4\n",
       "b    7\n",
       "dtype: int64"
      ]
     },
     "execution_count": 72,
     "metadata": {},
     "output_type": "execute_result"
    }
   ],
   "source": [
    "obj4[['a','b']]"
   ]
  },
  {
   "cell_type": "code",
   "execution_count": 73,
   "id": "b26eb14d",
   "metadata": {},
   "outputs": [
    {
     "data": {
      "text/plain": [
       "a    100\n",
       "b      7\n",
       "c     -5\n",
       "d      3\n",
       "dtype: int64"
      ]
     },
     "execution_count": 73,
     "metadata": {},
     "output_type": "execute_result"
    }
   ],
   "source": [
    "# 특정 index label 을 지정해서 값(value)을 할당해보겠습니다.\n",
    "obj4[['a']]=100\n",
    "obj4"
   ]
  },
  {
   "cell_type": "code",
   "execution_count": 74,
   "id": "7d849f8c",
   "metadata": {},
   "outputs": [
    {
     "data": {
      "text/plain": [
       "True"
      ]
     },
     "execution_count": 74,
     "metadata": {},
     "output_type": "execute_result"
    }
   ],
   "source": [
    "# 특정 index label 이 Series에 들어있는지 아닌지 확인 (boolean True, False) 해보겠습니다\n",
    "'a' in obj4\n"
   ]
  },
  {
   "cell_type": "code",
   "execution_count": 75,
   "id": "664f1f5d",
   "metadata": {},
   "outputs": [
    {
     "data": {
      "text/plain": [
       "False"
      ]
     },
     "execution_count": 75,
     "metadata": {},
     "output_type": "execute_result"
    }
   ],
   "source": [
    "7 in obj4"
   ]
  },
  {
   "cell_type": "code",
   "execution_count": null,
   "id": "e488fa38",
   "metadata": {},
   "outputs": [],
   "source": []
  },
  {
   "cell_type": "markdown",
   "id": "6dc0754c",
   "metadata": {},
   "source": [
    "## dataframe 자료형"
   ]
  },
  {
   "cell_type": "markdown",
   "id": "af4d21ae",
   "metadata": {},
   "source": [
    "- DataFrame은 데이터를 담는 틀(frame)으로 행렬(matrix)와 유사한 구조를 가진다.\n",
    "- 즉, 2차원의 구조로 행(row)과 열(column)으로 이루어져 있다.\n",
    "- 변수(variable) \n",
    "  - 데이터프레임의 한 열(column)로서 구체적인 속성을 나타내는 자료값들의 집합\n",
    "  - 문자, 숫자, 특수문자 및 기호 등으로 이루어진 문자형(character type) 변수와 숫자만으로 이루어진 숫자형(numeric type)변수로 분류됨\n",
    "- 개체(observation) : 데이터프레임의 한 행(row)으로서 동일한 관찰단위에 대한 모든 변수들의 자료값들의 집합"
   ]
  },
  {
   "cell_type": "markdown",
   "id": "eecebbef",
   "metadata": {},
   "source": [
    "### dataframe 만들기"
   ]
  },
  {
   "cell_type": "markdown",
   "id": "de26f20f",
   "metadata": {},
   "source": [
    " DataFrame을 생성하는 가장 기본적인 두 가지 방법은 같은 길이의 리스트(list)가 담긴 사전형(dictionary) 와 Numpy의 배열(array)를 이용하는 것이다. "
   ]
  },
  {
   "cell_type": "code",
   "execution_count": 77,
   "id": "776f3507",
   "metadata": {},
   "outputs": [
    {
     "data": {
      "text/plain": [
       "{'state': ['Ohio', 'Ohio', 'Ohio', 'Nevada', 'Nevada'],\n",
       " 'year': [2000, 2001, 2002, 2001, 2002],\n",
       " 'pop': [1.5, 1.7, 3.6, 2.4, 2.9]}"
      ]
     },
     "execution_count": 77,
     "metadata": {},
     "output_type": "execute_result"
    }
   ],
   "source": [
    "data = {'state' : ['Ohio', 'Ohio', 'Ohio', 'Nevada', 'Nevada'],\n",
    "        'year' : [2000, 2001, 2002, 2001, 2002],\n",
    "        'pop' : [1.5, 1.7, 3.6, 2.4, 2.9]}\n",
    "data"
   ]
  },
  {
   "cell_type": "code",
   "execution_count": 98,
   "id": "89804c4c",
   "metadata": {},
   "outputs": [
    {
     "data": {
      "text/html": [
       "<div>\n",
       "<style scoped>\n",
       "    .dataframe tbody tr th:only-of-type {\n",
       "        vertical-align: middle;\n",
       "    }\n",
       "\n",
       "    .dataframe tbody tr th {\n",
       "        vertical-align: top;\n",
       "    }\n",
       "\n",
       "    .dataframe thead th {\n",
       "        text-align: right;\n",
       "    }\n",
       "</style>\n",
       "<table border=\"1\" class=\"dataframe\">\n",
       "  <thead>\n",
       "    <tr style=\"text-align: right;\">\n",
       "      <th></th>\n",
       "      <th>state</th>\n",
       "      <th>year</th>\n",
       "      <th>pop</th>\n",
       "    </tr>\n",
       "  </thead>\n",
       "  <tbody>\n",
       "    <tr>\n",
       "      <th>0</th>\n",
       "      <td>Ohio</td>\n",
       "      <td>2000</td>\n",
       "      <td>1.5</td>\n",
       "    </tr>\n",
       "    <tr>\n",
       "      <th>1</th>\n",
       "      <td>Ohio</td>\n",
       "      <td>2001</td>\n",
       "      <td>1.7</td>\n",
       "    </tr>\n",
       "    <tr>\n",
       "      <th>2</th>\n",
       "      <td>Ohio</td>\n",
       "      <td>2002</td>\n",
       "      <td>3.6</td>\n",
       "    </tr>\n",
       "    <tr>\n",
       "      <th>3</th>\n",
       "      <td>Nevada</td>\n",
       "      <td>2001</td>\n",
       "      <td>2.4</td>\n",
       "    </tr>\n",
       "    <tr>\n",
       "      <th>4</th>\n",
       "      <td>Nevada</td>\n",
       "      <td>2002</td>\n",
       "      <td>2.9</td>\n",
       "    </tr>\n",
       "  </tbody>\n",
       "</table>\n",
       "</div>"
      ],
      "text/plain": [
       "    state  year  pop\n",
       "0    Ohio  2000  1.5\n",
       "1    Ohio  2001  1.7\n",
       "2    Ohio  2002  3.6\n",
       "3  Nevada  2001  2.4\n",
       "4  Nevada  2002  2.9"
      ]
     },
     "execution_count": 98,
     "metadata": {},
     "output_type": "execute_result"
    }
   ],
   "source": [
    "frame = DataFrame(data)\n",
    "frame"
   ]
  },
  {
   "cell_type": "code",
   "execution_count": 78,
   "id": "5b4a0253",
   "metadata": {},
   "outputs": [
    {
     "data": {
      "text/html": [
       "<div>\n",
       "<style scoped>\n",
       "    .dataframe tbody tr th:only-of-type {\n",
       "        vertical-align: middle;\n",
       "    }\n",
       "\n",
       "    .dataframe tbody tr th {\n",
       "        vertical-align: top;\n",
       "    }\n",
       "\n",
       "    .dataframe thead th {\n",
       "        text-align: right;\n",
       "    }\n",
       "</style>\n",
       "<table border=\"1\" class=\"dataframe\">\n",
       "  <thead>\n",
       "    <tr style=\"text-align: right;\">\n",
       "      <th></th>\n",
       "      <th>year</th>\n",
       "      <th>pop</th>\n",
       "      <th>state</th>\n",
       "    </tr>\n",
       "  </thead>\n",
       "  <tbody>\n",
       "    <tr>\n",
       "      <th>0</th>\n",
       "      <td>2000</td>\n",
       "      <td>1.5</td>\n",
       "      <td>Ohio</td>\n",
       "    </tr>\n",
       "    <tr>\n",
       "      <th>1</th>\n",
       "      <td>2001</td>\n",
       "      <td>1.7</td>\n",
       "      <td>Ohio</td>\n",
       "    </tr>\n",
       "    <tr>\n",
       "      <th>2</th>\n",
       "      <td>2002</td>\n",
       "      <td>3.6</td>\n",
       "      <td>Ohio</td>\n",
       "    </tr>\n",
       "    <tr>\n",
       "      <th>3</th>\n",
       "      <td>2001</td>\n",
       "      <td>2.4</td>\n",
       "      <td>Nevada</td>\n",
       "    </tr>\n",
       "    <tr>\n",
       "      <th>4</th>\n",
       "      <td>2002</td>\n",
       "      <td>2.9</td>\n",
       "      <td>Nevada</td>\n",
       "    </tr>\n",
       "  </tbody>\n",
       "</table>\n",
       "</div>"
      ],
      "text/plain": [
       "   year  pop   state\n",
       "0  2000  1.5    Ohio\n",
       "1  2001  1.7    Ohio\n",
       "2  2002  3.6    Ohio\n",
       "3  2001  2.4  Nevada\n",
       "4  2002  2.9  Nevada"
      ]
     },
     "execution_count": 78,
     "metadata": {},
     "output_type": "execute_result"
    }
   ],
   "source": [
    "DataFrame(data, columns = ['year', 'pop', 'state']) # 순서 바꾸기"
   ]
  },
  {
   "cell_type": "code",
   "execution_count": 79,
   "id": "c4236c86",
   "metadata": {},
   "outputs": [
    {
     "data": {
      "text/html": [
       "<div>\n",
       "<style scoped>\n",
       "    .dataframe tbody tr th:only-of-type {\n",
       "        vertical-align: middle;\n",
       "    }\n",
       "\n",
       "    .dataframe tbody tr th {\n",
       "        vertical-align: top;\n",
       "    }\n",
       "\n",
       "    .dataframe thead th {\n",
       "        text-align: right;\n",
       "    }\n",
       "</style>\n",
       "<table border=\"1\" class=\"dataframe\">\n",
       "  <thead>\n",
       "    <tr style=\"text-align: right;\">\n",
       "      <th></th>\n",
       "      <th>state</th>\n",
       "      <th>year</th>\n",
       "      <th>pop</th>\n",
       "    </tr>\n",
       "  </thead>\n",
       "  <tbody>\n",
       "    <tr>\n",
       "      <th>one</th>\n",
       "      <td>Ohio</td>\n",
       "      <td>2000</td>\n",
       "      <td>1.5</td>\n",
       "    </tr>\n",
       "    <tr>\n",
       "      <th>two</th>\n",
       "      <td>Ohio</td>\n",
       "      <td>2001</td>\n",
       "      <td>1.7</td>\n",
       "    </tr>\n",
       "    <tr>\n",
       "      <th>three</th>\n",
       "      <td>Ohio</td>\n",
       "      <td>2002</td>\n",
       "      <td>3.6</td>\n",
       "    </tr>\n",
       "    <tr>\n",
       "      <th>four</th>\n",
       "      <td>Nevada</td>\n",
       "      <td>2001</td>\n",
       "      <td>2.4</td>\n",
       "    </tr>\n",
       "    <tr>\n",
       "      <th>five</th>\n",
       "      <td>Nevada</td>\n",
       "      <td>2002</td>\n",
       "      <td>2.9</td>\n",
       "    </tr>\n",
       "  </tbody>\n",
       "</table>\n",
       "</div>"
      ],
      "text/plain": [
       "        state  year  pop\n",
       "one      Ohio  2000  1.5\n",
       "two      Ohio  2001  1.7\n",
       "three    Ohio  2002  3.6\n",
       "four   Nevada  2001  2.4\n",
       "five   Nevada  2002  2.9"
      ]
     },
     "execution_count": 79,
     "metadata": {},
     "output_type": "execute_result"
    }
   ],
   "source": [
    "frame2 = DataFrame(data, index=['one', 'two', 'three', 'four', 'five']) # index 설정\n",
    "frame2"
   ]
  },
  {
   "cell_type": "markdown",
   "id": "5673488f",
   "metadata": {},
   "source": [
    "* DataFrame.index 로 index 확인, DataFrame.columns 로 칼럼 확인할 수 있습니다."
   ]
  },
  {
   "cell_type": "code",
   "execution_count": 80,
   "id": "42f46ac8",
   "metadata": {},
   "outputs": [
    {
     "data": {
      "text/plain": [
       "Index(['one', 'two', 'three', 'four', 'five'], dtype='object')"
      ]
     },
     "execution_count": 80,
     "metadata": {},
     "output_type": "execute_result"
    }
   ],
   "source": [
    "frame2.index"
   ]
  },
  {
   "cell_type": "code",
   "execution_count": 81,
   "id": "e6847d71",
   "metadata": {},
   "outputs": [
    {
     "data": {
      "text/plain": [
       "Index(['state', 'year', 'pop'], dtype='object')"
      ]
     },
     "execution_count": 81,
     "metadata": {},
     "output_type": "execute_result"
    }
   ],
   "source": [
    "frame2.columns"
   ]
  },
  {
   "cell_type": "markdown",
   "id": "7cc1b3cb",
   "metadata": {},
   "source": [
    " * 기존 데이터프레임에서 행과 열을 선별해서 새로운 DataFrame을 만들 수 있습니다."
   ]
  },
  {
   "cell_type": "code",
   "execution_count": 82,
   "id": "24802a25",
   "metadata": {
    "scrolled": false
   },
   "outputs": [
    {
     "data": {
      "text/html": [
       "<div>\n",
       "<style scoped>\n",
       "    .dataframe tbody tr th:only-of-type {\n",
       "        vertical-align: middle;\n",
       "    }\n",
       "\n",
       "    .dataframe tbody tr th {\n",
       "        vertical-align: top;\n",
       "    }\n",
       "\n",
       "    .dataframe thead th {\n",
       "        text-align: right;\n",
       "    }\n",
       "</style>\n",
       "<table border=\"1\" class=\"dataframe\">\n",
       "  <thead>\n",
       "    <tr style=\"text-align: right;\">\n",
       "      <th></th>\n",
       "      <th>state</th>\n",
       "      <th>year</th>\n",
       "    </tr>\n",
       "  </thead>\n",
       "  <tbody>\n",
       "    <tr>\n",
       "      <th>one</th>\n",
       "      <td>Ohio</td>\n",
       "      <td>2000</td>\n",
       "    </tr>\n",
       "    <tr>\n",
       "      <th>two</th>\n",
       "      <td>Ohio</td>\n",
       "      <td>2001</td>\n",
       "    </tr>\n",
       "  </tbody>\n",
       "</table>\n",
       "</div>"
      ],
      "text/plain": [
       "    state  year\n",
       "one  Ohio  2000\n",
       "two  Ohio  2001"
      ]
     },
     "execution_count": 82,
     "metadata": {},
     "output_type": "execute_result"
    }
   ],
   "source": [
    "DataFrame(frame2, index=['one', 'two'], columns=['state', 'year'])"
   ]
  },
  {
   "cell_type": "markdown",
   "id": "8e69447f",
   "metadata": {},
   "source": [
    "- DataFrame에서 칼럼 이름을 지정해서 선별하는 방법"
   ]
  },
  {
   "cell_type": "code",
   "execution_count": 83,
   "id": "d56cfb09",
   "metadata": {
    "scrolled": true
   },
   "outputs": [
    {
     "data": {
      "text/html": [
       "<div>\n",
       "<style scoped>\n",
       "    .dataframe tbody tr th:only-of-type {\n",
       "        vertical-align: middle;\n",
       "    }\n",
       "\n",
       "    .dataframe tbody tr th {\n",
       "        vertical-align: top;\n",
       "    }\n",
       "\n",
       "    .dataframe thead th {\n",
       "        text-align: right;\n",
       "    }\n",
       "</style>\n",
       "<table border=\"1\" class=\"dataframe\">\n",
       "  <thead>\n",
       "    <tr style=\"text-align: right;\">\n",
       "      <th></th>\n",
       "      <th>state</th>\n",
       "      <th>pop</th>\n",
       "    </tr>\n",
       "  </thead>\n",
       "  <tbody>\n",
       "    <tr>\n",
       "      <th>one</th>\n",
       "      <td>Ohio</td>\n",
       "      <td>1.5</td>\n",
       "    </tr>\n",
       "    <tr>\n",
       "      <th>two</th>\n",
       "      <td>Ohio</td>\n",
       "      <td>1.7</td>\n",
       "    </tr>\n",
       "    <tr>\n",
       "      <th>three</th>\n",
       "      <td>Ohio</td>\n",
       "      <td>3.6</td>\n",
       "    </tr>\n",
       "    <tr>\n",
       "      <th>four</th>\n",
       "      <td>Nevada</td>\n",
       "      <td>2.4</td>\n",
       "    </tr>\n",
       "    <tr>\n",
       "      <th>five</th>\n",
       "      <td>Nevada</td>\n",
       "      <td>2.9</td>\n",
       "    </tr>\n",
       "  </tbody>\n",
       "</table>\n",
       "</div>"
      ],
      "text/plain": [
       "        state  pop\n",
       "one      Ohio  1.5\n",
       "two      Ohio  1.7\n",
       "three    Ohio  3.6\n",
       "four   Nevada  2.4\n",
       "five   Nevada  2.9"
      ]
     },
     "execution_count": 83,
     "metadata": {},
     "output_type": "execute_result"
    }
   ],
   "source": [
    "frame2[['state','pop']]"
   ]
  },
  {
   "cell_type": "markdown",
   "id": "eb7fda98",
   "metadata": {},
   "source": [
    "- DataFrame의 각 열을 지정해서 불러오는 방법"
   ]
  },
  {
   "cell_type": "code",
   "execution_count": 84,
   "id": "336af8d7",
   "metadata": {},
   "outputs": [
    {
     "data": {
      "text/plain": [
       "one        Ohio\n",
       "two        Ohio\n",
       "three      Ohio\n",
       "four     Nevada\n",
       "five     Nevada\n",
       "Name: state, dtype: object"
      ]
     },
     "execution_count": 84,
     "metadata": {},
     "output_type": "execute_result"
    }
   ],
   "source": [
    "frame2.state"
   ]
  },
  {
   "cell_type": "code",
   "execution_count": 85,
   "id": "7533f0fd",
   "metadata": {},
   "outputs": [
    {
     "data": {
      "text/plain": [
       "one        Ohio\n",
       "two        Ohio\n",
       "three      Ohio\n",
       "four     Nevada\n",
       "five     Nevada\n",
       "Name: state, dtype: object"
      ]
     },
     "execution_count": 85,
     "metadata": {},
     "output_type": "execute_result"
    }
   ],
   "source": [
    "frame2['state']"
   ]
  },
  {
   "cell_type": "code",
   "execution_count": 86,
   "id": "fb6973a1",
   "metadata": {},
   "outputs": [
    {
     "data": {
      "text/html": [
       "<div>\n",
       "<style scoped>\n",
       "    .dataframe tbody tr th:only-of-type {\n",
       "        vertical-align: middle;\n",
       "    }\n",
       "\n",
       "    .dataframe tbody tr th {\n",
       "        vertical-align: top;\n",
       "    }\n",
       "\n",
       "    .dataframe thead th {\n",
       "        text-align: right;\n",
       "    }\n",
       "</style>\n",
       "<table border=\"1\" class=\"dataframe\">\n",
       "  <thead>\n",
       "    <tr style=\"text-align: right;\">\n",
       "      <th></th>\n",
       "      <th>state</th>\n",
       "    </tr>\n",
       "  </thead>\n",
       "  <tbody>\n",
       "    <tr>\n",
       "      <th>one</th>\n",
       "      <td>Ohio</td>\n",
       "    </tr>\n",
       "    <tr>\n",
       "      <th>two</th>\n",
       "      <td>Ohio</td>\n",
       "    </tr>\n",
       "    <tr>\n",
       "      <th>three</th>\n",
       "      <td>Ohio</td>\n",
       "    </tr>\n",
       "    <tr>\n",
       "      <th>four</th>\n",
       "      <td>Nevada</td>\n",
       "    </tr>\n",
       "    <tr>\n",
       "      <th>five</th>\n",
       "      <td>Nevada</td>\n",
       "    </tr>\n",
       "  </tbody>\n",
       "</table>\n",
       "</div>"
      ],
      "text/plain": [
       "        state\n",
       "one      Ohio\n",
       "two      Ohio\n",
       "three    Ohio\n",
       "four   Nevada\n",
       "five   Nevada"
      ]
     },
     "execution_count": 86,
     "metadata": {},
     "output_type": "execute_result"
    }
   ],
   "source": [
    "frame2[['state']]"
   ]
  },
  {
   "cell_type": "markdown",
   "id": "33fffcd3",
   "metadata": {},
   "source": [
    "- DataFrame에 새로운 칼럼을 만들기"
   ]
  },
  {
   "cell_type": "code",
   "execution_count": 87,
   "id": "dcc8a88f",
   "metadata": {},
   "outputs": [
    {
     "data": {
      "text/html": [
       "<div>\n",
       "<style scoped>\n",
       "    .dataframe tbody tr th:only-of-type {\n",
       "        vertical-align: middle;\n",
       "    }\n",
       "\n",
       "    .dataframe tbody tr th {\n",
       "        vertical-align: top;\n",
       "    }\n",
       "\n",
       "    .dataframe thead th {\n",
       "        text-align: right;\n",
       "    }\n",
       "</style>\n",
       "<table border=\"1\" class=\"dataframe\">\n",
       "  <thead>\n",
       "    <tr style=\"text-align: right;\">\n",
       "      <th></th>\n",
       "      <th>state</th>\n",
       "      <th>year</th>\n",
       "      <th>pop</th>\n",
       "      <th>new</th>\n",
       "    </tr>\n",
       "  </thead>\n",
       "  <tbody>\n",
       "    <tr>\n",
       "      <th>one</th>\n",
       "      <td>Ohio</td>\n",
       "      <td>2000</td>\n",
       "      <td>1.5</td>\n",
       "      <td>2001.5</td>\n",
       "    </tr>\n",
       "    <tr>\n",
       "      <th>two</th>\n",
       "      <td>Ohio</td>\n",
       "      <td>2001</td>\n",
       "      <td>1.7</td>\n",
       "      <td>2002.7</td>\n",
       "    </tr>\n",
       "    <tr>\n",
       "      <th>three</th>\n",
       "      <td>Ohio</td>\n",
       "      <td>2002</td>\n",
       "      <td>3.6</td>\n",
       "      <td>2005.6</td>\n",
       "    </tr>\n",
       "    <tr>\n",
       "      <th>four</th>\n",
       "      <td>Nevada</td>\n",
       "      <td>2001</td>\n",
       "      <td>2.4</td>\n",
       "      <td>2003.4</td>\n",
       "    </tr>\n",
       "    <tr>\n",
       "      <th>five</th>\n",
       "      <td>Nevada</td>\n",
       "      <td>2002</td>\n",
       "      <td>2.9</td>\n",
       "      <td>2004.9</td>\n",
       "    </tr>\n",
       "  </tbody>\n",
       "</table>\n",
       "</div>"
      ],
      "text/plain": [
       "        state  year  pop     new\n",
       "one      Ohio  2000  1.5  2001.5\n",
       "two      Ohio  2001  1.7  2002.7\n",
       "three    Ohio  2002  3.6  2005.6\n",
       "four   Nevada  2001  2.4  2003.4\n",
       "five   Nevada  2002  2.9  2004.9"
      ]
     },
     "execution_count": 87,
     "metadata": {},
     "output_type": "execute_result"
    }
   ],
   "source": [
    "frame2['new']=frame2['year']+frame2['pop']\n",
    "frame2"
   ]
  },
  {
   "cell_type": "code",
   "execution_count": 88,
   "id": "c669ec9b",
   "metadata": {},
   "outputs": [
    {
     "data": {
      "text/html": [
       "<div>\n",
       "<style scoped>\n",
       "    .dataframe tbody tr th:only-of-type {\n",
       "        vertical-align: middle;\n",
       "    }\n",
       "\n",
       "    .dataframe tbody tr th {\n",
       "        vertical-align: top;\n",
       "    }\n",
       "\n",
       "    .dataframe thead th {\n",
       "        text-align: right;\n",
       "    }\n",
       "</style>\n",
       "<table border=\"1\" class=\"dataframe\">\n",
       "  <thead>\n",
       "    <tr style=\"text-align: right;\">\n",
       "      <th></th>\n",
       "      <th>state</th>\n",
       "      <th>year</th>\n",
       "      <th>pop</th>\n",
       "      <th>new</th>\n",
       "      <th>new2</th>\n",
       "    </tr>\n",
       "  </thead>\n",
       "  <tbody>\n",
       "    <tr>\n",
       "      <th>one</th>\n",
       "      <td>Ohio</td>\n",
       "      <td>2000</td>\n",
       "      <td>1.5</td>\n",
       "      <td>2001.5</td>\n",
       "      <td>2.25</td>\n",
       "    </tr>\n",
       "    <tr>\n",
       "      <th>two</th>\n",
       "      <td>Ohio</td>\n",
       "      <td>2001</td>\n",
       "      <td>1.7</td>\n",
       "      <td>2002.7</td>\n",
       "      <td>2.89</td>\n",
       "    </tr>\n",
       "    <tr>\n",
       "      <th>three</th>\n",
       "      <td>Ohio</td>\n",
       "      <td>2002</td>\n",
       "      <td>3.6</td>\n",
       "      <td>2005.6</td>\n",
       "      <td>12.96</td>\n",
       "    </tr>\n",
       "    <tr>\n",
       "      <th>four</th>\n",
       "      <td>Nevada</td>\n",
       "      <td>2001</td>\n",
       "      <td>2.4</td>\n",
       "      <td>2003.4</td>\n",
       "      <td>5.76</td>\n",
       "    </tr>\n",
       "    <tr>\n",
       "      <th>five</th>\n",
       "      <td>Nevada</td>\n",
       "      <td>2002</td>\n",
       "      <td>2.9</td>\n",
       "      <td>2004.9</td>\n",
       "      <td>8.41</td>\n",
       "    </tr>\n",
       "  </tbody>\n",
       "</table>\n",
       "</div>"
      ],
      "text/plain": [
       "        state  year  pop     new   new2\n",
       "one      Ohio  2000  1.5  2001.5   2.25\n",
       "two      Ohio  2001  1.7  2002.7   2.89\n",
       "three    Ohio  2002  3.6  2005.6  12.96\n",
       "four   Nevada  2001  2.4  2003.4   5.76\n",
       "five   Nevada  2002  2.9  2004.9   8.41"
      ]
     },
     "execution_count": 88,
     "metadata": {},
     "output_type": "execute_result"
    }
   ],
   "source": [
    "frame2 = frame2.assign(new2 =  frame2['pop']* frame2['pop'])\n",
    "frame2"
   ]
  },
  {
   "cell_type": "markdown",
   "id": "ba152dec",
   "metadata": {},
   "source": [
    "* Numpy 배열 객체로도 DataFrame을 생성할 수 있다."
   ]
  },
  {
   "cell_type": "code",
   "execution_count": 89,
   "id": "92bb7837",
   "metadata": {},
   "outputs": [
    {
     "data": {
      "text/plain": [
       "array([[0, 1, 2],\n",
       "       [3, 4, 5],\n",
       "       [6, 7, 8]])"
      ]
     },
     "execution_count": 89,
     "metadata": {},
     "output_type": "execute_result"
    }
   ],
   "source": [
    "np.arange(9).reshape(3, 3)"
   ]
  },
  {
   "cell_type": "code",
   "execution_count": 90,
   "id": "51d566e2",
   "metadata": {},
   "outputs": [
    {
     "data": {
      "text/plain": [
       "array([[0, 1, 2],\n",
       "       [3, 4, 5],\n",
       "       [6, 7, 8]])"
      ]
     },
     "execution_count": 90,
     "metadata": {},
     "output_type": "execute_result"
    }
   ],
   "source": [
    "np.array([[0, 1, 2],\n",
    "       [3, 4, 5],\n",
    "       [6, 7, 8]])"
   ]
  },
  {
   "cell_type": "code",
   "execution_count": 92,
   "id": "1b3527b4",
   "metadata": {},
   "outputs": [
    {
     "data": {
      "text/html": [
       "<div>\n",
       "<style scoped>\n",
       "    .dataframe tbody tr th:only-of-type {\n",
       "        vertical-align: middle;\n",
       "    }\n",
       "\n",
       "    .dataframe tbody tr th {\n",
       "        vertical-align: top;\n",
       "    }\n",
       "\n",
       "    .dataframe thead th {\n",
       "        text-align: right;\n",
       "    }\n",
       "</style>\n",
       "<table border=\"1\" class=\"dataframe\">\n",
       "  <thead>\n",
       "    <tr style=\"text-align: right;\">\n",
       "      <th></th>\n",
       "      <th>x</th>\n",
       "      <th>y</th>\n",
       "      <th>z</th>\n",
       "    </tr>\n",
       "  </thead>\n",
       "  <tbody>\n",
       "    <tr>\n",
       "      <th>a</th>\n",
       "      <td>0</td>\n",
       "      <td>1</td>\n",
       "      <td>2</td>\n",
       "    </tr>\n",
       "    <tr>\n",
       "      <th>b</th>\n",
       "      <td>3</td>\n",
       "      <td>4</td>\n",
       "      <td>5</td>\n",
       "    </tr>\n",
       "    <tr>\n",
       "      <th>d</th>\n",
       "      <td>6</td>\n",
       "      <td>7</td>\n",
       "      <td>8</td>\n",
       "    </tr>\n",
       "  </tbody>\n",
       "</table>\n",
       "</div>"
      ],
      "text/plain": [
       "   x  y  z\n",
       "a  0  1  2\n",
       "b  3  4  5\n",
       "d  6  7  8"
      ]
     },
     "execution_count": 92,
     "metadata": {},
     "output_type": "execute_result"
    }
   ],
   "source": [
    "num = DataFrame(np.arange(9).reshape(3, 3),\n",
    "                index=[\"a\", \"b\", \"d\"], \n",
    "                columns=[\"x\", \"y\", \"z\"])\n",
    "num"
   ]
  },
  {
   "cell_type": "markdown",
   "id": "a7be39d8",
   "metadata": {},
   "source": [
    "- DataFrame의 칼럼을 삭제하는 방법에는 다음의 두가지 방법이 있습니다.\n",
    "  1. df.drop(['xx', 'xx']\n",
    "  2. del df['xx'] :  원본 데이터프레임에서 칼럼을 삭제합니다."
   ]
  },
  {
   "cell_type": "code",
   "execution_count": 93,
   "id": "fbfe6c39",
   "metadata": {
    "scrolled": true
   },
   "outputs": [
    {
     "data": {
      "text/html": [
       "<div>\n",
       "<style scoped>\n",
       "    .dataframe tbody tr th:only-of-type {\n",
       "        vertical-align: middle;\n",
       "    }\n",
       "\n",
       "    .dataframe tbody tr th {\n",
       "        vertical-align: top;\n",
       "    }\n",
       "\n",
       "    .dataframe thead th {\n",
       "        text-align: right;\n",
       "    }\n",
       "</style>\n",
       "<table border=\"1\" class=\"dataframe\">\n",
       "  <thead>\n",
       "    <tr style=\"text-align: right;\">\n",
       "      <th></th>\n",
       "      <th>state</th>\n",
       "      <th>year</th>\n",
       "      <th>pop</th>\n",
       "      <th>new</th>\n",
       "    </tr>\n",
       "  </thead>\n",
       "  <tbody>\n",
       "    <tr>\n",
       "      <th>one</th>\n",
       "      <td>Ohio</td>\n",
       "      <td>2000</td>\n",
       "      <td>1.5</td>\n",
       "      <td>2001.5</td>\n",
       "    </tr>\n",
       "    <tr>\n",
       "      <th>two</th>\n",
       "      <td>Ohio</td>\n",
       "      <td>2001</td>\n",
       "      <td>1.7</td>\n",
       "      <td>2002.7</td>\n",
       "    </tr>\n",
       "    <tr>\n",
       "      <th>three</th>\n",
       "      <td>Ohio</td>\n",
       "      <td>2002</td>\n",
       "      <td>3.6</td>\n",
       "      <td>2005.6</td>\n",
       "    </tr>\n",
       "    <tr>\n",
       "      <th>four</th>\n",
       "      <td>Nevada</td>\n",
       "      <td>2001</td>\n",
       "      <td>2.4</td>\n",
       "      <td>2003.4</td>\n",
       "    </tr>\n",
       "    <tr>\n",
       "      <th>five</th>\n",
       "      <td>Nevada</td>\n",
       "      <td>2002</td>\n",
       "      <td>2.9</td>\n",
       "      <td>2004.9</td>\n",
       "    </tr>\n",
       "  </tbody>\n",
       "</table>\n",
       "</div>"
      ],
      "text/plain": [
       "        state  year  pop     new\n",
       "one      Ohio  2000  1.5  2001.5\n",
       "two      Ohio  2001  1.7  2002.7\n",
       "three    Ohio  2002  3.6  2005.6\n",
       "four   Nevada  2001  2.4  2003.4\n",
       "five   Nevada  2002  2.9  2004.9"
      ]
     },
     "execution_count": 93,
     "metadata": {},
     "output_type": "execute_result"
    }
   ],
   "source": [
    "frame2.drop(['new2'],axis=1) #  axis=0은 행, axis=1은 열을 기준으로 삭제"
   ]
  },
  {
   "cell_type": "code",
   "execution_count": 94,
   "id": "5efcafca",
   "metadata": {},
   "outputs": [
    {
     "data": {
      "text/html": [
       "<div>\n",
       "<style scoped>\n",
       "    .dataframe tbody tr th:only-of-type {\n",
       "        vertical-align: middle;\n",
       "    }\n",
       "\n",
       "    .dataframe tbody tr th {\n",
       "        vertical-align: top;\n",
       "    }\n",
       "\n",
       "    .dataframe thead th {\n",
       "        text-align: right;\n",
       "    }\n",
       "</style>\n",
       "<table border=\"1\" class=\"dataframe\">\n",
       "  <thead>\n",
       "    <tr style=\"text-align: right;\">\n",
       "      <th></th>\n",
       "      <th>state</th>\n",
       "      <th>year</th>\n",
       "      <th>pop</th>\n",
       "      <th>new</th>\n",
       "      <th>new2</th>\n",
       "    </tr>\n",
       "  </thead>\n",
       "  <tbody>\n",
       "    <tr>\n",
       "      <th>one</th>\n",
       "      <td>Ohio</td>\n",
       "      <td>2000</td>\n",
       "      <td>1.5</td>\n",
       "      <td>2001.5</td>\n",
       "      <td>2.25</td>\n",
       "    </tr>\n",
       "    <tr>\n",
       "      <th>two</th>\n",
       "      <td>Ohio</td>\n",
       "      <td>2001</td>\n",
       "      <td>1.7</td>\n",
       "      <td>2002.7</td>\n",
       "      <td>2.89</td>\n",
       "    </tr>\n",
       "    <tr>\n",
       "      <th>three</th>\n",
       "      <td>Ohio</td>\n",
       "      <td>2002</td>\n",
       "      <td>3.6</td>\n",
       "      <td>2005.6</td>\n",
       "      <td>12.96</td>\n",
       "    </tr>\n",
       "    <tr>\n",
       "      <th>four</th>\n",
       "      <td>Nevada</td>\n",
       "      <td>2001</td>\n",
       "      <td>2.4</td>\n",
       "      <td>2003.4</td>\n",
       "      <td>5.76</td>\n",
       "    </tr>\n",
       "    <tr>\n",
       "      <th>five</th>\n",
       "      <td>Nevada</td>\n",
       "      <td>2002</td>\n",
       "      <td>2.9</td>\n",
       "      <td>2004.9</td>\n",
       "      <td>8.41</td>\n",
       "    </tr>\n",
       "  </tbody>\n",
       "</table>\n",
       "</div>"
      ],
      "text/plain": [
       "        state  year  pop     new   new2\n",
       "one      Ohio  2000  1.5  2001.5   2.25\n",
       "two      Ohio  2001  1.7  2002.7   2.89\n",
       "three    Ohio  2002  3.6  2005.6  12.96\n",
       "four   Nevada  2001  2.4  2003.4   5.76\n",
       "five   Nevada  2002  2.9  2004.9   8.41"
      ]
     },
     "execution_count": 94,
     "metadata": {},
     "output_type": "execute_result"
    }
   ],
   "source": [
    "frame2"
   ]
  },
  {
   "cell_type": "code",
   "execution_count": 95,
   "id": "18acde27",
   "metadata": {},
   "outputs": [],
   "source": [
    "del frame2['new2']"
   ]
  },
  {
   "cell_type": "code",
   "execution_count": 96,
   "id": "910c3894",
   "metadata": {
    "scrolled": true
   },
   "outputs": [
    {
     "data": {
      "text/html": [
       "<div>\n",
       "<style scoped>\n",
       "    .dataframe tbody tr th:only-of-type {\n",
       "        vertical-align: middle;\n",
       "    }\n",
       "\n",
       "    .dataframe tbody tr th {\n",
       "        vertical-align: top;\n",
       "    }\n",
       "\n",
       "    .dataframe thead th {\n",
       "        text-align: right;\n",
       "    }\n",
       "</style>\n",
       "<table border=\"1\" class=\"dataframe\">\n",
       "  <thead>\n",
       "    <tr style=\"text-align: right;\">\n",
       "      <th></th>\n",
       "      <th>state</th>\n",
       "      <th>year</th>\n",
       "      <th>pop</th>\n",
       "      <th>new</th>\n",
       "    </tr>\n",
       "  </thead>\n",
       "  <tbody>\n",
       "    <tr>\n",
       "      <th>one</th>\n",
       "      <td>Ohio</td>\n",
       "      <td>2000</td>\n",
       "      <td>1.5</td>\n",
       "      <td>2001.5</td>\n",
       "    </tr>\n",
       "    <tr>\n",
       "      <th>two</th>\n",
       "      <td>Ohio</td>\n",
       "      <td>2001</td>\n",
       "      <td>1.7</td>\n",
       "      <td>2002.7</td>\n",
       "    </tr>\n",
       "    <tr>\n",
       "      <th>three</th>\n",
       "      <td>Ohio</td>\n",
       "      <td>2002</td>\n",
       "      <td>3.6</td>\n",
       "      <td>2005.6</td>\n",
       "    </tr>\n",
       "    <tr>\n",
       "      <th>four</th>\n",
       "      <td>Nevada</td>\n",
       "      <td>2001</td>\n",
       "      <td>2.4</td>\n",
       "      <td>2003.4</td>\n",
       "    </tr>\n",
       "    <tr>\n",
       "      <th>five</th>\n",
       "      <td>Nevada</td>\n",
       "      <td>2002</td>\n",
       "      <td>2.9</td>\n",
       "      <td>2004.9</td>\n",
       "    </tr>\n",
       "  </tbody>\n",
       "</table>\n",
       "</div>"
      ],
      "text/plain": [
       "        state  year  pop     new\n",
       "one      Ohio  2000  1.5  2001.5\n",
       "two      Ohio  2001  1.7  2002.7\n",
       "three    Ohio  2002  3.6  2005.6\n",
       "four   Nevada  2001  2.4  2003.4\n",
       "five   Nevada  2002  2.9  2004.9"
      ]
     },
     "execution_count": 96,
     "metadata": {},
     "output_type": "execute_result"
    }
   ],
   "source": [
    "frame2"
   ]
  },
  {
   "cell_type": "code",
   "execution_count": null,
   "id": "4423da63",
   "metadata": {},
   "outputs": [],
   "source": []
  },
  {
   "cell_type": "markdown",
   "id": "abe3f54f",
   "metadata": {},
   "source": [
    "### 데이터 프레임 관련 유용한 함수"
   ]
  },
  {
   "cell_type": "markdown",
   "id": "62b7fe45",
   "metadata": {},
   "source": [
    "- 데이터프레임에 관한 정보를 얻기에 유용한 함수\n",
    "- dataframe 이름: df\n",
    "    \n",
    "|Operation    | Description |\n",
    "|:--------:| :----:|\n",
    "| df.head(n)\t|  데이터 프레임에서 상위 n개의 행을 보여줌. (default n=5)|\n",
    "| df.tail(n)\t| 데이터 프레임에서 하위 n개의 행을 보여줌. (default n=5)|\n",
    "| df.shape\t| 데이터 프레임의 (행,열)의 개수 |\n",
    "| df.info( )\t| 데이터 프레임의 기본 정보 출력(각 칼럼 별 데이터 수, 데이터 타입)|\n",
    "| df.describe()\t| 수치형 변수들의 기초 통계량 값 제공|\n",
    "| df.columns\t| 데이터 프레임에 어떤 column이 있는지 보여줌|\n",
    "| df['칼럼 명'].dtype| 특정 칼럼의 데이터 타입 확인|\n",
    "| df[\"칼럼 명\"].unique()| 특정 칼럼에 있는 데이터들의 유일한 값|\n",
    "| df[\"칼럼 명\"].nunique()| 특정 칼럼에 있는 데이터들의 유일한 값의 갯수|"
   ]
  },
  {
   "cell_type": "code",
   "execution_count": 99,
   "id": "811d9845",
   "metadata": {},
   "outputs": [
    {
     "data": {
      "text/html": [
       "<div>\n",
       "<style scoped>\n",
       "    .dataframe tbody tr th:only-of-type {\n",
       "        vertical-align: middle;\n",
       "    }\n",
       "\n",
       "    .dataframe tbody tr th {\n",
       "        vertical-align: top;\n",
       "    }\n",
       "\n",
       "    .dataframe thead th {\n",
       "        text-align: right;\n",
       "    }\n",
       "</style>\n",
       "<table border=\"1\" class=\"dataframe\">\n",
       "  <thead>\n",
       "    <tr style=\"text-align: right;\">\n",
       "      <th></th>\n",
       "      <th>state</th>\n",
       "      <th>year</th>\n",
       "      <th>pop</th>\n",
       "    </tr>\n",
       "  </thead>\n",
       "  <tbody>\n",
       "    <tr>\n",
       "      <th>0</th>\n",
       "      <td>Ohio</td>\n",
       "      <td>2000</td>\n",
       "      <td>1.5</td>\n",
       "    </tr>\n",
       "    <tr>\n",
       "      <th>1</th>\n",
       "      <td>Ohio</td>\n",
       "      <td>2001</td>\n",
       "      <td>1.7</td>\n",
       "    </tr>\n",
       "    <tr>\n",
       "      <th>2</th>\n",
       "      <td>Ohio</td>\n",
       "      <td>2002</td>\n",
       "      <td>3.6</td>\n",
       "    </tr>\n",
       "    <tr>\n",
       "      <th>3</th>\n",
       "      <td>Nevada</td>\n",
       "      <td>2001</td>\n",
       "      <td>2.4</td>\n",
       "    </tr>\n",
       "    <tr>\n",
       "      <th>4</th>\n",
       "      <td>Nevada</td>\n",
       "      <td>2002</td>\n",
       "      <td>2.9</td>\n",
       "    </tr>\n",
       "  </tbody>\n",
       "</table>\n",
       "</div>"
      ],
      "text/plain": [
       "    state  year  pop\n",
       "0    Ohio  2000  1.5\n",
       "1    Ohio  2001  1.7\n",
       "2    Ohio  2002  3.6\n",
       "3  Nevada  2001  2.4\n",
       "4  Nevada  2002  2.9"
      ]
     },
     "execution_count": 99,
     "metadata": {},
     "output_type": "execute_result"
    }
   ],
   "source": [
    "frame.head() # 데이터 프레임에서 상위 n개의 행을 보여줌. (default n=5)"
   ]
  },
  {
   "cell_type": "code",
   "execution_count": 100,
   "id": "073c49ea",
   "metadata": {},
   "outputs": [
    {
     "data": {
      "text/html": [
       "<div>\n",
       "<style scoped>\n",
       "    .dataframe tbody tr th:only-of-type {\n",
       "        vertical-align: middle;\n",
       "    }\n",
       "\n",
       "    .dataframe tbody tr th {\n",
       "        vertical-align: top;\n",
       "    }\n",
       "\n",
       "    .dataframe thead th {\n",
       "        text-align: right;\n",
       "    }\n",
       "</style>\n",
       "<table border=\"1\" class=\"dataframe\">\n",
       "  <thead>\n",
       "    <tr style=\"text-align: right;\">\n",
       "      <th></th>\n",
       "      <th>state</th>\n",
       "      <th>year</th>\n",
       "      <th>pop</th>\n",
       "    </tr>\n",
       "  </thead>\n",
       "  <tbody>\n",
       "    <tr>\n",
       "      <th>3</th>\n",
       "      <td>Nevada</td>\n",
       "      <td>2001</td>\n",
       "      <td>2.4</td>\n",
       "    </tr>\n",
       "    <tr>\n",
       "      <th>4</th>\n",
       "      <td>Nevada</td>\n",
       "      <td>2002</td>\n",
       "      <td>2.9</td>\n",
       "    </tr>\n",
       "  </tbody>\n",
       "</table>\n",
       "</div>"
      ],
      "text/plain": [
       "    state  year  pop\n",
       "3  Nevada  2001  2.4\n",
       "4  Nevada  2002  2.9"
      ]
     },
     "execution_count": 100,
     "metadata": {},
     "output_type": "execute_result"
    }
   ],
   "source": [
    "frame.tail(2) # 데이터 프레임에서 하위 n개의 행을 보여줌. (default n=5)"
   ]
  },
  {
   "cell_type": "code",
   "execution_count": 101,
   "id": "07fe0566",
   "metadata": {},
   "outputs": [
    {
     "data": {
      "text/plain": [
       "(5, 3)"
      ]
     },
     "execution_count": 101,
     "metadata": {},
     "output_type": "execute_result"
    }
   ],
   "source": [
    "frame.shape # 데이터 프레임의 (행,열)의 개수 "
   ]
  },
  {
   "cell_type": "code",
   "execution_count": 102,
   "id": "5a9c41f9",
   "metadata": {},
   "outputs": [
    {
     "name": "stdout",
     "output_type": "stream",
     "text": [
      "<class 'pandas.core.frame.DataFrame'>\n",
      "RangeIndex: 5 entries, 0 to 4\n",
      "Data columns (total 3 columns):\n",
      " #   Column  Non-Null Count  Dtype  \n",
      "---  ------  --------------  -----  \n",
      " 0   state   5 non-null      object \n",
      " 1   year    5 non-null      int64  \n",
      " 2   pop     5 non-null      float64\n",
      "dtypes: float64(1), int64(1), object(1)\n",
      "memory usage: 248.0+ bytes\n"
     ]
    }
   ],
   "source": [
    "frame.info( ) # 데이터 프레임의 기본 정보 출력(각 칼럼 별 데이터 수, 데이터 타입)"
   ]
  },
  {
   "cell_type": "code",
   "execution_count": 103,
   "id": "4e842270",
   "metadata": {},
   "outputs": [
    {
     "data": {
      "text/html": [
       "<div>\n",
       "<style scoped>\n",
       "    .dataframe tbody tr th:only-of-type {\n",
       "        vertical-align: middle;\n",
       "    }\n",
       "\n",
       "    .dataframe tbody tr th {\n",
       "        vertical-align: top;\n",
       "    }\n",
       "\n",
       "    .dataframe thead th {\n",
       "        text-align: right;\n",
       "    }\n",
       "</style>\n",
       "<table border=\"1\" class=\"dataframe\">\n",
       "  <thead>\n",
       "    <tr style=\"text-align: right;\">\n",
       "      <th></th>\n",
       "      <th>year</th>\n",
       "      <th>pop</th>\n",
       "    </tr>\n",
       "  </thead>\n",
       "  <tbody>\n",
       "    <tr>\n",
       "      <th>count</th>\n",
       "      <td>5.00000</td>\n",
       "      <td>5.000000</td>\n",
       "    </tr>\n",
       "    <tr>\n",
       "      <th>mean</th>\n",
       "      <td>2001.20000</td>\n",
       "      <td>2.420000</td>\n",
       "    </tr>\n",
       "    <tr>\n",
       "      <th>std</th>\n",
       "      <td>0.83666</td>\n",
       "      <td>0.864292</td>\n",
       "    </tr>\n",
       "    <tr>\n",
       "      <th>min</th>\n",
       "      <td>2000.00000</td>\n",
       "      <td>1.500000</td>\n",
       "    </tr>\n",
       "    <tr>\n",
       "      <th>25%</th>\n",
       "      <td>2001.00000</td>\n",
       "      <td>1.700000</td>\n",
       "    </tr>\n",
       "    <tr>\n",
       "      <th>50%</th>\n",
       "      <td>2001.00000</td>\n",
       "      <td>2.400000</td>\n",
       "    </tr>\n",
       "    <tr>\n",
       "      <th>75%</th>\n",
       "      <td>2002.00000</td>\n",
       "      <td>2.900000</td>\n",
       "    </tr>\n",
       "    <tr>\n",
       "      <th>max</th>\n",
       "      <td>2002.00000</td>\n",
       "      <td>3.600000</td>\n",
       "    </tr>\n",
       "  </tbody>\n",
       "</table>\n",
       "</div>"
      ],
      "text/plain": [
       "             year       pop\n",
       "count     5.00000  5.000000\n",
       "mean   2001.20000  2.420000\n",
       "std       0.83666  0.864292\n",
       "min    2000.00000  1.500000\n",
       "25%    2001.00000  1.700000\n",
       "50%    2001.00000  2.400000\n",
       "75%    2002.00000  2.900000\n",
       "max    2002.00000  3.600000"
      ]
     },
     "execution_count": 103,
     "metadata": {},
     "output_type": "execute_result"
    }
   ],
   "source": [
    "frame.describe() # 수치형 변수들의 기초 통계량 값 제공"
   ]
  },
  {
   "cell_type": "code",
   "execution_count": 104,
   "id": "0b88b5b6",
   "metadata": {},
   "outputs": [
    {
     "data": {
      "text/plain": [
       "Index(['state', 'year', 'pop'], dtype='object')"
      ]
     },
     "execution_count": 104,
     "metadata": {},
     "output_type": "execute_result"
    }
   ],
   "source": [
    "frame.columns #데이터 프레임에 어떤 column이 있는지 보여줌"
   ]
  },
  {
   "cell_type": "code",
   "execution_count": 105,
   "id": "b5e99e03",
   "metadata": {},
   "outputs": [
    {
     "data": {
      "text/plain": [
       "dtype('float64')"
      ]
     },
     "execution_count": 105,
     "metadata": {},
     "output_type": "execute_result"
    }
   ],
   "source": [
    "frame['pop'].dtype # 특정 칼럼의 데이터 타입 확인"
   ]
  },
  {
   "cell_type": "code",
   "execution_count": 106,
   "id": "e892bf2f",
   "metadata": {},
   "outputs": [
    {
     "data": {
      "text/plain": [
       "array([2000, 2001, 2002], dtype=int64)"
      ]
     },
     "execution_count": 106,
     "metadata": {},
     "output_type": "execute_result"
    }
   ],
   "source": [
    "frame[\"year\"].unique() # 특정 칼럼에 있는 데이터들의 유일한 값"
   ]
  },
  {
   "cell_type": "code",
   "execution_count": 77,
   "id": "c3954f81",
   "metadata": {
    "scrolled": false
   },
   "outputs": [
    {
     "data": {
      "text/plain": [
       "3"
      ]
     },
     "execution_count": 77,
     "metadata": {},
     "output_type": "execute_result"
    }
   ],
   "source": [
    "frame[\"year\"].nunique() # 특정 칼럼에 있는 데이터들의 유일한 값의 갯수"
   ]
  },
  {
   "cell_type": "code",
   "execution_count": null,
   "id": "9bad868a",
   "metadata": {},
   "outputs": [],
   "source": []
  },
  {
   "cell_type": "markdown",
   "id": "471a7fb6",
   "metadata": {},
   "source": [
    "### dataframe의 인덱싱"
   ]
  },
  {
   "cell_type": "markdown",
   "id": "b6c0b9b4",
   "metadata": {},
   "source": [
    "* DataFrame의 행(row)과 열(column)을 선택"
   ]
  },
  {
   "cell_type": "markdown",
   "id": "f35a1be5",
   "metadata": {},
   "source": [
    "  1. Selecting column form DataFrame"
   ]
  },
  {
   "cell_type": "code",
   "execution_count": 107,
   "id": "bb6f14a4",
   "metadata": {},
   "outputs": [
    {
     "data": {
      "text/plain": [
       "one        Ohio\n",
       "two        Ohio\n",
       "three      Ohio\n",
       "four     Nevada\n",
       "five     Nevada\n",
       "Name: state, dtype: object"
      ]
     },
     "execution_count": 107,
     "metadata": {},
     "output_type": "execute_result"
    }
   ],
   "source": [
    "frame2['state'] "
   ]
  },
  {
   "cell_type": "code",
   "execution_count": 108,
   "id": "b7a59544",
   "metadata": {
    "scrolled": true
   },
   "outputs": [
    {
     "data": {
      "text/plain": [
       "one        Ohio\n",
       "two        Ohio\n",
       "three      Ohio\n",
       "four     Nevada\n",
       "five     Nevada\n",
       "Name: state, dtype: object"
      ]
     },
     "execution_count": 108,
     "metadata": {},
     "output_type": "execute_result"
    }
   ],
   "source": [
    "frame2.state"
   ]
  },
  {
   "cell_type": "markdown",
   "id": "c63273ba",
   "metadata": {},
   "source": [
    "  2. selecting row from DataFrame"
   ]
  },
  {
   "cell_type": "code",
   "execution_count": 109,
   "id": "6d2d14fd",
   "metadata": {},
   "outputs": [
    {
     "data": {
      "text/html": [
       "<div>\n",
       "<style scoped>\n",
       "    .dataframe tbody tr th:only-of-type {\n",
       "        vertical-align: middle;\n",
       "    }\n",
       "\n",
       "    .dataframe tbody tr th {\n",
       "        vertical-align: top;\n",
       "    }\n",
       "\n",
       "    .dataframe thead th {\n",
       "        text-align: right;\n",
       "    }\n",
       "</style>\n",
       "<table border=\"1\" class=\"dataframe\">\n",
       "  <thead>\n",
       "    <tr style=\"text-align: right;\">\n",
       "      <th></th>\n",
       "      <th>state</th>\n",
       "      <th>year</th>\n",
       "      <th>pop</th>\n",
       "      <th>new</th>\n",
       "    </tr>\n",
       "  </thead>\n",
       "  <tbody>\n",
       "    <tr>\n",
       "      <th>one</th>\n",
       "      <td>Ohio</td>\n",
       "      <td>2000</td>\n",
       "      <td>1.5</td>\n",
       "      <td>2001.5</td>\n",
       "    </tr>\n",
       "    <tr>\n",
       "      <th>two</th>\n",
       "      <td>Ohio</td>\n",
       "      <td>2001</td>\n",
       "      <td>1.7</td>\n",
       "      <td>2002.7</td>\n",
       "    </tr>\n",
       "  </tbody>\n",
       "</table>\n",
       "</div>"
      ],
      "text/plain": [
       "    state  year  pop     new\n",
       "one  Ohio  2000  1.5  2001.5\n",
       "two  Ohio  2001  1.7  2002.7"
      ]
     },
     "execution_count": 109,
     "metadata": {},
     "output_type": "execute_result"
    }
   ],
   "source": [
    "frame2[0:2] "
   ]
  },
  {
   "cell_type": "code",
   "execution_count": 110,
   "id": "da2fea72",
   "metadata": {},
   "outputs": [
    {
     "data": {
      "text/plain": [
       "one    Ohio\n",
       "two    Ohio\n",
       "Name: state, dtype: object"
      ]
     },
     "execution_count": 110,
     "metadata": {},
     "output_type": "execute_result"
    }
   ],
   "source": [
    "frame2['state'][0:2] # indexing 'column' and 'row' from DataFrame"
   ]
  },
  {
   "cell_type": "code",
   "execution_count": 111,
   "id": "bf670420",
   "metadata": {
    "scrolled": true
   },
   "outputs": [
    {
     "data": {
      "text/plain": [
       "one    Ohio\n",
       "two    Ohio\n",
       "Name: state, dtype: object"
      ]
     },
     "execution_count": 111,
     "metadata": {},
     "output_type": "execute_result"
    }
   ],
   "source": [
    "frame2.state[0:2]"
   ]
  },
  {
   "cell_type": "markdown",
   "id": "e1fdb834",
   "metadata": {},
   "source": [
    "- 조건을 부여해서 열을 선택할 수도 있습니다."
   ]
  },
  {
   "cell_type": "code",
   "execution_count": 112,
   "id": "62aaaf23",
   "metadata": {
    "scrolled": true
   },
   "outputs": [
    {
     "data": {
      "text/html": [
       "<div>\n",
       "<style scoped>\n",
       "    .dataframe tbody tr th:only-of-type {\n",
       "        vertical-align: middle;\n",
       "    }\n",
       "\n",
       "    .dataframe tbody tr th {\n",
       "        vertical-align: top;\n",
       "    }\n",
       "\n",
       "    .dataframe thead th {\n",
       "        text-align: right;\n",
       "    }\n",
       "</style>\n",
       "<table border=\"1\" class=\"dataframe\">\n",
       "  <thead>\n",
       "    <tr style=\"text-align: right;\">\n",
       "      <th></th>\n",
       "      <th>state</th>\n",
       "      <th>year</th>\n",
       "      <th>pop</th>\n",
       "      <th>new</th>\n",
       "    </tr>\n",
       "  </thead>\n",
       "  <tbody>\n",
       "    <tr>\n",
       "      <th>one</th>\n",
       "      <td>Ohio</td>\n",
       "      <td>2000</td>\n",
       "      <td>1.5</td>\n",
       "      <td>2001.5</td>\n",
       "    </tr>\n",
       "    <tr>\n",
       "      <th>two</th>\n",
       "      <td>Ohio</td>\n",
       "      <td>2001</td>\n",
       "      <td>1.7</td>\n",
       "      <td>2002.7</td>\n",
       "    </tr>\n",
       "    <tr>\n",
       "      <th>four</th>\n",
       "      <td>Nevada</td>\n",
       "      <td>2001</td>\n",
       "      <td>2.4</td>\n",
       "      <td>2003.4</td>\n",
       "    </tr>\n",
       "  </tbody>\n",
       "</table>\n",
       "</div>"
      ],
      "text/plain": [
       "       state  year  pop     new\n",
       "one     Ohio  2000  1.5  2001.5\n",
       "two     Ohio  2001  1.7  2002.7\n",
       "four  Nevada  2001  2.4  2003.4"
      ]
     },
     "execution_count": 112,
     "metadata": {},
     "output_type": "execute_result"
    }
   ],
   "source": [
    "frame2[frame2['year'] <= 2001]"
   ]
  },
  {
   "cell_type": "code",
   "execution_count": 114,
   "id": "b55d3270",
   "metadata": {},
   "outputs": [
    {
     "ename": "InvalidIndexError",
     "evalue": "(1, slice(0, 2, None))",
     "output_type": "error",
     "traceback": [
      "\u001b[1;31m---------------------------------------------------------------------------\u001b[0m",
      "\u001b[1;31mTypeError\u001b[0m                                 Traceback (most recent call last)",
      "File \u001b[1;32m~\\anaconda3\\lib\\site-packages\\pandas\\core\\indexes\\base.py:3802\u001b[0m, in \u001b[0;36mIndex.get_loc\u001b[1;34m(self, key, method, tolerance)\u001b[0m\n\u001b[0;32m   3801\u001b[0m \u001b[38;5;28;01mtry\u001b[39;00m:\n\u001b[1;32m-> 3802\u001b[0m     \u001b[38;5;28;01mreturn\u001b[39;00m \u001b[38;5;28;43mself\u001b[39;49m\u001b[38;5;241;43m.\u001b[39;49m\u001b[43m_engine\u001b[49m\u001b[38;5;241;43m.\u001b[39;49m\u001b[43mget_loc\u001b[49m\u001b[43m(\u001b[49m\u001b[43mcasted_key\u001b[49m\u001b[43m)\u001b[49m\n\u001b[0;32m   3803\u001b[0m \u001b[38;5;28;01mexcept\u001b[39;00m \u001b[38;5;167;01mKeyError\u001b[39;00m \u001b[38;5;28;01mas\u001b[39;00m err:\n",
      "File \u001b[1;32m~\\anaconda3\\lib\\site-packages\\pandas\\_libs\\index.pyx:138\u001b[0m, in \u001b[0;36mpandas._libs.index.IndexEngine.get_loc\u001b[1;34m()\u001b[0m\n",
      "File \u001b[1;32m~\\anaconda3\\lib\\site-packages\\pandas\\_libs\\index.pyx:144\u001b[0m, in \u001b[0;36mpandas._libs.index.IndexEngine.get_loc\u001b[1;34m()\u001b[0m\n",
      "\u001b[1;31mTypeError\u001b[0m: '(1, slice(0, 2, None))' is an invalid key",
      "\nDuring handling of the above exception, another exception occurred:\n",
      "\u001b[1;31mInvalidIndexError\u001b[0m                         Traceback (most recent call last)",
      "Cell \u001b[1;32mIn[114], line 1\u001b[0m\n\u001b[1;32m----> 1\u001b[0m \u001b[43mframe2\u001b[49m\u001b[43m[\u001b[49m\u001b[38;5;241;43m1\u001b[39;49m\u001b[43m,\u001b[49m\u001b[38;5;241;43m0\u001b[39;49m\u001b[43m:\u001b[49m\u001b[38;5;241;43m2\u001b[39;49m\u001b[43m]\u001b[49m\n",
      "File \u001b[1;32m~\\anaconda3\\lib\\site-packages\\pandas\\core\\frame.py:3807\u001b[0m, in \u001b[0;36mDataFrame.__getitem__\u001b[1;34m(self, key)\u001b[0m\n\u001b[0;32m   3805\u001b[0m \u001b[38;5;28;01mif\u001b[39;00m \u001b[38;5;28mself\u001b[39m\u001b[38;5;241m.\u001b[39mcolumns\u001b[38;5;241m.\u001b[39mnlevels \u001b[38;5;241m>\u001b[39m \u001b[38;5;241m1\u001b[39m:\n\u001b[0;32m   3806\u001b[0m     \u001b[38;5;28;01mreturn\u001b[39;00m \u001b[38;5;28mself\u001b[39m\u001b[38;5;241m.\u001b[39m_getitem_multilevel(key)\n\u001b[1;32m-> 3807\u001b[0m indexer \u001b[38;5;241m=\u001b[39m \u001b[38;5;28;43mself\u001b[39;49m\u001b[38;5;241;43m.\u001b[39;49m\u001b[43mcolumns\u001b[49m\u001b[38;5;241;43m.\u001b[39;49m\u001b[43mget_loc\u001b[49m\u001b[43m(\u001b[49m\u001b[43mkey\u001b[49m\u001b[43m)\u001b[49m\n\u001b[0;32m   3808\u001b[0m \u001b[38;5;28;01mif\u001b[39;00m is_integer(indexer):\n\u001b[0;32m   3809\u001b[0m     indexer \u001b[38;5;241m=\u001b[39m [indexer]\n",
      "File \u001b[1;32m~\\anaconda3\\lib\\site-packages\\pandas\\core\\indexes\\base.py:3809\u001b[0m, in \u001b[0;36mIndex.get_loc\u001b[1;34m(self, key, method, tolerance)\u001b[0m\n\u001b[0;32m   3804\u001b[0m         \u001b[38;5;28;01mraise\u001b[39;00m \u001b[38;5;167;01mKeyError\u001b[39;00m(key) \u001b[38;5;28;01mfrom\u001b[39;00m \u001b[38;5;21;01merr\u001b[39;00m\n\u001b[0;32m   3805\u001b[0m     \u001b[38;5;28;01mexcept\u001b[39;00m \u001b[38;5;167;01mTypeError\u001b[39;00m:\n\u001b[0;32m   3806\u001b[0m         \u001b[38;5;66;03m# If we have a listlike key, _check_indexing_error will raise\u001b[39;00m\n\u001b[0;32m   3807\u001b[0m         \u001b[38;5;66;03m#  InvalidIndexError. Otherwise we fall through and re-raise\u001b[39;00m\n\u001b[0;32m   3808\u001b[0m         \u001b[38;5;66;03m#  the TypeError.\u001b[39;00m\n\u001b[1;32m-> 3809\u001b[0m         \u001b[38;5;28;43mself\u001b[39;49m\u001b[38;5;241;43m.\u001b[39;49m\u001b[43m_check_indexing_error\u001b[49m\u001b[43m(\u001b[49m\u001b[43mkey\u001b[49m\u001b[43m)\u001b[49m\n\u001b[0;32m   3810\u001b[0m         \u001b[38;5;28;01mraise\u001b[39;00m\n\u001b[0;32m   3812\u001b[0m \u001b[38;5;66;03m# GH#42269\u001b[39;00m\n",
      "File \u001b[1;32m~\\anaconda3\\lib\\site-packages\\pandas\\core\\indexes\\base.py:5925\u001b[0m, in \u001b[0;36mIndex._check_indexing_error\u001b[1;34m(self, key)\u001b[0m\n\u001b[0;32m   5921\u001b[0m \u001b[38;5;28;01mdef\u001b[39;00m \u001b[38;5;21m_check_indexing_error\u001b[39m(\u001b[38;5;28mself\u001b[39m, key):\n\u001b[0;32m   5922\u001b[0m     \u001b[38;5;28;01mif\u001b[39;00m \u001b[38;5;129;01mnot\u001b[39;00m is_scalar(key):\n\u001b[0;32m   5923\u001b[0m         \u001b[38;5;66;03m# if key is not a scalar, directly raise an error (the code below\u001b[39;00m\n\u001b[0;32m   5924\u001b[0m         \u001b[38;5;66;03m# would convert to numpy arrays and raise later any way) - GH29926\u001b[39;00m\n\u001b[1;32m-> 5925\u001b[0m         \u001b[38;5;28;01mraise\u001b[39;00m InvalidIndexError(key)\n",
      "\u001b[1;31mInvalidIndexError\u001b[0m: (1, slice(0, 2, None))"
     ]
    }
   ],
   "source": [
    "frame2[1,0:2]  # error, loc와 iloc를 사용해서 인덱싱 해야됨"
   ]
  },
  {
   "cell_type": "code",
   "execution_count": 85,
   "id": "ca1d6e45",
   "metadata": {},
   "outputs": [
    {
     "ename": "KeyError",
     "evalue": "(1, 'state')",
     "output_type": "error",
     "traceback": [
      "\u001b[1;31m---------------------------------------------------------------------------\u001b[0m",
      "\u001b[1;31mKeyError\u001b[0m                                  Traceback (most recent call last)",
      "File \u001b[1;32m~\\anaconda3\\lib\\site-packages\\pandas\\core\\indexes\\base.py:3802\u001b[0m, in \u001b[0;36mIndex.get_loc\u001b[1;34m(self, key, method, tolerance)\u001b[0m\n\u001b[0;32m   3801\u001b[0m \u001b[38;5;28;01mtry\u001b[39;00m:\n\u001b[1;32m-> 3802\u001b[0m     \u001b[38;5;28;01mreturn\u001b[39;00m \u001b[38;5;28;43mself\u001b[39;49m\u001b[38;5;241;43m.\u001b[39;49m\u001b[43m_engine\u001b[49m\u001b[38;5;241;43m.\u001b[39;49m\u001b[43mget_loc\u001b[49m\u001b[43m(\u001b[49m\u001b[43mcasted_key\u001b[49m\u001b[43m)\u001b[49m\n\u001b[0;32m   3803\u001b[0m \u001b[38;5;28;01mexcept\u001b[39;00m \u001b[38;5;167;01mKeyError\u001b[39;00m \u001b[38;5;28;01mas\u001b[39;00m err:\n",
      "File \u001b[1;32m~\\anaconda3\\lib\\site-packages\\pandas\\_libs\\index.pyx:138\u001b[0m, in \u001b[0;36mpandas._libs.index.IndexEngine.get_loc\u001b[1;34m()\u001b[0m\n",
      "File \u001b[1;32m~\\anaconda3\\lib\\site-packages\\pandas\\_libs\\index.pyx:165\u001b[0m, in \u001b[0;36mpandas._libs.index.IndexEngine.get_loc\u001b[1;34m()\u001b[0m\n",
      "File \u001b[1;32mpandas\\_libs\\hashtable_class_helper.pxi:5745\u001b[0m, in \u001b[0;36mpandas._libs.hashtable.PyObjectHashTable.get_item\u001b[1;34m()\u001b[0m\n",
      "File \u001b[1;32mpandas\\_libs\\hashtable_class_helper.pxi:5753\u001b[0m, in \u001b[0;36mpandas._libs.hashtable.PyObjectHashTable.get_item\u001b[1;34m()\u001b[0m\n",
      "\u001b[1;31mKeyError\u001b[0m: (1, 'state')",
      "\nThe above exception was the direct cause of the following exception:\n",
      "\u001b[1;31mKeyError\u001b[0m                                  Traceback (most recent call last)",
      "Cell \u001b[1;32mIn[85], line 1\u001b[0m\n\u001b[1;32m----> 1\u001b[0m \u001b[43mframe2\u001b[49m\u001b[43m[\u001b[49m\u001b[38;5;241;43m1\u001b[39;49m\u001b[43m,\u001b[49m\u001b[38;5;124;43m\"\u001b[39;49m\u001b[38;5;124;43mstate\u001b[39;49m\u001b[38;5;124;43m\"\u001b[39;49m\u001b[43m]\u001b[49m\n",
      "File \u001b[1;32m~\\anaconda3\\lib\\site-packages\\pandas\\core\\frame.py:3807\u001b[0m, in \u001b[0;36mDataFrame.__getitem__\u001b[1;34m(self, key)\u001b[0m\n\u001b[0;32m   3805\u001b[0m \u001b[38;5;28;01mif\u001b[39;00m \u001b[38;5;28mself\u001b[39m\u001b[38;5;241m.\u001b[39mcolumns\u001b[38;5;241m.\u001b[39mnlevels \u001b[38;5;241m>\u001b[39m \u001b[38;5;241m1\u001b[39m:\n\u001b[0;32m   3806\u001b[0m     \u001b[38;5;28;01mreturn\u001b[39;00m \u001b[38;5;28mself\u001b[39m\u001b[38;5;241m.\u001b[39m_getitem_multilevel(key)\n\u001b[1;32m-> 3807\u001b[0m indexer \u001b[38;5;241m=\u001b[39m \u001b[38;5;28;43mself\u001b[39;49m\u001b[38;5;241;43m.\u001b[39;49m\u001b[43mcolumns\u001b[49m\u001b[38;5;241;43m.\u001b[39;49m\u001b[43mget_loc\u001b[49m\u001b[43m(\u001b[49m\u001b[43mkey\u001b[49m\u001b[43m)\u001b[49m\n\u001b[0;32m   3808\u001b[0m \u001b[38;5;28;01mif\u001b[39;00m is_integer(indexer):\n\u001b[0;32m   3809\u001b[0m     indexer \u001b[38;5;241m=\u001b[39m [indexer]\n",
      "File \u001b[1;32m~\\anaconda3\\lib\\site-packages\\pandas\\core\\indexes\\base.py:3804\u001b[0m, in \u001b[0;36mIndex.get_loc\u001b[1;34m(self, key, method, tolerance)\u001b[0m\n\u001b[0;32m   3802\u001b[0m     \u001b[38;5;28;01mreturn\u001b[39;00m \u001b[38;5;28mself\u001b[39m\u001b[38;5;241m.\u001b[39m_engine\u001b[38;5;241m.\u001b[39mget_loc(casted_key)\n\u001b[0;32m   3803\u001b[0m \u001b[38;5;28;01mexcept\u001b[39;00m \u001b[38;5;167;01mKeyError\u001b[39;00m \u001b[38;5;28;01mas\u001b[39;00m err:\n\u001b[1;32m-> 3804\u001b[0m     \u001b[38;5;28;01mraise\u001b[39;00m \u001b[38;5;167;01mKeyError\u001b[39;00m(key) \u001b[38;5;28;01mfrom\u001b[39;00m \u001b[38;5;21;01merr\u001b[39;00m\n\u001b[0;32m   3805\u001b[0m \u001b[38;5;28;01mexcept\u001b[39;00m \u001b[38;5;167;01mTypeError\u001b[39;00m:\n\u001b[0;32m   3806\u001b[0m     \u001b[38;5;66;03m# If we have a listlike key, _check_indexing_error will raise\u001b[39;00m\n\u001b[0;32m   3807\u001b[0m     \u001b[38;5;66;03m#  InvalidIndexError. Otherwise we fall through and re-raise\u001b[39;00m\n\u001b[0;32m   3808\u001b[0m     \u001b[38;5;66;03m#  the TypeError.\u001b[39;00m\n\u001b[0;32m   3809\u001b[0m     \u001b[38;5;28mself\u001b[39m\u001b[38;5;241m.\u001b[39m_check_indexing_error(key)\n",
      "\u001b[1;31mKeyError\u001b[0m: (1, 'state')"
     ]
    }
   ],
   "source": [
    "frame2[1,\"state\"] # error, loc와 iloc를 사용해서 인덱싱 해야됨"
   ]
  },
  {
   "cell_type": "code",
   "execution_count": null,
   "id": "5faf0152",
   "metadata": {},
   "outputs": [],
   "source": []
  },
  {
   "cell_type": "markdown",
   "id": "d3a6977a",
   "metadata": {},
   "source": [
    "## loc와 iloc를 사용해서 인덱싱과 슬라이싱하기"
   ]
  },
  {
   "cell_type": "markdown",
   "id": "d6deabbc",
   "metadata": {},
   "source": [
    "- loc, iloc의 두가지 방법    "
   ]
  },
  {
   "cell_type": "markdown",
   "id": "0f6e2bd0",
   "metadata": {},
   "source": [
    "- loc: (location) 우리가 설정한 인덱스(행 기준)이나 column(열) 이름을 이용해 subdata를 출력한다.  \n",
    "    (Boolean을 입력값으로 받을 수도 있다. 인덱스는 디폴트로 0,1,2,...도 가능)\n",
    "  - row 선택\n",
    "      - df.loc[\"인덱스 이름\"] : 단일 label로 row 선택. Series로 나옴\n",
    "      - df.loc[[\"인덱스 이름1\",\"인덱스 이름2\"]] : list나 array로 row 선택        \n",
    "      - df.loc[:\"인덱스 이름\"] : slice로 row 선택    \n",
    "  - row, column 선택  \n",
    "      - df.loc[[\"인덱스 이름\"], [\"칼럼 이름\"]]   \n",
    "  - column 선택  \n",
    "      - df.loc[:, [\"칼럼 이름\"]]     "
   ]
  },
  {
   "cell_type": "markdown",
   "id": "4a977779",
   "metadata": {},
   "source": [
    "- iloc: (integer location) DataFrame에 저장되어 있는 고유 인덱스 번호(정수)로 인덱싱과 슬라이싱 \n",
    "  - row 선택   \n",
    "      - df.iloc[2] : 단일 label로 row 선택\n",
    "      - df.iloc[[0,1,2]] : list나 array로 row 선택\n",
    "      - df.iloc[0:2] : slice로 row 선택\n",
    "  - column 선택    \n",
    "      - df.iloc[:, 0:2]"
   ]
  },
  {
   "cell_type": "markdown",
   "id": "a4985f21",
   "metadata": {},
   "source": [
    "### loc 사용하기"
   ]
  },
  {
   "cell_type": "markdown",
   "id": "944f79d4",
   "metadata": {},
   "source": [
    "#### row 선택"
   ]
  },
  {
   "cell_type": "code",
   "execution_count": 115,
   "id": "1dd6dc99",
   "metadata": {},
   "outputs": [
    {
     "data": {
      "text/html": [
       "<div>\n",
       "<style scoped>\n",
       "    .dataframe tbody tr th:only-of-type {\n",
       "        vertical-align: middle;\n",
       "    }\n",
       "\n",
       "    .dataframe tbody tr th {\n",
       "        vertical-align: top;\n",
       "    }\n",
       "\n",
       "    .dataframe thead th {\n",
       "        text-align: right;\n",
       "    }\n",
       "</style>\n",
       "<table border=\"1\" class=\"dataframe\">\n",
       "  <thead>\n",
       "    <tr style=\"text-align: right;\">\n",
       "      <th></th>\n",
       "      <th>state</th>\n",
       "      <th>year</th>\n",
       "      <th>pop</th>\n",
       "      <th>new</th>\n",
       "    </tr>\n",
       "  </thead>\n",
       "  <tbody>\n",
       "    <tr>\n",
       "      <th>one</th>\n",
       "      <td>Ohio</td>\n",
       "      <td>2000</td>\n",
       "      <td>1.5</td>\n",
       "      <td>2001.5</td>\n",
       "    </tr>\n",
       "    <tr>\n",
       "      <th>two</th>\n",
       "      <td>Ohio</td>\n",
       "      <td>2001</td>\n",
       "      <td>1.7</td>\n",
       "      <td>2002.7</td>\n",
       "    </tr>\n",
       "  </tbody>\n",
       "</table>\n",
       "</div>"
      ],
      "text/plain": [
       "    state  year  pop     new\n",
       "one  Ohio  2000  1.5  2001.5\n",
       "two  Ohio  2001  1.7  2002.7"
      ]
     },
     "execution_count": 115,
     "metadata": {},
     "output_type": "execute_result"
    }
   ],
   "source": [
    "frame2.loc[['one','two']] # df.loc[\"인덱스 이름1\", \"인덱스 이름2\"]"
   ]
  },
  {
   "cell_type": "markdown",
   "id": "f6134faa",
   "metadata": {},
   "source": [
    "기본적으로 .loc과 iloc을 사용해 single column을 불러오면 Series 형식으로 저장된다. 이를 Dataframe 형태로 불러오기 위해 list를 사용한다. "
   ]
  },
  {
   "cell_type": "code",
   "execution_count": 116,
   "id": "72adaca5",
   "metadata": {},
   "outputs": [
    {
     "data": {
      "text/plain": [
       "state    Ohio\n",
       "year     2001\n",
       "pop       1.7\n",
       "Name: 1, dtype: object"
      ]
     },
     "execution_count": 116,
     "metadata": {},
     "output_type": "execute_result"
    }
   ],
   "source": [
    "frame.loc[1] # Series로 나옴, 인덱스 이름이 없는 경우 "
   ]
  },
  {
   "cell_type": "code",
   "execution_count": 117,
   "id": "5cb86156",
   "metadata": {},
   "outputs": [
    {
     "data": {
      "text/html": [
       "<div>\n",
       "<style scoped>\n",
       "    .dataframe tbody tr th:only-of-type {\n",
       "        vertical-align: middle;\n",
       "    }\n",
       "\n",
       "    .dataframe tbody tr th {\n",
       "        vertical-align: top;\n",
       "    }\n",
       "\n",
       "    .dataframe thead th {\n",
       "        text-align: right;\n",
       "    }\n",
       "</style>\n",
       "<table border=\"1\" class=\"dataframe\">\n",
       "  <thead>\n",
       "    <tr style=\"text-align: right;\">\n",
       "      <th></th>\n",
       "      <th>state</th>\n",
       "      <th>year</th>\n",
       "      <th>pop</th>\n",
       "    </tr>\n",
       "  </thead>\n",
       "  <tbody>\n",
       "    <tr>\n",
       "      <th>1</th>\n",
       "      <td>Ohio</td>\n",
       "      <td>2001</td>\n",
       "      <td>1.7</td>\n",
       "    </tr>\n",
       "  </tbody>\n",
       "</table>\n",
       "</div>"
      ],
      "text/plain": [
       "  state  year  pop\n",
       "1  Ohio  2001  1.7"
      ]
     },
     "execution_count": 117,
     "metadata": {},
     "output_type": "execute_result"
    }
   ],
   "source": [
    "frame.loc[[1]]  # [[\"\"]]:DataFrame으로 나옴, \n",
    "\n",
    "# frame2.loc[[1]] 는 error   #  frame2는 인덱스가 \"one\", \"two\",..."
   ]
  },
  {
   "cell_type": "code",
   "execution_count": 118,
   "id": "dbe39b1a",
   "metadata": {},
   "outputs": [
    {
     "data": {
      "text/html": [
       "<div>\n",
       "<style scoped>\n",
       "    .dataframe tbody tr th:only-of-type {\n",
       "        vertical-align: middle;\n",
       "    }\n",
       "\n",
       "    .dataframe tbody tr th {\n",
       "        vertical-align: top;\n",
       "    }\n",
       "\n",
       "    .dataframe thead th {\n",
       "        text-align: right;\n",
       "    }\n",
       "</style>\n",
       "<table border=\"1\" class=\"dataframe\">\n",
       "  <thead>\n",
       "    <tr style=\"text-align: right;\">\n",
       "      <th></th>\n",
       "      <th>state</th>\n",
       "      <th>year</th>\n",
       "      <th>pop</th>\n",
       "    </tr>\n",
       "  </thead>\n",
       "  <tbody>\n",
       "    <tr>\n",
       "      <th>1</th>\n",
       "      <td>Ohio</td>\n",
       "      <td>2001</td>\n",
       "      <td>1.7</td>\n",
       "    </tr>\n",
       "    <tr>\n",
       "      <th>2</th>\n",
       "      <td>Ohio</td>\n",
       "      <td>2002</td>\n",
       "      <td>3.6</td>\n",
       "    </tr>\n",
       "  </tbody>\n",
       "</table>\n",
       "</div>"
      ],
      "text/plain": [
       "  state  year  pop\n",
       "1  Ohio  2001  1.7\n",
       "2  Ohio  2002  3.6"
      ]
     },
     "execution_count": 118,
     "metadata": {},
     "output_type": "execute_result"
    }
   ],
   "source": [
    "frame.loc[1:2] "
   ]
  },
  {
   "cell_type": "code",
   "execution_count": 119,
   "id": "b1b925f3",
   "metadata": {},
   "outputs": [
    {
     "data": {
      "text/html": [
       "<div>\n",
       "<style scoped>\n",
       "    .dataframe tbody tr th:only-of-type {\n",
       "        vertical-align: middle;\n",
       "    }\n",
       "\n",
       "    .dataframe tbody tr th {\n",
       "        vertical-align: top;\n",
       "    }\n",
       "\n",
       "    .dataframe thead th {\n",
       "        text-align: right;\n",
       "    }\n",
       "</style>\n",
       "<table border=\"1\" class=\"dataframe\">\n",
       "  <thead>\n",
       "    <tr style=\"text-align: right;\">\n",
       "      <th></th>\n",
       "      <th>state</th>\n",
       "      <th>year</th>\n",
       "      <th>pop</th>\n",
       "    </tr>\n",
       "  </thead>\n",
       "  <tbody>\n",
       "    <tr>\n",
       "      <th>1</th>\n",
       "      <td>Ohio</td>\n",
       "      <td>2001</td>\n",
       "      <td>1.7</td>\n",
       "    </tr>\n",
       "    <tr>\n",
       "      <th>2</th>\n",
       "      <td>Ohio</td>\n",
       "      <td>2002</td>\n",
       "      <td>3.6</td>\n",
       "    </tr>\n",
       "  </tbody>\n",
       "</table>\n",
       "</div>"
      ],
      "text/plain": [
       "  state  year  pop\n",
       "1  Ohio  2001  1.7\n",
       "2  Ohio  2002  3.6"
      ]
     },
     "execution_count": 119,
     "metadata": {},
     "output_type": "execute_result"
    }
   ],
   "source": [
    "frame.loc[[1,2]]\n",
    "\n",
    "# frame2.loc[1:2] # error. # frame2는 인덱스가 \"one\", \"two\",..."
   ]
  },
  {
   "cell_type": "markdown",
   "id": "1cefe6dd",
   "metadata": {},
   "source": [
    "#### row, column 선택"
   ]
  },
  {
   "cell_type": "code",
   "execution_count": 120,
   "id": "28cec2a8",
   "metadata": {},
   "outputs": [
    {
     "data": {
      "text/html": [
       "<div>\n",
       "<style scoped>\n",
       "    .dataframe tbody tr th:only-of-type {\n",
       "        vertical-align: middle;\n",
       "    }\n",
       "\n",
       "    .dataframe tbody tr th {\n",
       "        vertical-align: top;\n",
       "    }\n",
       "\n",
       "    .dataframe thead th {\n",
       "        text-align: right;\n",
       "    }\n",
       "</style>\n",
       "<table border=\"1\" class=\"dataframe\">\n",
       "  <thead>\n",
       "    <tr style=\"text-align: right;\">\n",
       "      <th></th>\n",
       "      <th>state</th>\n",
       "    </tr>\n",
       "  </thead>\n",
       "  <tbody>\n",
       "    <tr>\n",
       "      <th>1</th>\n",
       "      <td>Ohio</td>\n",
       "    </tr>\n",
       "  </tbody>\n",
       "</table>\n",
       "</div>"
      ],
      "text/plain": [
       "  state\n",
       "1  Ohio"
      ]
     },
     "execution_count": 120,
     "metadata": {},
     "output_type": "execute_result"
    }
   ],
   "source": [
    "frame.loc[[1],[\"state\"]] # df.loc[[\"인덱스 이름\"], [\"칼럼 이름\"]]   # DataFrame으로 나옴, "
   ]
  },
  {
   "cell_type": "code",
   "execution_count": 121,
   "id": "ba6b618a",
   "metadata": {},
   "outputs": [
    {
     "data": {
      "text/plain": [
       "'Ohio'"
      ]
     },
     "execution_count": 121,
     "metadata": {},
     "output_type": "execute_result"
    }
   ],
   "source": [
    "frame.loc[1,\"state\"] # df.loc[\"인덱스 이름\", \"칼럼 이름\"]  # Series 출력"
   ]
  },
  {
   "cell_type": "code",
   "execution_count": 122,
   "id": "fd155645",
   "metadata": {},
   "outputs": [
    {
     "data": {
      "text/html": [
       "<div>\n",
       "<style scoped>\n",
       "    .dataframe tbody tr th:only-of-type {\n",
       "        vertical-align: middle;\n",
       "    }\n",
       "\n",
       "    .dataframe tbody tr th {\n",
       "        vertical-align: top;\n",
       "    }\n",
       "\n",
       "    .dataframe thead th {\n",
       "        text-align: right;\n",
       "    }\n",
       "</style>\n",
       "<table border=\"1\" class=\"dataframe\">\n",
       "  <thead>\n",
       "    <tr style=\"text-align: right;\">\n",
       "      <th></th>\n",
       "      <th>state</th>\n",
       "      <th>pop</th>\n",
       "    </tr>\n",
       "  </thead>\n",
       "  <tbody>\n",
       "    <tr>\n",
       "      <th>1</th>\n",
       "      <td>Ohio</td>\n",
       "      <td>1.7</td>\n",
       "    </tr>\n",
       "    <tr>\n",
       "      <th>2</th>\n",
       "      <td>Ohio</td>\n",
       "      <td>3.6</td>\n",
       "    </tr>\n",
       "  </tbody>\n",
       "</table>\n",
       "</div>"
      ],
      "text/plain": [
       "  state  pop\n",
       "1  Ohio  1.7\n",
       "2  Ohio  3.6"
      ]
     },
     "execution_count": 122,
     "metadata": {},
     "output_type": "execute_result"
    }
   ],
   "source": [
    "frame.loc[1:2,[\"state\",\"pop\"]]"
   ]
  },
  {
   "cell_type": "markdown",
   "id": "065022bd",
   "metadata": {},
   "source": [
    "#### column 선택"
   ]
  },
  {
   "cell_type": "code",
   "execution_count": 123,
   "id": "c2f64ef6",
   "metadata": {},
   "outputs": [
    {
     "data": {
      "text/html": [
       "<div>\n",
       "<style scoped>\n",
       "    .dataframe tbody tr th:only-of-type {\n",
       "        vertical-align: middle;\n",
       "    }\n",
       "\n",
       "    .dataframe tbody tr th {\n",
       "        vertical-align: top;\n",
       "    }\n",
       "\n",
       "    .dataframe thead th {\n",
       "        text-align: right;\n",
       "    }\n",
       "</style>\n",
       "<table border=\"1\" class=\"dataframe\">\n",
       "  <thead>\n",
       "    <tr style=\"text-align: right;\">\n",
       "      <th></th>\n",
       "      <th>state</th>\n",
       "      <th>pop</th>\n",
       "    </tr>\n",
       "  </thead>\n",
       "  <tbody>\n",
       "    <tr>\n",
       "      <th>0</th>\n",
       "      <td>Ohio</td>\n",
       "      <td>1.5</td>\n",
       "    </tr>\n",
       "    <tr>\n",
       "      <th>1</th>\n",
       "      <td>Ohio</td>\n",
       "      <td>1.7</td>\n",
       "    </tr>\n",
       "    <tr>\n",
       "      <th>2</th>\n",
       "      <td>Ohio</td>\n",
       "      <td>3.6</td>\n",
       "    </tr>\n",
       "    <tr>\n",
       "      <th>3</th>\n",
       "      <td>Nevada</td>\n",
       "      <td>2.4</td>\n",
       "    </tr>\n",
       "    <tr>\n",
       "      <th>4</th>\n",
       "      <td>Nevada</td>\n",
       "      <td>2.9</td>\n",
       "    </tr>\n",
       "  </tbody>\n",
       "</table>\n",
       "</div>"
      ],
      "text/plain": [
       "    state  pop\n",
       "0    Ohio  1.5\n",
       "1    Ohio  1.7\n",
       "2    Ohio  3.6\n",
       "3  Nevada  2.4\n",
       "4  Nevada  2.9"
      ]
     },
     "execution_count": 123,
     "metadata": {},
     "output_type": "execute_result"
    }
   ],
   "source": [
    "frame.loc[:,[\"state\",\"pop\"]] # 행만 선택"
   ]
  },
  {
   "cell_type": "markdown",
   "id": "805dca6d",
   "metadata": {},
   "source": [
    "### iloc 사용하기"
   ]
  },
  {
   "cell_type": "markdown",
   "id": "5c50d418",
   "metadata": {},
   "source": [
    "* index의 label 이 아니라 정수(integer)로 indexing을 하려면 df.iloc[int] 를 사용해야 합니다. \n",
    "* 만약 df.loc[int]를 사용하면 TypeError 가 발생합니다."
   ]
  },
  {
   "cell_type": "markdown",
   "id": "16a7e391",
   "metadata": {},
   "source": [
    "#### row 선택"
   ]
  },
  {
   "cell_type": "code",
   "execution_count": 124,
   "id": "f560edd1",
   "metadata": {},
   "outputs": [
    {
     "data": {
      "text/plain": [
       "state      Ohio\n",
       "year       2000\n",
       "pop         1.5\n",
       "new      2001.5\n",
       "Name: one, dtype: object"
      ]
     },
     "execution_count": 124,
     "metadata": {},
     "output_type": "execute_result"
    }
   ],
   "source": [
    "frame2.iloc[0]"
   ]
  },
  {
   "cell_type": "code",
   "execution_count": 125,
   "id": "e53b0aa5",
   "metadata": {},
   "outputs": [
    {
     "data": {
      "text/html": [
       "<div>\n",
       "<style scoped>\n",
       "    .dataframe tbody tr th:only-of-type {\n",
       "        vertical-align: middle;\n",
       "    }\n",
       "\n",
       "    .dataframe tbody tr th {\n",
       "        vertical-align: top;\n",
       "    }\n",
       "\n",
       "    .dataframe thead th {\n",
       "        text-align: right;\n",
       "    }\n",
       "</style>\n",
       "<table border=\"1\" class=\"dataframe\">\n",
       "  <thead>\n",
       "    <tr style=\"text-align: right;\">\n",
       "      <th></th>\n",
       "      <th>state</th>\n",
       "      <th>year</th>\n",
       "      <th>pop</th>\n",
       "      <th>new</th>\n",
       "    </tr>\n",
       "  </thead>\n",
       "  <tbody>\n",
       "    <tr>\n",
       "      <th>one</th>\n",
       "      <td>Ohio</td>\n",
       "      <td>2000</td>\n",
       "      <td>1.5</td>\n",
       "      <td>2001.5</td>\n",
       "    </tr>\n",
       "    <tr>\n",
       "      <th>two</th>\n",
       "      <td>Ohio</td>\n",
       "      <td>2001</td>\n",
       "      <td>1.7</td>\n",
       "      <td>2002.7</td>\n",
       "    </tr>\n",
       "  </tbody>\n",
       "</table>\n",
       "</div>"
      ],
      "text/plain": [
       "    state  year  pop     new\n",
       "one  Ohio  2000  1.5  2001.5\n",
       "two  Ohio  2001  1.7  2002.7"
      ]
     },
     "execution_count": 125,
     "metadata": {},
     "output_type": "execute_result"
    }
   ],
   "source": [
    "frame2.iloc[0:2]  "
   ]
  },
  {
   "cell_type": "markdown",
   "id": "c7a27130",
   "metadata": {},
   "source": [
    "#### column 선택"
   ]
  },
  {
   "cell_type": "markdown",
   "id": "1413230e",
   "metadata": {},
   "source": [
    "* DataFrame의 행(row) indexing할 때 df[0:2] 처럼 행의 범위를 ':'로 설정해주어도 됩니다. \n",
    "* df[0] 처럼 정수값을 지정하면 KeyError 납니다(이때는 df.iloc[0] 을 써야 함)"
   ]
  },
  {
   "cell_type": "code",
   "execution_count": 126,
   "id": "affd9dda",
   "metadata": {},
   "outputs": [
    {
     "data": {
      "text/html": [
       "<div>\n",
       "<style scoped>\n",
       "    .dataframe tbody tr th:only-of-type {\n",
       "        vertical-align: middle;\n",
       "    }\n",
       "\n",
       "    .dataframe tbody tr th {\n",
       "        vertical-align: top;\n",
       "    }\n",
       "\n",
       "    .dataframe thead th {\n",
       "        text-align: right;\n",
       "    }\n",
       "</style>\n",
       "<table border=\"1\" class=\"dataframe\">\n",
       "  <thead>\n",
       "    <tr style=\"text-align: right;\">\n",
       "      <th></th>\n",
       "      <th>state</th>\n",
       "      <th>year</th>\n",
       "    </tr>\n",
       "  </thead>\n",
       "  <tbody>\n",
       "    <tr>\n",
       "      <th>one</th>\n",
       "      <td>Ohio</td>\n",
       "      <td>2000</td>\n",
       "    </tr>\n",
       "    <tr>\n",
       "      <th>two</th>\n",
       "      <td>Ohio</td>\n",
       "      <td>2001</td>\n",
       "    </tr>\n",
       "    <tr>\n",
       "      <th>three</th>\n",
       "      <td>Ohio</td>\n",
       "      <td>2002</td>\n",
       "    </tr>\n",
       "    <tr>\n",
       "      <th>four</th>\n",
       "      <td>Nevada</td>\n",
       "      <td>2001</td>\n",
       "    </tr>\n",
       "    <tr>\n",
       "      <th>five</th>\n",
       "      <td>Nevada</td>\n",
       "      <td>2002</td>\n",
       "    </tr>\n",
       "  </tbody>\n",
       "</table>\n",
       "</div>"
      ],
      "text/plain": [
       "        state  year\n",
       "one      Ohio  2000\n",
       "two      Ohio  2001\n",
       "three    Ohio  2002\n",
       "four   Nevada  2001\n",
       "five   Nevada  2002"
      ]
     },
     "execution_count": 126,
     "metadata": {},
     "output_type": "execute_result"
    }
   ],
   "source": [
    "frame2.iloc[:,0:2] \n",
    "\n",
    "# frame2[:,0:2]  # error "
   ]
  },
  {
   "cell_type": "code",
   "execution_count": 127,
   "id": "bf2e01bc",
   "metadata": {},
   "outputs": [
    {
     "data": {
      "text/plain": [
       "0    1.5\n",
       "1    1.7\n",
       "2    3.6\n",
       "3    2.4\n",
       "4    2.9\n",
       "Name: pop, dtype: float64"
      ]
     },
     "execution_count": 127,
     "metadata": {},
     "output_type": "execute_result"
    }
   ],
   "source": [
    "frame.iloc[:,-1] # Series"
   ]
  },
  {
   "cell_type": "code",
   "execution_count": 128,
   "id": "92428145",
   "metadata": {},
   "outputs": [
    {
     "data": {
      "text/html": [
       "<div>\n",
       "<style scoped>\n",
       "    .dataframe tbody tr th:only-of-type {\n",
       "        vertical-align: middle;\n",
       "    }\n",
       "\n",
       "    .dataframe tbody tr th {\n",
       "        vertical-align: top;\n",
       "    }\n",
       "\n",
       "    .dataframe thead th {\n",
       "        text-align: right;\n",
       "    }\n",
       "</style>\n",
       "<table border=\"1\" class=\"dataframe\">\n",
       "  <thead>\n",
       "    <tr style=\"text-align: right;\">\n",
       "      <th></th>\n",
       "      <th>new</th>\n",
       "    </tr>\n",
       "  </thead>\n",
       "  <tbody>\n",
       "    <tr>\n",
       "      <th>one</th>\n",
       "      <td>2001.5</td>\n",
       "    </tr>\n",
       "    <tr>\n",
       "      <th>two</th>\n",
       "      <td>2002.7</td>\n",
       "    </tr>\n",
       "    <tr>\n",
       "      <th>three</th>\n",
       "      <td>2005.6</td>\n",
       "    </tr>\n",
       "    <tr>\n",
       "      <th>four</th>\n",
       "      <td>2003.4</td>\n",
       "    </tr>\n",
       "    <tr>\n",
       "      <th>five</th>\n",
       "      <td>2004.9</td>\n",
       "    </tr>\n",
       "  </tbody>\n",
       "</table>\n",
       "</div>"
      ],
      "text/plain": [
       "          new\n",
       "one    2001.5\n",
       "two    2002.7\n",
       "three  2005.6\n",
       "four   2003.4\n",
       "five   2004.9"
      ]
     },
     "execution_count": 128,
     "metadata": {},
     "output_type": "execute_result"
    }
   ],
   "source": [
    "frame2.iloc[:,[-1]] # DataFrame"
   ]
  },
  {
   "cell_type": "code",
   "execution_count": 129,
   "id": "a3628830",
   "metadata": {
    "scrolled": true
   },
   "outputs": [
    {
     "data": {
      "text/html": [
       "<div>\n",
       "<style scoped>\n",
       "    .dataframe tbody tr th:only-of-type {\n",
       "        vertical-align: middle;\n",
       "    }\n",
       "\n",
       "    .dataframe tbody tr th {\n",
       "        vertical-align: top;\n",
       "    }\n",
       "\n",
       "    .dataframe thead th {\n",
       "        text-align: right;\n",
       "    }\n",
       "</style>\n",
       "<table border=\"1\" class=\"dataframe\">\n",
       "  <thead>\n",
       "    <tr style=\"text-align: right;\">\n",
       "      <th></th>\n",
       "      <th>state</th>\n",
       "      <th>pop</th>\n",
       "    </tr>\n",
       "  </thead>\n",
       "  <tbody>\n",
       "    <tr>\n",
       "      <th>one</th>\n",
       "      <td>Ohio</td>\n",
       "      <td>1.5</td>\n",
       "    </tr>\n",
       "    <tr>\n",
       "      <th>two</th>\n",
       "      <td>Ohio</td>\n",
       "      <td>1.7</td>\n",
       "    </tr>\n",
       "    <tr>\n",
       "      <th>three</th>\n",
       "      <td>Ohio</td>\n",
       "      <td>3.6</td>\n",
       "    </tr>\n",
       "    <tr>\n",
       "      <th>four</th>\n",
       "      <td>Nevada</td>\n",
       "      <td>2.4</td>\n",
       "    </tr>\n",
       "    <tr>\n",
       "      <th>five</th>\n",
       "      <td>Nevada</td>\n",
       "      <td>2.9</td>\n",
       "    </tr>\n",
       "  </tbody>\n",
       "</table>\n",
       "</div>"
      ],
      "text/plain": [
       "        state  pop\n",
       "one      Ohio  1.5\n",
       "two      Ohio  1.7\n",
       "three    Ohio  3.6\n",
       "four   Nevada  2.4\n",
       "five   Nevada  2.9"
      ]
     },
     "execution_count": 129,
     "metadata": {},
     "output_type": "execute_result"
    }
   ],
   "source": [
    "frame2.iloc[:,[0,2]] # 특정 column"
   ]
  },
  {
   "cell_type": "code",
   "execution_count": null,
   "id": "d34df74a",
   "metadata": {},
   "outputs": [],
   "source": []
  },
  {
   "cell_type": "markdown",
   "id": "07ea211c",
   "metadata": {},
   "source": [
    "### .iloc을 사용해 Label 값으로 Indexing 하기"
   ]
  },
  {
   "cell_type": "markdown",
   "id": "74bf9c8f",
   "metadata": {},
   "source": [
    "- 때론 위치와 값을 혼횽해야 할 때가 있다. \n",
    "- 예를들어 (어떤 이유로) row는 index값으로, column은 위치로 subdata를 불러와야 한다면, Dataframe의 .get_loc을 활용할 수 있다. \n",
    "- .get_loc은 해당값의 위치를 반환하기 때문에 .iloc의 입력값으로도 사용할 수 있다. \n",
    "- index와 column 둘 다 사용할 수 있으며 예시는 아래와 같다."
   ]
  },
  {
   "cell_type": "code",
   "execution_count": 132,
   "id": "d050272a",
   "metadata": {},
   "outputs": [
    {
     "name": "stdout",
     "output_type": "stream",
     "text": [
      "1\n"
     ]
    },
    {
     "data": {
      "text/plain": [
       "state      Ohio\n",
       "year       2001\n",
       "pop         1.7\n",
       "new      2002.7\n",
       "Name: two, dtype: object"
      ]
     },
     "execution_count": 132,
     "metadata": {},
     "output_type": "execute_result"
    }
   ],
   "source": [
    "# get_loc 사용하기: row\n",
    "print(frame2.index.get_loc('two'))\n",
    "frame2.iloc[frame2.index.get_loc('two')] #.iloc의 입력값으로도 사용"
   ]
  },
  {
   "cell_type": "code",
   "execution_count": 133,
   "id": "8fb03aaf",
   "metadata": {},
   "outputs": [
    {
     "name": "stdout",
     "output_type": "stream",
     "text": [
      "0\n"
     ]
    },
    {
     "data": {
      "text/plain": [
       "one        Ohio\n",
       "two        Ohio\n",
       "three      Ohio\n",
       "four     Nevada\n",
       "five     Nevada\n",
       "Name: state, dtype: object"
      ]
     },
     "execution_count": 133,
     "metadata": {},
     "output_type": "execute_result"
    }
   ],
   "source": [
    "# get_loc 사용하기: column\n",
    "print(frame2.columns.get_loc('state'))\n",
    "frame2.iloc[:,frame2.columns.get_loc('state')] #.iloc의 입력값으로도 사용"
   ]
  },
  {
   "cell_type": "markdown",
   "id": "5ec308a3",
   "metadata": {},
   "source": [
    "## at, iat 사용"
   ]
  },
  {
   "cell_type": "markdown",
   "id": "a14e4d4d",
   "metadata": {},
   "source": [
    "- it, iat: 정확한 위치의 값을 요청하는 방법\n",
    "  - cf) loc, iloc는 인덱스에 따른 모든 컬럼의 값을 가져오는데에 초점이 맞춰져 있다.   \n",
    "\n",
    "- at: 지정한 인덱스를 이용해 원하는 위치값을 가져올 수 있다.(콕 집어서 하나의 값만 가져옴)\n",
    "  - df.at[index,column]      \n",
    "    \n",
    "- iat: 고유하게 정해지는 row_number,  column_number로 위치를 지정해 가져올 수 있다.\n",
    "  - df.iat[row\\_number, column_number] "
   ]
  },
  {
   "cell_type": "code",
   "execution_count": 134,
   "id": "c2daa7aa",
   "metadata": {},
   "outputs": [
    {
     "data": {
      "text/plain": [
       "'Ohio'"
      ]
     },
     "execution_count": 134,
     "metadata": {},
     "output_type": "execute_result"
    }
   ],
   "source": [
    "frame.at[1,\"state\"]"
   ]
  },
  {
   "cell_type": "code",
   "execution_count": 135,
   "id": "f6481254",
   "metadata": {},
   "outputs": [
    {
     "data": {
      "text/plain": [
       "1.7"
      ]
     },
     "execution_count": 135,
     "metadata": {},
     "output_type": "execute_result"
    }
   ],
   "source": [
    "frame.iat[1,2]"
   ]
  },
  {
   "cell_type": "markdown",
   "id": "0191f9d2",
   "metadata": {},
   "source": [
    "<hr>"
   ]
  },
  {
   "cell_type": "markdown",
   "id": "25735bb4",
   "metadata": {},
   "source": [
    "# 내장함수와 라이브러리"
   ]
  },
  {
   "cell_type": "markdown",
   "id": "4f581fc9",
   "metadata": {},
   "source": [
    "## 다양한 내장함수"
   ]
  },
  {
   "cell_type": "code",
   "execution_count": 136,
   "id": "3beefd5c",
   "metadata": {},
   "outputs": [
    {
     "data": {
      "text/plain": [
       "1.2"
      ]
     },
     "execution_count": 136,
     "metadata": {},
     "output_type": "execute_result"
    }
   ],
   "source": [
    "\"\"\"\n",
    "abs(x) :절대값\n",
    "\"\"\"\n",
    "abs(-1.2)"
   ]
  },
  {
   "cell_type": "code",
   "execution_count": 137,
   "id": "3a4d7d1f",
   "metadata": {},
   "outputs": [
    {
     "name": "stdout",
     "output_type": "stream",
     "text": [
      "6\n",
      "3\n",
      "2\n"
     ]
    }
   ],
   "source": [
    "\"\"\"\n",
    "len\n",
    "len(s)은 입력값 s의 길이(요소의 전체 개수)를 돌려주는 함수\n",
    "\"\"\"\n",
    "print(len(\"python\"))\n",
    "print(len([1,2,3]))\n",
    "print(len((1,\"a\")))"
   ]
  },
  {
   "cell_type": "code",
   "execution_count": 138,
   "id": "e5178ded",
   "metadata": {},
   "outputs": [
    {
     "name": "stdout",
     "output_type": "stream",
     "text": [
      "[0, 1, 2, 3, 4]\n",
      "[5, 6, 7, 8, 9]\n",
      "[1, 3, 5, 7, 9]\n"
     ]
    }
   ],
   "source": [
    "\"\"\"\n",
    "range\n",
    "range([start,] stop [,step] )는 for문과 함께 자주 사용하는 함수\n",
    "\"\"\"\n",
    "print(list(range(5)))        # 0이상 5미만의 정수\n",
    "print(list(range(5, 10)))    # 5이상 10미만의 정수\n",
    "print(list(range(1, 10, 2))) #1부터 10미만까지 2 만큼의 간격의 숫자 "
   ]
  },
  {
   "cell_type": "code",
   "execution_count": 128,
   "id": "c40be744",
   "metadata": {},
   "outputs": [
    {
     "data": {
      "text/plain": [
       "range(0, 5)"
      ]
     },
     "execution_count": 128,
     "metadata": {},
     "output_type": "execute_result"
    }
   ],
   "source": [
    "range(5)"
   ]
  },
  {
   "cell_type": "code",
   "execution_count": 129,
   "id": "a26f0da4",
   "metadata": {},
   "outputs": [
    {
     "data": {
      "text/plain": [
       "[0, 1, 2, 3, 4]"
      ]
     },
     "execution_count": 129,
     "metadata": {},
     "output_type": "execute_result"
    }
   ],
   "source": [
    "list(range(5))"
   ]
  },
  {
   "cell_type": "code",
   "execution_count": 130,
   "id": "9a1a577f",
   "metadata": {},
   "outputs": [
    {
     "name": "stdout",
     "output_type": "stream",
     "text": [
      "5\n",
      "5.68\n"
     ]
    }
   ],
   "source": [
    "\"\"\"\n",
    "round\n",
    "round(number[, ndigits]) 함수는 숫자를 입력받아 반올림해 주는 함수\n",
    "round 함수의 두 번째 매개변수는 반올림하여 표시하고 싶은 소수점의 자릿수\n",
    "\"\"\"\n",
    "print(round(4.6))\n",
    "print(round(5.678, 2)) # 소수점 2자리까지만 반올림하여 표시"
   ]
  },
  {
   "cell_type": "code",
   "execution_count": 131,
   "id": "8e7926a6",
   "metadata": {},
   "outputs": [
    {
     "name": "stdout",
     "output_type": "stream",
     "text": [
      "['a', 'b', 'c']\n",
      "[1, 2, 3]\n",
      "['e', 'o', 'r', 'z']\n"
     ]
    }
   ],
   "source": [
    "\"\"\"\n",
    "sorted\n",
    "sorted(iterable) 함수는 입력값을 정렬한 후 그 결과를 리스트로 돌려주는 함수\n",
    "\"\"\"\n",
    "print(sorted(['a', 'c', 'b']))\n",
    "print(sorted((3, 2, 1)))\n",
    "print(sorted(\"zero\"))"
   ]
  },
  {
   "cell_type": "code",
   "execution_count": 132,
   "id": "5c207294",
   "metadata": {},
   "outputs": [
    {
     "name": "stdout",
     "output_type": "stream",
     "text": [
      "['p', 'y', 't', 'h', 'o', 'n']\n",
      "[1, 2, 3]\n"
     ]
    }
   ],
   "source": [
    "\"\"\"\n",
    "list\n",
    "list(s)는 반복 가능한 자료형 s를 입력받아 리스트로 만들어 돌려주는 함수\n",
    "\"\"\"\n",
    "print(list(\"python\"))\n",
    "print(list((1,2,3)))"
   ]
  },
  {
   "cell_type": "code",
   "execution_count": 133,
   "id": "6db75286",
   "metadata": {},
   "outputs": [
    {
     "name": "stdout",
     "output_type": "stream",
     "text": [
      "<class 'str'>\n",
      "<class 'list'>\n"
     ]
    }
   ],
   "source": [
    "\"\"\"\n",
    "type\n",
    "type(object)은 입력값의 자료형이 무엇인지 알려 주는 함수\n",
    "\"\"\"\n",
    "print(type(\"abc\"))\n",
    "print(type([ ]))   "
   ]
  },
  {
   "cell_type": "code",
   "execution_count": 135,
   "id": "f791dd18",
   "metadata": {
    "scrolled": true
   },
   "outputs": [
    {
     "data": {
      "text/plain": [
       "[1, 2]"
      ]
     },
     "execution_count": 135,
     "metadata": {},
     "output_type": "execute_result"
    }
   ],
   "source": [
    "\"\"\"\n",
    "del 함수를 이용한 요소 삭제\n",
    "\"\"\"\n",
    "\n",
    "a = [1, 2, 3]\n",
    "del a[2]\n",
    "a"
   ]
  },
  {
   "cell_type": "code",
   "execution_count": 138,
   "id": "a893f452",
   "metadata": {},
   "outputs": [
    {
     "data": {
      "text/plain": [
       "6"
      ]
     },
     "execution_count": 138,
     "metadata": {},
     "output_type": "execute_result"
    }
   ],
   "source": [
    "\"\"\"\n",
    "sum\n",
    "sum(iterable) 은 입력받은 리스트나 튜플의 모든 요소의 합을 돌려주는 함수\n",
    "\"\"\"\n",
    "sum([1,2,3])"
   ]
  },
  {
   "cell_type": "code",
   "execution_count": 113,
   "id": "925e1a33",
   "metadata": {},
   "outputs": [
    {
     "data": {
      "text/plain": [
       "['DataFrame',\n",
       " 'In',\n",
       " 'Out',\n",
       " 'Series',\n",
       " '_',\n",
       " '_1',\n",
       " '_101',\n",
       " '_104',\n",
       " '_105',\n",
       " '_106',\n",
       " '_107',\n",
       " '_108',\n",
       " '_109',\n",
       " '_110',\n",
       " '_112',\n",
       " '_13',\n",
       " '_14',\n",
       " '_2',\n",
       " '_23',\n",
       " '_30',\n",
       " '_31',\n",
       " '_32',\n",
       " '_33',\n",
       " '_34',\n",
       " '_35',\n",
       " '_37',\n",
       " '_38',\n",
       " '_39',\n",
       " '_4',\n",
       " '_40',\n",
       " '_41',\n",
       " '_42',\n",
       " '_43',\n",
       " '_44',\n",
       " '_45',\n",
       " '_46',\n",
       " '_47',\n",
       " '_48',\n",
       " '_49',\n",
       " '_50',\n",
       " '_51',\n",
       " '_52',\n",
       " '_53',\n",
       " '_54',\n",
       " '_55',\n",
       " '_56',\n",
       " '_57',\n",
       " '_58',\n",
       " '_59',\n",
       " '_6',\n",
       " '_60',\n",
       " '_61',\n",
       " '_62',\n",
       " '_63',\n",
       " '_65',\n",
       " '_66',\n",
       " '_68',\n",
       " '_69',\n",
       " '_70',\n",
       " '_71',\n",
       " '_73',\n",
       " '_74',\n",
       " '_75',\n",
       " '_76',\n",
       " '_77',\n",
       " '_78',\n",
       " '_79',\n",
       " '_80',\n",
       " '_81',\n",
       " '_82',\n",
       " '_83',\n",
       " '_86',\n",
       " '_87',\n",
       " '_88',\n",
       " '_89',\n",
       " '_90',\n",
       " '_91',\n",
       " '_92',\n",
       " '_93',\n",
       " '_94',\n",
       " '_95',\n",
       " '_97',\n",
       " '_99',\n",
       " '__',\n",
       " '___',\n",
       " '__builtin__',\n",
       " '__builtins__',\n",
       " '__doc__',\n",
       " '__loader__',\n",
       " '__name__',\n",
       " '__package__',\n",
       " '__spec__',\n",
       " '_dh',\n",
       " '_i',\n",
       " '_i1',\n",
       " '_i10',\n",
       " '_i100',\n",
       " '_i101',\n",
       " '_i102',\n",
       " '_i103',\n",
       " '_i104',\n",
       " '_i105',\n",
       " '_i106',\n",
       " '_i107',\n",
       " '_i108',\n",
       " '_i109',\n",
       " '_i11',\n",
       " '_i110',\n",
       " '_i111',\n",
       " '_i112',\n",
       " '_i113',\n",
       " '_i12',\n",
       " '_i13',\n",
       " '_i14',\n",
       " '_i15',\n",
       " '_i16',\n",
       " '_i17',\n",
       " '_i18',\n",
       " '_i19',\n",
       " '_i2',\n",
       " '_i20',\n",
       " '_i21',\n",
       " '_i22',\n",
       " '_i23',\n",
       " '_i24',\n",
       " '_i25',\n",
       " '_i26',\n",
       " '_i27',\n",
       " '_i28',\n",
       " '_i29',\n",
       " '_i3',\n",
       " '_i30',\n",
       " '_i31',\n",
       " '_i32',\n",
       " '_i33',\n",
       " '_i34',\n",
       " '_i35',\n",
       " '_i36',\n",
       " '_i37',\n",
       " '_i38',\n",
       " '_i39',\n",
       " '_i4',\n",
       " '_i40',\n",
       " '_i41',\n",
       " '_i42',\n",
       " '_i43',\n",
       " '_i44',\n",
       " '_i45',\n",
       " '_i46',\n",
       " '_i47',\n",
       " '_i48',\n",
       " '_i49',\n",
       " '_i5',\n",
       " '_i50',\n",
       " '_i51',\n",
       " '_i52',\n",
       " '_i53',\n",
       " '_i54',\n",
       " '_i55',\n",
       " '_i56',\n",
       " '_i57',\n",
       " '_i58',\n",
       " '_i59',\n",
       " '_i6',\n",
       " '_i60',\n",
       " '_i61',\n",
       " '_i62',\n",
       " '_i63',\n",
       " '_i64',\n",
       " '_i65',\n",
       " '_i66',\n",
       " '_i67',\n",
       " '_i68',\n",
       " '_i69',\n",
       " '_i7',\n",
       " '_i70',\n",
       " '_i71',\n",
       " '_i72',\n",
       " '_i73',\n",
       " '_i74',\n",
       " '_i75',\n",
       " '_i76',\n",
       " '_i77',\n",
       " '_i78',\n",
       " '_i79',\n",
       " '_i8',\n",
       " '_i80',\n",
       " '_i81',\n",
       " '_i82',\n",
       " '_i83',\n",
       " '_i84',\n",
       " '_i85',\n",
       " '_i86',\n",
       " '_i87',\n",
       " '_i88',\n",
       " '_i89',\n",
       " '_i9',\n",
       " '_i90',\n",
       " '_i91',\n",
       " '_i92',\n",
       " '_i93',\n",
       " '_i94',\n",
       " '_i95',\n",
       " '_i96',\n",
       " '_i97',\n",
       " '_i98',\n",
       " '_i99',\n",
       " '_ih',\n",
       " '_ii',\n",
       " '_iii',\n",
       " '_oh',\n",
       " 'a',\n",
       " 'aa',\n",
       " 'b',\n",
       " 'c',\n",
       " 'd',\n",
       " 'data',\n",
       " 'dic',\n",
       " 'exit',\n",
       " 'frame',\n",
       " 'frame2',\n",
       " 'get_ipython',\n",
       " 'np',\n",
       " 'num',\n",
       " 'obj1',\n",
       " 'obj2',\n",
       " 'obj3',\n",
       " 'obj4',\n",
       " 'obj5',\n",
       " 'obj6',\n",
       " 'open',\n",
       " 'quit',\n",
       " 'sdata',\n",
       " 'x']"
      ]
     },
     "execution_count": 113,
     "metadata": {},
     "output_type": "execute_result"
    }
   ],
   "source": [
    "\"\"\"\n",
    "dir\n",
    "dir(): 작업공간에 대기하고 있는 객체들의 목록 출력\n",
    "dir(): ()안에 아무것도 넣지 않으면 기본적으로 현재 메모리에 할당되어 있는 변수들을 볼 수 있는 함수이다.\n",
    "dir(*): ()안에 Class나 함수의 이름을 그대로 넣으면 함수에 대한 명령어의 목록을 얻을 수 있는 함수이다. 전체적으로 어떤 기능들이 있는지 훑어볼 때 유용하다.\n",
    "\"\"\"\n",
    "dir()"
   ]
  },
  {
   "cell_type": "code",
   "execution_count": 143,
   "id": "ec676a68",
   "metadata": {},
   "outputs": [
    {
     "data": {
      "text/plain": [
       "['__add__',\n",
       " '__class__',\n",
       " '__class_getitem__',\n",
       " '__contains__',\n",
       " '__delattr__',\n",
       " '__delitem__',\n",
       " '__dir__',\n",
       " '__doc__',\n",
       " '__eq__',\n",
       " '__format__',\n",
       " '__ge__',\n",
       " '__getattribute__',\n",
       " '__getitem__',\n",
       " '__gt__',\n",
       " '__hash__',\n",
       " '__iadd__',\n",
       " '__imul__',\n",
       " '__init__',\n",
       " '__init_subclass__',\n",
       " '__iter__',\n",
       " '__le__',\n",
       " '__len__',\n",
       " '__lt__',\n",
       " '__mul__',\n",
       " '__ne__',\n",
       " '__new__',\n",
       " '__reduce__',\n",
       " '__reduce_ex__',\n",
       " '__repr__',\n",
       " '__reversed__',\n",
       " '__rmul__',\n",
       " '__setattr__',\n",
       " '__setitem__',\n",
       " '__sizeof__',\n",
       " '__str__',\n",
       " '__subclasshook__',\n",
       " 'append',\n",
       " 'clear',\n",
       " 'copy',\n",
       " 'count',\n",
       " 'extend',\n",
       " 'index',\n",
       " 'insert',\n",
       " 'pop',\n",
       " 'remove',\n",
       " 'reverse',\n",
       " 'sort']"
      ]
     },
     "execution_count": 143,
     "metadata": {},
     "output_type": "execute_result"
    }
   ],
   "source": [
    "dir(list)"
   ]
  },
  {
   "cell_type": "code",
   "execution_count": 116,
   "id": "38fb37ea",
   "metadata": {
    "scrolled": true
   },
   "outputs": [
    {
     "data": {
      "text/plain": [
       "['__annotations__',\n",
       " '__builtins__',\n",
       " '__call__',\n",
       " '__class__',\n",
       " '__closure__',\n",
       " '__code__',\n",
       " '__defaults__',\n",
       " '__delattr__',\n",
       " '__dict__',\n",
       " '__dir__',\n",
       " '__doc__',\n",
       " '__eq__',\n",
       " '__format__',\n",
       " '__ge__',\n",
       " '__get__',\n",
       " '__getattribute__',\n",
       " '__globals__',\n",
       " '__gt__',\n",
       " '__hash__',\n",
       " '__init__',\n",
       " '__init_subclass__',\n",
       " '__kwdefaults__',\n",
       " '__le__',\n",
       " '__lt__',\n",
       " '__module__',\n",
       " '__name__',\n",
       " '__ne__',\n",
       " '__new__',\n",
       " '__qualname__',\n",
       " '__reduce__',\n",
       " '__reduce_ex__',\n",
       " '__repr__',\n",
       " '__setattr__',\n",
       " '__sizeof__',\n",
       " '__str__',\n",
       " '__subclasshook__']"
      ]
     },
     "execution_count": 116,
     "metadata": {},
     "output_type": "execute_result"
    }
   ],
   "source": [
    "import matplotlib.pyplot as plt  \n",
    "dir(plt.hist)"
   ]
  },
  {
   "cell_type": "code",
   "execution_count": 139,
   "id": "7e436fa6",
   "metadata": {},
   "outputs": [
    {
     "name": "stdout",
     "output_type": "stream",
     "text": [
      "\n",
      "Welcome to Python 3.10's help utility!\n",
      "\n",
      "If this is your first time using Python, you should definitely check out\n",
      "the tutorial on the internet at https://docs.python.org/3.10/tutorial/.\n",
      "\n",
      "Enter the name of any module, keyword, or topic to get help on writing\n",
      "Python programs and using Python modules.  To quit this help utility and\n",
      "return to the interpreter, just type \"quit\".\n",
      "\n",
      "To get a list of available modules, keywords, symbols, or topics, type\n",
      "\"modules\", \"keywords\", \"symbols\", or \"topics\".  Each module also comes\n",
      "with a one-line summary of what it does; to list the modules whose name\n",
      "or summary contain a given string such as \"spam\", type \"modules spam\".\n",
      "\n",
      "\n",
      "You are now leaving help and returning to the Python interpreter.\n",
      "If you want to ask for help on a particular object directly from the\n",
      "interpreter, you can type \"help(object)\".  Executing \"help('string')\"\n",
      "has the same effect as typing a particular string at the help> prompt.\n"
     ]
    }
   ],
   "source": [
    "\"\"\"\n",
    "help\n",
    "help(): 도움말 기능, 함수와 함수에 속한 각 옵션에 대한 설명을 볼 수 있다.\n",
    "\"\"\"\n",
    "help()"
   ]
  },
  {
   "cell_type": "code",
   "execution_count": 121,
   "id": "4f38d0ec",
   "metadata": {},
   "outputs": [
    {
     "name": "stdout",
     "output_type": "stream",
     "text": [
      "Help on function plot in module matplotlib.pyplot:\n",
      "\n",
      "plot(*args, scalex=True, scaley=True, data=None, **kwargs)\n",
      "    Plot y versus x as lines and/or markers.\n",
      "    \n",
      "    Call signatures::\n",
      "    \n",
      "        plot([x], y, [fmt], *, data=None, **kwargs)\n",
      "        plot([x], y, [fmt], [x2], y2, [fmt2], ..., **kwargs)\n",
      "    \n",
      "    The coordinates of the points or line nodes are given by *x*, *y*.\n",
      "    \n",
      "    The optional parameter *fmt* is a convenient way for defining basic\n",
      "    formatting like color, marker and linestyle. It's a shortcut string\n",
      "    notation described in the *Notes* section below.\n",
      "    \n",
      "    >>> plot(x, y)        # plot x and y using default line style and color\n",
      "    >>> plot(x, y, 'bo')  # plot x and y using blue circle markers\n",
      "    >>> plot(y)           # plot y using x as index array 0..N-1\n",
      "    >>> plot(y, 'r+')     # ditto, but with red plusses\n",
      "    \n",
      "    You can use `.Line2D` properties as keyword arguments for more\n",
      "    control on the appearance. Line properties and *fmt* can be mixed.\n",
      "    The following two calls yield identical results:\n",
      "    \n",
      "    >>> plot(x, y, 'go--', linewidth=2, markersize=12)\n",
      "    >>> plot(x, y, color='green', marker='o', linestyle='dashed',\n",
      "    ...      linewidth=2, markersize=12)\n",
      "    \n",
      "    When conflicting with *fmt*, keyword arguments take precedence.\n",
      "    \n",
      "    \n",
      "    **Plotting labelled data**\n",
      "    \n",
      "    There's a convenient way for plotting objects with labelled data (i.e.\n",
      "    data that can be accessed by index ``obj['y']``). Instead of giving\n",
      "    the data in *x* and *y*, you can provide the object in the *data*\n",
      "    parameter and just give the labels for *x* and *y*::\n",
      "    \n",
      "    >>> plot('xlabel', 'ylabel', data=obj)\n",
      "    \n",
      "    All indexable objects are supported. This could e.g. be a `dict`, a\n",
      "    `pandas.DataFrame` or a structured numpy array.\n",
      "    \n",
      "    \n",
      "    **Plotting multiple sets of data**\n",
      "    \n",
      "    There are various ways to plot multiple sets of data.\n",
      "    \n",
      "    - The most straight forward way is just to call `plot` multiple times.\n",
      "      Example:\n",
      "    \n",
      "      >>> plot(x1, y1, 'bo')\n",
      "      >>> plot(x2, y2, 'go')\n",
      "    \n",
      "    - If *x* and/or *y* are 2D arrays a separate data set will be drawn\n",
      "      for every column. If both *x* and *y* are 2D, they must have the\n",
      "      same shape. If only one of them is 2D with shape (N, m) the other\n",
      "      must have length N and will be used for every data set m.\n",
      "    \n",
      "      Example:\n",
      "    \n",
      "      >>> x = [1, 2, 3]\n",
      "      >>> y = np.array([[1, 2], [3, 4], [5, 6]])\n",
      "      >>> plot(x, y)\n",
      "    \n",
      "      is equivalent to:\n",
      "    \n",
      "      >>> for col in range(y.shape[1]):\n",
      "      ...     plot(x, y[:, col])\n",
      "    \n",
      "    - The third way is to specify multiple sets of *[x]*, *y*, *[fmt]*\n",
      "      groups::\n",
      "    \n",
      "      >>> plot(x1, y1, 'g^', x2, y2, 'g-')\n",
      "    \n",
      "      In this case, any additional keyword argument applies to all\n",
      "      datasets. Also, this syntax cannot be combined with the *data*\n",
      "      parameter.\n",
      "    \n",
      "    By default, each line is assigned a different style specified by a\n",
      "    'style cycle'. The *fmt* and line property parameters are only\n",
      "    necessary if you want explicit deviations from these defaults.\n",
      "    Alternatively, you can also change the style cycle using\n",
      "    :rc:`axes.prop_cycle`.\n",
      "    \n",
      "    \n",
      "    Parameters\n",
      "    ----------\n",
      "    x, y : array-like or scalar\n",
      "        The horizontal / vertical coordinates of the data points.\n",
      "        *x* values are optional and default to ``range(len(y))``.\n",
      "    \n",
      "        Commonly, these parameters are 1D arrays.\n",
      "    \n",
      "        They can also be scalars, or two-dimensional (in that case, the\n",
      "        columns represent separate data sets).\n",
      "    \n",
      "        These arguments cannot be passed as keywords.\n",
      "    \n",
      "    fmt : str, optional\n",
      "        A format string, e.g. 'ro' for red circles. See the *Notes*\n",
      "        section for a full description of the format strings.\n",
      "    \n",
      "        Format strings are just an abbreviation for quickly setting\n",
      "        basic line properties. All of these and more can also be\n",
      "        controlled by keyword arguments.\n",
      "    \n",
      "        This argument cannot be passed as keyword.\n",
      "    \n",
      "    data : indexable object, optional\n",
      "        An object with labelled data. If given, provide the label names to\n",
      "        plot in *x* and *y*.\n",
      "    \n",
      "        .. note::\n",
      "            Technically there's a slight ambiguity in calls where the\n",
      "            second label is a valid *fmt*. ``plot('n', 'o', data=obj)``\n",
      "            could be ``plt(x, y)`` or ``plt(y, fmt)``. In such cases,\n",
      "            the former interpretation is chosen, but a warning is issued.\n",
      "            You may suppress the warning by adding an empty format string\n",
      "            ``plot('n', 'o', '', data=obj)``.\n",
      "    \n",
      "    Returns\n",
      "    -------\n",
      "    list of `.Line2D`\n",
      "        A list of lines representing the plotted data.\n",
      "    \n",
      "    Other Parameters\n",
      "    ----------------\n",
      "    scalex, scaley : bool, default: True\n",
      "        These parameters determine if the view limits are adapted to the\n",
      "        data limits. The values are passed on to\n",
      "        `~.axes.Axes.autoscale_view`.\n",
      "    \n",
      "    **kwargs : `.Line2D` properties, optional\n",
      "        *kwargs* are used to specify properties like a line label (for\n",
      "        auto legends), linewidth, antialiasing, marker face color.\n",
      "        Example::\n",
      "    \n",
      "        >>> plot([1, 2, 3], [1, 2, 3], 'go-', label='line 1', linewidth=2)\n",
      "        >>> plot([1, 2, 3], [1, 4, 9], 'rs', label='line 2')\n",
      "    \n",
      "        If you specify multiple lines with one plot call, the kwargs apply\n",
      "        to all those lines. In case the label object is iterable, each\n",
      "        element is used as labels for each set of data.\n",
      "    \n",
      "        Here is a list of available `.Line2D` properties:\n",
      "    \n",
      "        Properties:\n",
      "        agg_filter: a filter function, which takes a (m, n, 3) float array and a dpi value, and returns a (m, n, 3) array and two offsets from the bottom left corner of the image\n",
      "        alpha: scalar or None\n",
      "        animated: bool\n",
      "        antialiased or aa: bool\n",
      "        clip_box: `.Bbox`\n",
      "        clip_on: bool\n",
      "        clip_path: Patch or (Path, Transform) or None\n",
      "        color or c: color\n",
      "        dash_capstyle: `.CapStyle` or {'butt', 'projecting', 'round'}\n",
      "        dash_joinstyle: `.JoinStyle` or {'miter', 'round', 'bevel'}\n",
      "        dashes: sequence of floats (on/off ink in points) or (None, None)\n",
      "        data: (2, N) array or two 1D arrays\n",
      "        drawstyle or ds: {'default', 'steps', 'steps-pre', 'steps-mid', 'steps-post'}, default: 'default'\n",
      "        figure: `.Figure`\n",
      "        fillstyle: {'full', 'left', 'right', 'bottom', 'top', 'none'}\n",
      "        gapcolor: color or None\n",
      "        gid: str\n",
      "        in_layout: bool\n",
      "        label: object\n",
      "        linestyle or ls: {'-', '--', '-.', ':', '', (offset, on-off-seq), ...}\n",
      "        linewidth or lw: float\n",
      "        marker: marker style string, `~.path.Path` or `~.markers.MarkerStyle`\n",
      "        markeredgecolor or mec: color\n",
      "        markeredgewidth or mew: float\n",
      "        markerfacecolor or mfc: color\n",
      "        markerfacecoloralt or mfcalt: color\n",
      "        markersize or ms: float\n",
      "        markevery: None or int or (int, int) or slice or list[int] or float or (float, float) or list[bool]\n",
      "        mouseover: bool\n",
      "        path_effects: `.AbstractPathEffect`\n",
      "        picker: float or callable[[Artist, Event], tuple[bool, dict]]\n",
      "        pickradius: unknown\n",
      "        rasterized: bool\n",
      "        sketch_params: (scale: float, length: float, randomness: float)\n",
      "        snap: bool or None\n",
      "        solid_capstyle: `.CapStyle` or {'butt', 'projecting', 'round'}\n",
      "        solid_joinstyle: `.JoinStyle` or {'miter', 'round', 'bevel'}\n",
      "        transform: unknown\n",
      "        url: str\n",
      "        visible: bool\n",
      "        xdata: 1D array\n",
      "        ydata: 1D array\n",
      "        zorder: float\n",
      "    \n",
      "    See Also\n",
      "    --------\n",
      "    scatter : XY scatter plot with markers of varying size and/or color (\n",
      "        sometimes also called bubble chart).\n",
      "    \n",
      "    Notes\n",
      "    -----\n",
      "    **Format Strings**\n",
      "    \n",
      "    A format string consists of a part for color, marker and line::\n",
      "    \n",
      "        fmt = '[marker][line][color]'\n",
      "    \n",
      "    Each of them is optional. If not provided, the value from the style\n",
      "    cycle is used. Exception: If ``line`` is given, but no ``marker``,\n",
      "    the data will be a line without markers.\n",
      "    \n",
      "    Other combinations such as ``[color][marker][line]`` are also\n",
      "    supported, but note that their parsing may be ambiguous.\n",
      "    \n",
      "    **Markers**\n",
      "    \n",
      "    =============   ===============================\n",
      "    character       description\n",
      "    =============   ===============================\n",
      "    ``'.'``         point marker\n",
      "    ``','``         pixel marker\n",
      "    ``'o'``         circle marker\n",
      "    ``'v'``         triangle_down marker\n",
      "    ``'^'``         triangle_up marker\n",
      "    ``'<'``         triangle_left marker\n",
      "    ``'>'``         triangle_right marker\n",
      "    ``'1'``         tri_down marker\n",
      "    ``'2'``         tri_up marker\n",
      "    ``'3'``         tri_left marker\n",
      "    ``'4'``         tri_right marker\n",
      "    ``'8'``         octagon marker\n",
      "    ``'s'``         square marker\n",
      "    ``'p'``         pentagon marker\n",
      "    ``'P'``         plus (filled) marker\n",
      "    ``'*'``         star marker\n",
      "    ``'h'``         hexagon1 marker\n",
      "    ``'H'``         hexagon2 marker\n",
      "    ``'+'``         plus marker\n",
      "    ``'x'``         x marker\n",
      "    ``'X'``         x (filled) marker\n",
      "    ``'D'``         diamond marker\n",
      "    ``'d'``         thin_diamond marker\n",
      "    ``'|'``         vline marker\n",
      "    ``'_'``         hline marker\n",
      "    =============   ===============================\n",
      "    \n",
      "    **Line Styles**\n",
      "    \n",
      "    =============    ===============================\n",
      "    character        description\n",
      "    =============    ===============================\n",
      "    ``'-'``          solid line style\n",
      "    ``'--'``         dashed line style\n",
      "    ``'-.'``         dash-dot line style\n",
      "    ``':'``          dotted line style\n",
      "    =============    ===============================\n",
      "    \n",
      "    Example format strings::\n",
      "    \n",
      "        'b'    # blue markers with default shape\n",
      "        'or'   # red circles\n",
      "        '-g'   # green solid line\n",
      "        '--'   # dashed line with default color\n",
      "        '^k:'  # black triangle_up markers connected by a dotted line\n",
      "    \n",
      "    **Colors**\n",
      "    \n",
      "    The supported color abbreviations are the single letter codes\n",
      "    \n",
      "    =============    ===============================\n",
      "    character        color\n",
      "    =============    ===============================\n",
      "    ``'b'``          blue\n",
      "    ``'g'``          green\n",
      "    ``'r'``          red\n",
      "    ``'c'``          cyan\n",
      "    ``'m'``          magenta\n",
      "    ``'y'``          yellow\n",
      "    ``'k'``          black\n",
      "    ``'w'``          white\n",
      "    =============    ===============================\n",
      "    \n",
      "    and the ``'CN'`` colors that index into the default property cycle.\n",
      "    \n",
      "    If the color is the only part of the format string, you can\n",
      "    additionally use any  `matplotlib.colors` spec, e.g. full names\n",
      "    (``'green'``) or hex strings (``'#008000'``).\n",
      "\n"
     ]
    }
   ],
   "source": [
    "help(plt.plot)"
   ]
  },
  {
   "cell_type": "code",
   "execution_count": 122,
   "id": "e84fa00e",
   "metadata": {},
   "outputs": [],
   "source": [
    "# help(dataframe.corr)"
   ]
  },
  {
   "cell_type": "code",
   "execution_count": null,
   "id": "e8c2e4d3",
   "metadata": {},
   "outputs": [],
   "source": []
  },
  {
   "cell_type": "markdown",
   "id": "b673ddd6",
   "metadata": {},
   "source": [
    "## 패키지 사용"
   ]
  },
  {
   "cell_type": "markdown",
   "id": "fc8cea23",
   "metadata": {},
   "source": [
    "패키지를 사용하기 위해서는 import 명령어를 사용한다."
   ]
  },
  {
   "cell_type": "code",
   "execution_count": 139,
   "id": "9d855564",
   "metadata": {},
   "outputs": [],
   "source": [
    "import numpy as np"
   ]
  },
  {
   "cell_type": "markdown",
   "id": "5558455f",
   "metadata": {},
   "source": [
    "예약어(약자)를 사용하여 패키지를 불러온 후 그 기능을 사용하는 경우에는 약자를 접두어로 붙여 사용한다. 다음의 간단한 예를 확인해보자. "
   ]
  },
  {
   "cell_type": "code",
   "execution_count": 140,
   "id": "80b3d5e3",
   "metadata": {},
   "outputs": [
    {
     "data": {
      "text/plain": [
       "15"
      ]
     },
     "execution_count": 140,
     "metadata": {},
     "output_type": "execute_result"
    }
   ],
   "source": [
    "import numpy as np\n",
    "a=[1,2,3,4,5]\n",
    "np.sum(a)"
   ]
  },
  {
   "cell_type": "markdown",
   "id": "fca03686",
   "metadata": {},
   "source": [
    "numpy 패키지를 약자 np를 사용하여 import 하였다. 그리고 리스트로 작성된 변수 a에 대하여 numpy에 포함된 기본 통계 함수(메소드)인 sum을 사용하여 변수의 합을 구할 수 있다. "
   ]
  },
  {
   "cell_type": "markdown",
   "id": "64bbc7c3",
   "metadata": {},
   "source": [
    "- hist() 함수를 사용할 수 있는 다양한 방법"
   ]
  },
  {
   "cell_type": "code",
   "execution_count": 141,
   "id": "47894c38",
   "metadata": {},
   "outputs": [],
   "source": [
    "import matplotlib                      #  matplotlib.pyplot.hist(변수)\n",
    "import matplotlib as plt               #  plt.pyplot.hist(변수)\n",
    "import matplotlib.pyplot as plt        #  plt.hist(변수)\n",
    "from matplotlib.pyplot import hist     #  hist(변수)"
   ]
  },
  {
   "cell_type": "code",
   "execution_count": null,
   "id": "c9aaba5a",
   "metadata": {},
   "outputs": [],
   "source": []
  },
  {
   "cell_type": "code",
   "execution_count": null,
   "id": "40aa46ee",
   "metadata": {},
   "outputs": [],
   "source": []
  }
 ],
 "metadata": {
  "kernelspec": {
   "display_name": "Python 3 (ipykernel)",
   "language": "python",
   "name": "python3"
  },
  "language_info": {
   "codemirror_mode": {
    "name": "ipython",
    "version": 3
   },
   "file_extension": ".py",
   "mimetype": "text/x-python",
   "name": "python",
   "nbconvert_exporter": "python",
   "pygments_lexer": "ipython3",
   "version": "3.10.9"
  }
 },
 "nbformat": 4,
 "nbformat_minor": 5
}

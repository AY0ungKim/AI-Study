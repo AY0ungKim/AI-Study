{
 "cells": [
  {
   "cell_type": "markdown",
   "id": "66c9f3ce",
   "metadata": {},
   "source": [
    "# 파일 읽고 쓰기(Reading and Writing files)"
   ]
  },
  {
   "cell_type": "markdown",
   "id": "53116a13",
   "metadata": {},
   "source": [
    "- 파일을 통한 입출력 방법에 대해 알아보고자 한다. \n",
    "- Pandas는 다양한 형태의 외부 파일을 읽어와서 행과 열이 있는 데이터 프레임으로 변환하는 함수를 제공한다. \n",
    "- 어떤 파일이든 Pandas 객체인 데이터프레임으로 변환되고 나면 Pandas의 모든 함수와 기능을 자유롭게 사용할 수 있다.   "
   ]
  },
  {
   "cell_type": "code",
   "execution_count": null,
   "id": "0a205b4e",
   "metadata": {
    "is_executing": true
   },
   "outputs": [],
   "source": [
    "pip install jupyter"
   ]
  },
  {
   "cell_type": "code",
   "execution_count": null,
   "id": "253920db",
   "metadata": {},
   "outputs": [],
   "source": []
  },
  {
   "cell_type": "markdown",
   "id": "14fb704e",
   "metadata": {},
   "source": [
    "## 파일 내보내기"
   ]
  },
  {
   "cell_type": "markdown",
   "id": "663b9b43",
   "metadata": {},
   "source": [
    "* to_csv : DataFrame 을 csv, txt 파일로 저장 \n",
    "* df.to_csv(\"file path/file name\", sep=',' ,na_rep='', index=True, header =True)의 형태로 경로와 파일이름, 구분자, 결측값 표기법, index 표기 여부, column명 표기 여부 등을 지정 할 수 있음"
   ]
  },
  {
   "cell_type": "code",
   "execution_count": null,
   "id": "737e0eab",
   "metadata": {
    "is_executing": true
   },
   "outputs": [],
   "source": [
    "data = {'ID': ['A1', 'A2', 'A3', 'A4', 'A5'], \n",
    "        'X1': [1, 2, 3, 4, 5], \n",
    "        'X2': [3.0, 4.5, 3.2, 4.0, 3.5]}\n",
    "data_df = DataFrame(data, index=['a', 'b', 'c', 'd', 'e'])\n",
    "data_df_2 = data_df.reindex(['a', 'b', 'c', 'd', 'e', 'f'])\n",
    "print( data_df_2 )"
   ]
  },
  {
   "cell_type": "code",
   "execution_count": 3,
   "id": "31c11766",
   "metadata": {},
   "outputs": [],
   "source": [
    "# 파일 내보 내기 \n",
    "data_df_2.to_csv(\"C:/Users/owner/Dropbox/Python/Python_Lec//data_df_2.csv\" ,  # 파일 경로, 이름\n",
    "                 sep=',',                              # delimiter (구분자)\n",
    "                 na_rep='NaN')                         # missing data representation (결측값 표기)"
   ]
  },
  {
   "cell_type": "code",
   "execution_count": 4,
   "id": "5b37d4db",
   "metadata": {},
   "outputs": [],
   "source": [
    "data_df_2.to_csv(\"C:/Users/owner/Dropbox/Python/Python_Lec/data_df_2_noind.csv\",\n",
    "                 sep=',',\n",
    "                 index = False)                                     # index를 제외하고 내보내기"
   ]
  },
  {
   "cell_type": "code",
   "execution_count": 5,
   "id": "72fb26a3",
   "metadata": {},
   "outputs": [],
   "source": [
    "data_df_2.to_csv(\"C:/Users/owner/Dropbox/Python/Python_Lec/data_df_2_noind.txt\", # txt 파일로 내보내기 \n",
    "                 sep=' ',\n",
    "                 index = False)"
   ]
  },
  {
   "cell_type": "code",
   "execution_count": 6,
   "id": "c13dc2db",
   "metadata": {},
   "outputs": [],
   "source": [
    "data_df_2.to_csv(\"C:/Users/owner/Dropbox/Python/Python_Lec/data_df_3.txt\", # txt 파일로 내보내기 \n",
    "                 sep=' ',\n",
    "                 index = False,\n",
    "                 header = False)    # column 이름을 빼고 내보내기 "
   ]
  },
  {
   "cell_type": "code",
   "execution_count": null,
   "id": "7bf6eb87",
   "metadata": {},
   "outputs": [],
   "source": []
  },
  {
   "cell_type": "markdown",
   "id": "2a970db9",
   "metadata": {},
   "source": [
    "## 파일 불러오기"
   ]
  },
  {
   "cell_type": "markdown",
   "id": "501f5a45",
   "metadata": {},
   "source": [
    "- **read_csv** : csv, txt 파일을 Data Frame으로 불러오기\n",
    "- pd.read_csv(\"file path/file name\", sep=',' , index_col= None, encoding=... ) 형태로, 경로 및 파일 이름, 구분자, index를 나타내는 컬럼 등을 지정 할 수 있음\n",
    "   - sep 옵션: 파일에 따라서 공백, 쉼표(,) 또는 탭(\\t) 으로 구분되어 있을 수도 있으니 그에 맞는 적절한 옵션을 지정해 주어야 한다. \n",
    "   - encoding='cp949' : 한글로 자료가 입력되어 있는 경우 명령어 필요함   \n",
    "   - index_col= 0 : \"Unnamed: 0\" 열이 삭제됨"
   ]
  },
  {
   "cell_type": "code",
   "execution_count": 8,
   "id": "e7b8a3bd",
   "metadata": {},
   "outputs": [],
   "source": [
    "# 주어진 csv 데이터를 sample 이라는 이름의 데이터 프레임으로 저장\n",
    "data = pd.read_csv(\"C:/Users/owner/Dropbox/Python/Python_Lec/보건대학원/NMES.csv\",index_col=0)"
   ]
  },
  {
   "cell_type": "code",
   "execution_count": 9,
   "id": "17480755",
   "metadata": {
    "scrolled": true
   },
   "outputs": [
    {
     "data": {
      "text/plain": [
       "pandas.core.frame.DataFrame"
      ]
     },
     "execution_count": 9,
     "metadata": {},
     "output_type": "execute_result"
    }
   ],
   "source": [
    "type(data) # 자료형 확인"
   ]
  },
  {
   "cell_type": "code",
   "execution_count": null,
   "id": "82c374aa",
   "metadata": {},
   "outputs": [],
   "source": []
  },
  {
   "cell_type": "markdown",
   "id": "f848ae56",
   "metadata": {},
   "source": [
    "### 데이터 프레임 관련 유용한 함수"
   ]
  },
  {
   "cell_type": "code",
   "execution_count": 10,
   "id": "971e8bba",
   "metadata": {},
   "outputs": [
    {
     "data": {
      "text/html": [
       "<div>\n",
       "<style scoped>\n",
       "    .dataframe tbody tr th:only-of-type {\n",
       "        vertical-align: middle;\n",
       "    }\n",
       "\n",
       "    .dataframe tbody tr th {\n",
       "        vertical-align: top;\n",
       "    }\n",
       "\n",
       "    .dataframe thead th {\n",
       "        text-align: right;\n",
       "    }\n",
       "</style>\n",
       "<table border=\"1\" class=\"dataframe\">\n",
       "  <thead>\n",
       "    <tr style=\"text-align: right;\">\n",
       "      <th></th>\n",
       "      <th>ofp</th>\n",
       "      <th>ofnp</th>\n",
       "      <th>opp</th>\n",
       "      <th>opnp</th>\n",
       "      <th>emer</th>\n",
       "      <th>hosp</th>\n",
       "      <th>health</th>\n",
       "      <th>numchron</th>\n",
       "      <th>adldiff</th>\n",
       "      <th>region</th>\n",
       "      <th>age</th>\n",
       "      <th>black</th>\n",
       "      <th>gender</th>\n",
       "      <th>married</th>\n",
       "      <th>school</th>\n",
       "      <th>faminc</th>\n",
       "      <th>employed</th>\n",
       "      <th>privins</th>\n",
       "      <th>medicaid</th>\n",
       "    </tr>\n",
       "  </thead>\n",
       "  <tbody>\n",
       "    <tr>\n",
       "      <th>1</th>\n",
       "      <td>5</td>\n",
       "      <td>0</td>\n",
       "      <td>0</td>\n",
       "      <td>0</td>\n",
       "      <td>0</td>\n",
       "      <td>1</td>\n",
       "      <td>average</td>\n",
       "      <td>2</td>\n",
       "      <td>no</td>\n",
       "      <td>other</td>\n",
       "      <td>6.9</td>\n",
       "      <td>yes</td>\n",
       "      <td>male</td>\n",
       "      <td>yes</td>\n",
       "      <td>6</td>\n",
       "      <td>2.8810</td>\n",
       "      <td>yes</td>\n",
       "      <td>yes</td>\n",
       "      <td>no</td>\n",
       "    </tr>\n",
       "    <tr>\n",
       "      <th>2</th>\n",
       "      <td>1</td>\n",
       "      <td>0</td>\n",
       "      <td>2</td>\n",
       "      <td>0</td>\n",
       "      <td>2</td>\n",
       "      <td>0</td>\n",
       "      <td>average</td>\n",
       "      <td>2</td>\n",
       "      <td>no</td>\n",
       "      <td>other</td>\n",
       "      <td>7.4</td>\n",
       "      <td>no</td>\n",
       "      <td>female</td>\n",
       "      <td>yes</td>\n",
       "      <td>10</td>\n",
       "      <td>2.7478</td>\n",
       "      <td>no</td>\n",
       "      <td>yes</td>\n",
       "      <td>no</td>\n",
       "    </tr>\n",
       "    <tr>\n",
       "      <th>3</th>\n",
       "      <td>13</td>\n",
       "      <td>0</td>\n",
       "      <td>0</td>\n",
       "      <td>0</td>\n",
       "      <td>3</td>\n",
       "      <td>3</td>\n",
       "      <td>poor</td>\n",
       "      <td>4</td>\n",
       "      <td>yes</td>\n",
       "      <td>other</td>\n",
       "      <td>6.6</td>\n",
       "      <td>yes</td>\n",
       "      <td>female</td>\n",
       "      <td>no</td>\n",
       "      <td>10</td>\n",
       "      <td>0.6532</td>\n",
       "      <td>no</td>\n",
       "      <td>no</td>\n",
       "      <td>yes</td>\n",
       "    </tr>\n",
       "    <tr>\n",
       "      <th>4</th>\n",
       "      <td>16</td>\n",
       "      <td>0</td>\n",
       "      <td>5</td>\n",
       "      <td>0</td>\n",
       "      <td>1</td>\n",
       "      <td>1</td>\n",
       "      <td>poor</td>\n",
       "      <td>2</td>\n",
       "      <td>yes</td>\n",
       "      <td>other</td>\n",
       "      <td>7.6</td>\n",
       "      <td>no</td>\n",
       "      <td>male</td>\n",
       "      <td>yes</td>\n",
       "      <td>3</td>\n",
       "      <td>0.6588</td>\n",
       "      <td>no</td>\n",
       "      <td>yes</td>\n",
       "      <td>no</td>\n",
       "    </tr>\n",
       "    <tr>\n",
       "      <th>5</th>\n",
       "      <td>3</td>\n",
       "      <td>0</td>\n",
       "      <td>0</td>\n",
       "      <td>0</td>\n",
       "      <td>0</td>\n",
       "      <td>0</td>\n",
       "      <td>average</td>\n",
       "      <td>2</td>\n",
       "      <td>yes</td>\n",
       "      <td>other</td>\n",
       "      <td>7.9</td>\n",
       "      <td>no</td>\n",
       "      <td>female</td>\n",
       "      <td>yes</td>\n",
       "      <td>6</td>\n",
       "      <td>0.6588</td>\n",
       "      <td>no</td>\n",
       "      <td>yes</td>\n",
       "      <td>no</td>\n",
       "    </tr>\n",
       "    <tr>\n",
       "      <th>6</th>\n",
       "      <td>17</td>\n",
       "      <td>0</td>\n",
       "      <td>0</td>\n",
       "      <td>0</td>\n",
       "      <td>0</td>\n",
       "      <td>0</td>\n",
       "      <td>poor</td>\n",
       "      <td>5</td>\n",
       "      <td>yes</td>\n",
       "      <td>other</td>\n",
       "      <td>6.6</td>\n",
       "      <td>no</td>\n",
       "      <td>female</td>\n",
       "      <td>no</td>\n",
       "      <td>7</td>\n",
       "      <td>0.3301</td>\n",
       "      <td>no</td>\n",
       "      <td>no</td>\n",
       "      <td>yes</td>\n",
       "    </tr>\n",
       "    <tr>\n",
       "      <th>7</th>\n",
       "      <td>9</td>\n",
       "      <td>0</td>\n",
       "      <td>0</td>\n",
       "      <td>0</td>\n",
       "      <td>0</td>\n",
       "      <td>0</td>\n",
       "      <td>average</td>\n",
       "      <td>0</td>\n",
       "      <td>no</td>\n",
       "      <td>midwest</td>\n",
       "      <td>7.5</td>\n",
       "      <td>no</td>\n",
       "      <td>female</td>\n",
       "      <td>no</td>\n",
       "      <td>8</td>\n",
       "      <td>0.8280</td>\n",
       "      <td>no</td>\n",
       "      <td>yes</td>\n",
       "      <td>no</td>\n",
       "    </tr>\n",
       "    <tr>\n",
       "      <th>8</th>\n",
       "      <td>3</td>\n",
       "      <td>0</td>\n",
       "      <td>0</td>\n",
       "      <td>0</td>\n",
       "      <td>0</td>\n",
       "      <td>0</td>\n",
       "      <td>average</td>\n",
       "      <td>0</td>\n",
       "      <td>no</td>\n",
       "      <td>midwest</td>\n",
       "      <td>8.7</td>\n",
       "      <td>no</td>\n",
       "      <td>female</td>\n",
       "      <td>no</td>\n",
       "      <td>8</td>\n",
       "      <td>3.0456</td>\n",
       "      <td>no</td>\n",
       "      <td>yes</td>\n",
       "      <td>no</td>\n",
       "    </tr>\n",
       "    <tr>\n",
       "      <th>9</th>\n",
       "      <td>1</td>\n",
       "      <td>0</td>\n",
       "      <td>0</td>\n",
       "      <td>0</td>\n",
       "      <td>0</td>\n",
       "      <td>0</td>\n",
       "      <td>average</td>\n",
       "      <td>0</td>\n",
       "      <td>no</td>\n",
       "      <td>midwest</td>\n",
       "      <td>7.3</td>\n",
       "      <td>no</td>\n",
       "      <td>female</td>\n",
       "      <td>no</td>\n",
       "      <td>8</td>\n",
       "      <td>3.0456</td>\n",
       "      <td>no</td>\n",
       "      <td>yes</td>\n",
       "      <td>no</td>\n",
       "    </tr>\n",
       "    <tr>\n",
       "      <th>10</th>\n",
       "      <td>0</td>\n",
       "      <td>0</td>\n",
       "      <td>0</td>\n",
       "      <td>0</td>\n",
       "      <td>0</td>\n",
       "      <td>0</td>\n",
       "      <td>average</td>\n",
       "      <td>0</td>\n",
       "      <td>no</td>\n",
       "      <td>midwest</td>\n",
       "      <td>7.8</td>\n",
       "      <td>no</td>\n",
       "      <td>female</td>\n",
       "      <td>no</td>\n",
       "      <td>8</td>\n",
       "      <td>3.0456</td>\n",
       "      <td>no</td>\n",
       "      <td>yes</td>\n",
       "      <td>no</td>\n",
       "    </tr>\n",
       "  </tbody>\n",
       "</table>\n",
       "</div>"
      ],
      "text/plain": [
       "    ofp  ofnp  opp  opnp  emer  hosp   health  numchron adldiff   region  age  \\\n",
       "1     5     0    0     0     0     1  average         2      no    other  6.9   \n",
       "2     1     0    2     0     2     0  average         2      no    other  7.4   \n",
       "3    13     0    0     0     3     3     poor         4     yes    other  6.6   \n",
       "4    16     0    5     0     1     1     poor         2     yes    other  7.6   \n",
       "5     3     0    0     0     0     0  average         2     yes    other  7.9   \n",
       "6    17     0    0     0     0     0     poor         5     yes    other  6.6   \n",
       "7     9     0    0     0     0     0  average         0      no  midwest  7.5   \n",
       "8     3     0    0     0     0     0  average         0      no  midwest  8.7   \n",
       "9     1     0    0     0     0     0  average         0      no  midwest  7.3   \n",
       "10    0     0    0     0     0     0  average         0      no  midwest  7.8   \n",
       "\n",
       "   black  gender married  school  faminc employed privins medicaid  \n",
       "1    yes    male     yes       6  2.8810      yes     yes       no  \n",
       "2     no  female     yes      10  2.7478       no     yes       no  \n",
       "3    yes  female      no      10  0.6532       no      no      yes  \n",
       "4     no    male     yes       3  0.6588       no     yes       no  \n",
       "5     no  female     yes       6  0.6588       no     yes       no  \n",
       "6     no  female      no       7  0.3301       no      no      yes  \n",
       "7     no  female      no       8  0.8280       no     yes       no  \n",
       "8     no  female      no       8  3.0456       no     yes       no  \n",
       "9     no  female      no       8  3.0456       no     yes       no  \n",
       "10    no  female      no       8  3.0456       no     yes       no  "
      ]
     },
     "execution_count": 10,
     "metadata": {},
     "output_type": "execute_result"
    }
   ],
   "source": [
    "data.head(10)"
   ]
  },
  {
   "cell_type": "code",
   "execution_count": 11,
   "id": "6e5de210",
   "metadata": {
    "scrolled": true
   },
   "outputs": [
    {
     "data": {
      "text/html": [
       "<div>\n",
       "<style scoped>\n",
       "    .dataframe tbody tr th:only-of-type {\n",
       "        vertical-align: middle;\n",
       "    }\n",
       "\n",
       "    .dataframe tbody tr th {\n",
       "        vertical-align: top;\n",
       "    }\n",
       "\n",
       "    .dataframe thead th {\n",
       "        text-align: right;\n",
       "    }\n",
       "</style>\n",
       "<table border=\"1\" class=\"dataframe\">\n",
       "  <thead>\n",
       "    <tr style=\"text-align: right;\">\n",
       "      <th></th>\n",
       "      <th>ofp</th>\n",
       "      <th>ofnp</th>\n",
       "      <th>opp</th>\n",
       "      <th>opnp</th>\n",
       "      <th>emer</th>\n",
       "      <th>hosp</th>\n",
       "      <th>health</th>\n",
       "      <th>numchron</th>\n",
       "      <th>adldiff</th>\n",
       "      <th>region</th>\n",
       "      <th>age</th>\n",
       "      <th>black</th>\n",
       "      <th>gender</th>\n",
       "      <th>married</th>\n",
       "      <th>school</th>\n",
       "      <th>faminc</th>\n",
       "      <th>employed</th>\n",
       "      <th>privins</th>\n",
       "      <th>medicaid</th>\n",
       "    </tr>\n",
       "  </thead>\n",
       "  <tbody>\n",
       "    <tr>\n",
       "      <th>4402</th>\n",
       "      <td>11</td>\n",
       "      <td>0</td>\n",
       "      <td>0</td>\n",
       "      <td>0</td>\n",
       "      <td>0</td>\n",
       "      <td>0</td>\n",
       "      <td>average</td>\n",
       "      <td>0</td>\n",
       "      <td>no</td>\n",
       "      <td>other</td>\n",
       "      <td>8.4</td>\n",
       "      <td>no</td>\n",
       "      <td>female</td>\n",
       "      <td>yes</td>\n",
       "      <td>8</td>\n",
       "      <td>2.249700</td>\n",
       "      <td>no</td>\n",
       "      <td>yes</td>\n",
       "      <td>no</td>\n",
       "    </tr>\n",
       "    <tr>\n",
       "      <th>4403</th>\n",
       "      <td>12</td>\n",
       "      <td>0</td>\n",
       "      <td>0</td>\n",
       "      <td>0</td>\n",
       "      <td>0</td>\n",
       "      <td>0</td>\n",
       "      <td>average</td>\n",
       "      <td>2</td>\n",
       "      <td>no</td>\n",
       "      <td>other</td>\n",
       "      <td>7.8</td>\n",
       "      <td>no</td>\n",
       "      <td>female</td>\n",
       "      <td>no</td>\n",
       "      <td>11</td>\n",
       "      <td>5.813200</td>\n",
       "      <td>no</td>\n",
       "      <td>yes</td>\n",
       "      <td>no</td>\n",
       "    </tr>\n",
       "    <tr>\n",
       "      <th>4404</th>\n",
       "      <td>10</td>\n",
       "      <td>0</td>\n",
       "      <td>20</td>\n",
       "      <td>0</td>\n",
       "      <td>1</td>\n",
       "      <td>1</td>\n",
       "      <td>average</td>\n",
       "      <td>5</td>\n",
       "      <td>no</td>\n",
       "      <td>other</td>\n",
       "      <td>7.3</td>\n",
       "      <td>no</td>\n",
       "      <td>male</td>\n",
       "      <td>yes</td>\n",
       "      <td>12</td>\n",
       "      <td>3.877916</td>\n",
       "      <td>no</td>\n",
       "      <td>yes</td>\n",
       "      <td>no</td>\n",
       "    </tr>\n",
       "    <tr>\n",
       "      <th>4405</th>\n",
       "      <td>16</td>\n",
       "      <td>1</td>\n",
       "      <td>0</td>\n",
       "      <td>0</td>\n",
       "      <td>0</td>\n",
       "      <td>0</td>\n",
       "      <td>average</td>\n",
       "      <td>0</td>\n",
       "      <td>no</td>\n",
       "      <td>other</td>\n",
       "      <td>6.6</td>\n",
       "      <td>no</td>\n",
       "      <td>female</td>\n",
       "      <td>yes</td>\n",
       "      <td>12</td>\n",
       "      <td>3.877916</td>\n",
       "      <td>no</td>\n",
       "      <td>yes</td>\n",
       "      <td>no</td>\n",
       "    </tr>\n",
       "    <tr>\n",
       "      <th>4406</th>\n",
       "      <td>0</td>\n",
       "      <td>0</td>\n",
       "      <td>0</td>\n",
       "      <td>0</td>\n",
       "      <td>0</td>\n",
       "      <td>0</td>\n",
       "      <td>excellent</td>\n",
       "      <td>0</td>\n",
       "      <td>no</td>\n",
       "      <td>other</td>\n",
       "      <td>7.1</td>\n",
       "      <td>no</td>\n",
       "      <td>male</td>\n",
       "      <td>yes</td>\n",
       "      <td>0</td>\n",
       "      <td>6.596800</td>\n",
       "      <td>yes</td>\n",
       "      <td>no</td>\n",
       "      <td>no</td>\n",
       "    </tr>\n",
       "  </tbody>\n",
       "</table>\n",
       "</div>"
      ],
      "text/plain": [
       "      ofp  ofnp  opp  opnp  emer  hosp     health  numchron adldiff region  \\\n",
       "4402   11     0    0     0     0     0    average         0      no  other   \n",
       "4403   12     0    0     0     0     0    average         2      no  other   \n",
       "4404   10     0   20     0     1     1    average         5      no  other   \n",
       "4405   16     1    0     0     0     0    average         0      no  other   \n",
       "4406    0     0    0     0     0     0  excellent         0      no  other   \n",
       "\n",
       "      age black  gender married  school    faminc employed privins medicaid  \n",
       "4402  8.4    no  female     yes       8  2.249700       no     yes       no  \n",
       "4403  7.8    no  female      no      11  5.813200       no     yes       no  \n",
       "4404  7.3    no    male     yes      12  3.877916       no     yes       no  \n",
       "4405  6.6    no  female     yes      12  3.877916       no     yes       no  \n",
       "4406  7.1    no    male     yes       0  6.596800      yes      no       no  "
      ]
     },
     "execution_count": 11,
     "metadata": {},
     "output_type": "execute_result"
    }
   ],
   "source": [
    "data.tail()"
   ]
  },
  {
   "cell_type": "code",
   "execution_count": 12,
   "id": "fe295843",
   "metadata": {},
   "outputs": [
    {
     "data": {
      "text/plain": [
       "(4406, 19)"
      ]
     },
     "execution_count": 12,
     "metadata": {},
     "output_type": "execute_result"
    }
   ],
   "source": [
    "data.shape"
   ]
  },
  {
   "cell_type": "code",
   "execution_count": 13,
   "id": "e2a96530",
   "metadata": {},
   "outputs": [
    {
     "name": "stdout",
     "output_type": "stream",
     "text": [
      "<class 'pandas.core.frame.DataFrame'>\n",
      "Int64Index: 4406 entries, 1 to 4406\n",
      "Data columns (total 19 columns):\n",
      " #   Column    Non-Null Count  Dtype  \n",
      "---  ------    --------------  -----  \n",
      " 0   ofp       4406 non-null   int64  \n",
      " 1   ofnp      4406 non-null   int64  \n",
      " 2   opp       4406 non-null   int64  \n",
      " 3   opnp      4406 non-null   int64  \n",
      " 4   emer      4406 non-null   int64  \n",
      " 5   hosp      4406 non-null   int64  \n",
      " 6   health    4406 non-null   object \n",
      " 7   numchron  4406 non-null   int64  \n",
      " 8   adldiff   4406 non-null   object \n",
      " 9   region    4406 non-null   object \n",
      " 10  age       4406 non-null   float64\n",
      " 11  black     4406 non-null   object \n",
      " 12  gender    4406 non-null   object \n",
      " 13  married   4406 non-null   object \n",
      " 14  school    4406 non-null   int64  \n",
      " 15  faminc    4406 non-null   float64\n",
      " 16  employed  4406 non-null   object \n",
      " 17  privins   4406 non-null   object \n",
      " 18  medicaid  4406 non-null   object \n",
      "dtypes: float64(2), int64(8), object(9)\n",
      "memory usage: 688.4+ KB\n"
     ]
    }
   ],
   "source": [
    "data.info()"
   ]
  },
  {
   "cell_type": "code",
   "execution_count": 14,
   "id": "740c5112",
   "metadata": {
    "scrolled": true
   },
   "outputs": [
    {
     "data": {
      "text/plain": [
       "Index(['ofp', 'ofnp', 'opp', 'opnp', 'emer', 'hosp', 'health', 'numchron',\n",
       "       'adldiff', 'region', 'age', 'black', 'gender', 'married', 'school',\n",
       "       'faminc', 'employed', 'privins', 'medicaid'],\n",
       "      dtype='object')"
      ]
     },
     "execution_count": 14,
     "metadata": {},
     "output_type": "execute_result"
    }
   ],
   "source": [
    "data.columns"
   ]
  },
  {
   "cell_type": "code",
   "execution_count": 15,
   "id": "e90ec28a",
   "metadata": {},
   "outputs": [
    {
     "data": {
      "text/plain": [
       "dtype('int64')"
      ]
     },
     "execution_count": 15,
     "metadata": {},
     "output_type": "execute_result"
    }
   ],
   "source": [
    "data['ofp'].dtype"
   ]
  },
  {
   "cell_type": "code",
   "execution_count": 16,
   "id": "7f64cf48",
   "metadata": {
    "scrolled": true
   },
   "outputs": [
    {
     "data": {
      "text/html": [
       "<div>\n",
       "<style scoped>\n",
       "    .dataframe tbody tr th:only-of-type {\n",
       "        vertical-align: middle;\n",
       "    }\n",
       "\n",
       "    .dataframe tbody tr th {\n",
       "        vertical-align: top;\n",
       "    }\n",
       "\n",
       "    .dataframe thead th {\n",
       "        text-align: right;\n",
       "    }\n",
       "</style>\n",
       "<table border=\"1\" class=\"dataframe\">\n",
       "  <thead>\n",
       "    <tr style=\"text-align: right;\">\n",
       "      <th></th>\n",
       "      <th>ofp</th>\n",
       "      <th>ofnp</th>\n",
       "      <th>opp</th>\n",
       "      <th>opnp</th>\n",
       "      <th>emer</th>\n",
       "      <th>hosp</th>\n",
       "      <th>numchron</th>\n",
       "      <th>age</th>\n",
       "      <th>school</th>\n",
       "      <th>faminc</th>\n",
       "    </tr>\n",
       "  </thead>\n",
       "  <tbody>\n",
       "    <tr>\n",
       "      <th>count</th>\n",
       "      <td>4406.000000</td>\n",
       "      <td>4406.000000</td>\n",
       "      <td>4406.000000</td>\n",
       "      <td>4406.000000</td>\n",
       "      <td>4406.000000</td>\n",
       "      <td>4406.000000</td>\n",
       "      <td>4406.000000</td>\n",
       "      <td>4406.000000</td>\n",
       "      <td>4406.000000</td>\n",
       "      <td>4406.000000</td>\n",
       "    </tr>\n",
       "    <tr>\n",
       "      <th>mean</th>\n",
       "      <td>5.774399</td>\n",
       "      <td>1.618021</td>\n",
       "      <td>0.750794</td>\n",
       "      <td>0.536087</td>\n",
       "      <td>0.263504</td>\n",
       "      <td>0.295960</td>\n",
       "      <td>1.541988</td>\n",
       "      <td>7.402406</td>\n",
       "      <td>10.290286</td>\n",
       "      <td>2.527132</td>\n",
       "    </tr>\n",
       "    <tr>\n",
       "      <th>std</th>\n",
       "      <td>6.759225</td>\n",
       "      <td>5.317056</td>\n",
       "      <td>3.652759</td>\n",
       "      <td>3.879506</td>\n",
       "      <td>0.703659</td>\n",
       "      <td>0.746398</td>\n",
       "      <td>1.349632</td>\n",
       "      <td>0.633405</td>\n",
       "      <td>3.738736</td>\n",
       "      <td>2.924648</td>\n",
       "    </tr>\n",
       "    <tr>\n",
       "      <th>min</th>\n",
       "      <td>0.000000</td>\n",
       "      <td>0.000000</td>\n",
       "      <td>0.000000</td>\n",
       "      <td>0.000000</td>\n",
       "      <td>0.000000</td>\n",
       "      <td>0.000000</td>\n",
       "      <td>0.000000</td>\n",
       "      <td>6.600000</td>\n",
       "      <td>0.000000</td>\n",
       "      <td>-1.012500</td>\n",
       "    </tr>\n",
       "    <tr>\n",
       "      <th>25%</th>\n",
       "      <td>1.000000</td>\n",
       "      <td>0.000000</td>\n",
       "      <td>0.000000</td>\n",
       "      <td>0.000000</td>\n",
       "      <td>0.000000</td>\n",
       "      <td>0.000000</td>\n",
       "      <td>1.000000</td>\n",
       "      <td>6.900000</td>\n",
       "      <td>8.000000</td>\n",
       "      <td>0.912150</td>\n",
       "    </tr>\n",
       "    <tr>\n",
       "      <th>50%</th>\n",
       "      <td>4.000000</td>\n",
       "      <td>0.000000</td>\n",
       "      <td>0.000000</td>\n",
       "      <td>0.000000</td>\n",
       "      <td>0.000000</td>\n",
       "      <td>0.000000</td>\n",
       "      <td>1.000000</td>\n",
       "      <td>7.300000</td>\n",
       "      <td>11.000000</td>\n",
       "      <td>1.698150</td>\n",
       "    </tr>\n",
       "    <tr>\n",
       "      <th>75%</th>\n",
       "      <td>8.000000</td>\n",
       "      <td>1.000000</td>\n",
       "      <td>0.000000</td>\n",
       "      <td>0.000000</td>\n",
       "      <td>0.000000</td>\n",
       "      <td>0.000000</td>\n",
       "      <td>2.000000</td>\n",
       "      <td>7.800000</td>\n",
       "      <td>12.000000</td>\n",
       "      <td>3.172850</td>\n",
       "    </tr>\n",
       "    <tr>\n",
       "      <th>max</th>\n",
       "      <td>89.000000</td>\n",
       "      <td>104.000000</td>\n",
       "      <td>141.000000</td>\n",
       "      <td>155.000000</td>\n",
       "      <td>12.000000</td>\n",
       "      <td>8.000000</td>\n",
       "      <td>8.000000</td>\n",
       "      <td>10.900000</td>\n",
       "      <td>18.000000</td>\n",
       "      <td>54.835100</td>\n",
       "    </tr>\n",
       "  </tbody>\n",
       "</table>\n",
       "</div>"
      ],
      "text/plain": [
       "               ofp         ofnp          opp         opnp         emer  \\\n",
       "count  4406.000000  4406.000000  4406.000000  4406.000000  4406.000000   \n",
       "mean      5.774399     1.618021     0.750794     0.536087     0.263504   \n",
       "std       6.759225     5.317056     3.652759     3.879506     0.703659   \n",
       "min       0.000000     0.000000     0.000000     0.000000     0.000000   \n",
       "25%       1.000000     0.000000     0.000000     0.000000     0.000000   \n",
       "50%       4.000000     0.000000     0.000000     0.000000     0.000000   \n",
       "75%       8.000000     1.000000     0.000000     0.000000     0.000000   \n",
       "max      89.000000   104.000000   141.000000   155.000000    12.000000   \n",
       "\n",
       "              hosp     numchron          age       school       faminc  \n",
       "count  4406.000000  4406.000000  4406.000000  4406.000000  4406.000000  \n",
       "mean      0.295960     1.541988     7.402406    10.290286     2.527132  \n",
       "std       0.746398     1.349632     0.633405     3.738736     2.924648  \n",
       "min       0.000000     0.000000     6.600000     0.000000    -1.012500  \n",
       "25%       0.000000     1.000000     6.900000     8.000000     0.912150  \n",
       "50%       0.000000     1.000000     7.300000    11.000000     1.698150  \n",
       "75%       0.000000     2.000000     7.800000    12.000000     3.172850  \n",
       "max       8.000000     8.000000    10.900000    18.000000    54.835100  "
      ]
     },
     "execution_count": 16,
     "metadata": {},
     "output_type": "execute_result"
    }
   ],
   "source": [
    "data.describe()"
   ]
  },
  {
   "cell_type": "code",
   "execution_count": 17,
   "id": "5d2b1c93",
   "metadata": {},
   "outputs": [
    {
     "data": {
      "text/plain": [
       "array(['average', 'poor', 'excellent'], dtype=object)"
      ]
     },
     "execution_count": 17,
     "metadata": {},
     "output_type": "execute_result"
    }
   ],
   "source": [
    "data[\"health\"].unique()"
   ]
  },
  {
   "cell_type": "code",
   "execution_count": 18,
   "id": "739e9820",
   "metadata": {},
   "outputs": [
    {
     "data": {
      "text/plain": [
       "3"
      ]
     },
     "execution_count": 18,
     "metadata": {},
     "output_type": "execute_result"
    }
   ],
   "source": [
    "data[\"health\"].nunique()"
   ]
  },
  {
   "cell_type": "code",
   "execution_count": null,
   "id": "8a5d9bd9",
   "metadata": {},
   "outputs": [],
   "source": []
  },
  {
   "cell_type": "markdown",
   "id": "b3cd3b44",
   "metadata": {},
   "source": [
    "# 결측치(NaN) 처리"
   ]
  },
  {
   "cell_type": "markdown",
   "id": "9c086a40",
   "metadata": {},
   "source": [
    "### 결측치 확인  "
   ]
  },
  {
   "cell_type": "markdown",
   "id": "20657515",
   "metadata": {},
   "source": [
    "- df.isna(): \n",
    "  - 결측지 NaN 값 포함 여부를 Boolean 타입의 값으로 반환해준다. True(결측치)/ False(결측치 아님)     \n",
    "\n",
    "- df.isnull(): \n",
    "  - isna()와 같다. R에서는 na와 null이 다른 데이터로 구분되는데 파이선에서는 같이 취급    \n",
    "  - df.isnull().sum(): 각 칼럼 별로 결측치의 갯수 확인       \n",
    "        \n",
    "- df.isin():  \n",
    "  - 해당 데이터의 존재 여부를 묻는 함수\n",
    "  - 결측치, 이상치 데이터의 존재 여부 확인 가능\n",
    "  - 파라미터 값에 항상 리스트를 넣어야 작동  "
   ]
  },
  {
   "cell_type": "code",
   "execution_count": null,
   "id": "88453581",
   "metadata": {},
   "outputs": [],
   "source": []
  },
  {
   "cell_type": "markdown",
   "id": "63bf3c15",
   "metadata": {},
   "source": [
    "#### df.isna()"
   ]
  },
  {
   "cell_type": "code",
   "execution_count": 19,
   "id": "eaec1d7e",
   "metadata": {},
   "outputs": [
    {
     "data": {
      "text/html": [
       "<div>\n",
       "<style scoped>\n",
       "    .dataframe tbody tr th:only-of-type {\n",
       "        vertical-align: middle;\n",
       "    }\n",
       "\n",
       "    .dataframe tbody tr th {\n",
       "        vertical-align: top;\n",
       "    }\n",
       "\n",
       "    .dataframe thead th {\n",
       "        text-align: right;\n",
       "    }\n",
       "</style>\n",
       "<table border=\"1\" class=\"dataframe\">\n",
       "  <thead>\n",
       "    <tr style=\"text-align: right;\">\n",
       "      <th></th>\n",
       "      <th>ofp</th>\n",
       "      <th>ofnp</th>\n",
       "      <th>opp</th>\n",
       "      <th>opnp</th>\n",
       "      <th>emer</th>\n",
       "      <th>hosp</th>\n",
       "      <th>health</th>\n",
       "      <th>numchron</th>\n",
       "      <th>adldiff</th>\n",
       "      <th>region</th>\n",
       "      <th>age</th>\n",
       "      <th>black</th>\n",
       "      <th>gender</th>\n",
       "      <th>married</th>\n",
       "      <th>school</th>\n",
       "      <th>faminc</th>\n",
       "      <th>employed</th>\n",
       "      <th>privins</th>\n",
       "      <th>medicaid</th>\n",
       "    </tr>\n",
       "  </thead>\n",
       "  <tbody>\n",
       "    <tr>\n",
       "      <th>1</th>\n",
       "      <td>False</td>\n",
       "      <td>False</td>\n",
       "      <td>False</td>\n",
       "      <td>False</td>\n",
       "      <td>False</td>\n",
       "      <td>False</td>\n",
       "      <td>False</td>\n",
       "      <td>False</td>\n",
       "      <td>False</td>\n",
       "      <td>False</td>\n",
       "      <td>False</td>\n",
       "      <td>False</td>\n",
       "      <td>False</td>\n",
       "      <td>False</td>\n",
       "      <td>False</td>\n",
       "      <td>False</td>\n",
       "      <td>False</td>\n",
       "      <td>False</td>\n",
       "      <td>False</td>\n",
       "    </tr>\n",
       "    <tr>\n",
       "      <th>2</th>\n",
       "      <td>False</td>\n",
       "      <td>False</td>\n",
       "      <td>False</td>\n",
       "      <td>False</td>\n",
       "      <td>False</td>\n",
       "      <td>False</td>\n",
       "      <td>False</td>\n",
       "      <td>False</td>\n",
       "      <td>False</td>\n",
       "      <td>False</td>\n",
       "      <td>False</td>\n",
       "      <td>False</td>\n",
       "      <td>False</td>\n",
       "      <td>False</td>\n",
       "      <td>False</td>\n",
       "      <td>False</td>\n",
       "      <td>False</td>\n",
       "      <td>False</td>\n",
       "      <td>False</td>\n",
       "    </tr>\n",
       "    <tr>\n",
       "      <th>3</th>\n",
       "      <td>False</td>\n",
       "      <td>False</td>\n",
       "      <td>False</td>\n",
       "      <td>False</td>\n",
       "      <td>False</td>\n",
       "      <td>False</td>\n",
       "      <td>False</td>\n",
       "      <td>False</td>\n",
       "      <td>False</td>\n",
       "      <td>False</td>\n",
       "      <td>False</td>\n",
       "      <td>False</td>\n",
       "      <td>False</td>\n",
       "      <td>False</td>\n",
       "      <td>False</td>\n",
       "      <td>False</td>\n",
       "      <td>False</td>\n",
       "      <td>False</td>\n",
       "      <td>False</td>\n",
       "    </tr>\n",
       "    <tr>\n",
       "      <th>4</th>\n",
       "      <td>False</td>\n",
       "      <td>False</td>\n",
       "      <td>False</td>\n",
       "      <td>False</td>\n",
       "      <td>False</td>\n",
       "      <td>False</td>\n",
       "      <td>False</td>\n",
       "      <td>False</td>\n",
       "      <td>False</td>\n",
       "      <td>False</td>\n",
       "      <td>False</td>\n",
       "      <td>False</td>\n",
       "      <td>False</td>\n",
       "      <td>False</td>\n",
       "      <td>False</td>\n",
       "      <td>False</td>\n",
       "      <td>False</td>\n",
       "      <td>False</td>\n",
       "      <td>False</td>\n",
       "    </tr>\n",
       "    <tr>\n",
       "      <th>5</th>\n",
       "      <td>False</td>\n",
       "      <td>False</td>\n",
       "      <td>False</td>\n",
       "      <td>False</td>\n",
       "      <td>False</td>\n",
       "      <td>False</td>\n",
       "      <td>False</td>\n",
       "      <td>False</td>\n",
       "      <td>False</td>\n",
       "      <td>False</td>\n",
       "      <td>False</td>\n",
       "      <td>False</td>\n",
       "      <td>False</td>\n",
       "      <td>False</td>\n",
       "      <td>False</td>\n",
       "      <td>False</td>\n",
       "      <td>False</td>\n",
       "      <td>False</td>\n",
       "      <td>False</td>\n",
       "    </tr>\n",
       "    <tr>\n",
       "      <th>6</th>\n",
       "      <td>False</td>\n",
       "      <td>False</td>\n",
       "      <td>False</td>\n",
       "      <td>False</td>\n",
       "      <td>False</td>\n",
       "      <td>False</td>\n",
       "      <td>False</td>\n",
       "      <td>False</td>\n",
       "      <td>False</td>\n",
       "      <td>False</td>\n",
       "      <td>False</td>\n",
       "      <td>False</td>\n",
       "      <td>False</td>\n",
       "      <td>False</td>\n",
       "      <td>False</td>\n",
       "      <td>False</td>\n",
       "      <td>False</td>\n",
       "      <td>False</td>\n",
       "      <td>False</td>\n",
       "    </tr>\n",
       "    <tr>\n",
       "      <th>7</th>\n",
       "      <td>False</td>\n",
       "      <td>False</td>\n",
       "      <td>False</td>\n",
       "      <td>False</td>\n",
       "      <td>False</td>\n",
       "      <td>False</td>\n",
       "      <td>False</td>\n",
       "      <td>False</td>\n",
       "      <td>False</td>\n",
       "      <td>False</td>\n",
       "      <td>False</td>\n",
       "      <td>False</td>\n",
       "      <td>False</td>\n",
       "      <td>False</td>\n",
       "      <td>False</td>\n",
       "      <td>False</td>\n",
       "      <td>False</td>\n",
       "      <td>False</td>\n",
       "      <td>False</td>\n",
       "    </tr>\n",
       "    <tr>\n",
       "      <th>8</th>\n",
       "      <td>False</td>\n",
       "      <td>False</td>\n",
       "      <td>False</td>\n",
       "      <td>False</td>\n",
       "      <td>False</td>\n",
       "      <td>False</td>\n",
       "      <td>False</td>\n",
       "      <td>False</td>\n",
       "      <td>False</td>\n",
       "      <td>False</td>\n",
       "      <td>False</td>\n",
       "      <td>False</td>\n",
       "      <td>False</td>\n",
       "      <td>False</td>\n",
       "      <td>False</td>\n",
       "      <td>False</td>\n",
       "      <td>False</td>\n",
       "      <td>False</td>\n",
       "      <td>False</td>\n",
       "    </tr>\n",
       "    <tr>\n",
       "      <th>9</th>\n",
       "      <td>False</td>\n",
       "      <td>False</td>\n",
       "      <td>False</td>\n",
       "      <td>False</td>\n",
       "      <td>False</td>\n",
       "      <td>False</td>\n",
       "      <td>False</td>\n",
       "      <td>False</td>\n",
       "      <td>False</td>\n",
       "      <td>False</td>\n",
       "      <td>False</td>\n",
       "      <td>False</td>\n",
       "      <td>False</td>\n",
       "      <td>False</td>\n",
       "      <td>False</td>\n",
       "      <td>False</td>\n",
       "      <td>False</td>\n",
       "      <td>False</td>\n",
       "      <td>False</td>\n",
       "    </tr>\n",
       "    <tr>\n",
       "      <th>10</th>\n",
       "      <td>False</td>\n",
       "      <td>False</td>\n",
       "      <td>False</td>\n",
       "      <td>False</td>\n",
       "      <td>False</td>\n",
       "      <td>False</td>\n",
       "      <td>False</td>\n",
       "      <td>False</td>\n",
       "      <td>False</td>\n",
       "      <td>False</td>\n",
       "      <td>False</td>\n",
       "      <td>False</td>\n",
       "      <td>False</td>\n",
       "      <td>False</td>\n",
       "      <td>False</td>\n",
       "      <td>False</td>\n",
       "      <td>False</td>\n",
       "      <td>False</td>\n",
       "      <td>False</td>\n",
       "    </tr>\n",
       "  </tbody>\n",
       "</table>\n",
       "</div>"
      ],
      "text/plain": [
       "      ofp   ofnp    opp   opnp   emer   hosp  health  numchron  adldiff  \\\n",
       "1   False  False  False  False  False  False   False     False    False   \n",
       "2   False  False  False  False  False  False   False     False    False   \n",
       "3   False  False  False  False  False  False   False     False    False   \n",
       "4   False  False  False  False  False  False   False     False    False   \n",
       "5   False  False  False  False  False  False   False     False    False   \n",
       "6   False  False  False  False  False  False   False     False    False   \n",
       "7   False  False  False  False  False  False   False     False    False   \n",
       "8   False  False  False  False  False  False   False     False    False   \n",
       "9   False  False  False  False  False  False   False     False    False   \n",
       "10  False  False  False  False  False  False   False     False    False   \n",
       "\n",
       "    region    age  black  gender  married  school  faminc  employed  privins  \\\n",
       "1    False  False  False   False    False   False   False     False    False   \n",
       "2    False  False  False   False    False   False   False     False    False   \n",
       "3    False  False  False   False    False   False   False     False    False   \n",
       "4    False  False  False   False    False   False   False     False    False   \n",
       "5    False  False  False   False    False   False   False     False    False   \n",
       "6    False  False  False   False    False   False   False     False    False   \n",
       "7    False  False  False   False    False   False   False     False    False   \n",
       "8    False  False  False   False    False   False   False     False    False   \n",
       "9    False  False  False   False    False   False   False     False    False   \n",
       "10   False  False  False   False    False   False   False     False    False   \n",
       "\n",
       "    medicaid  \n",
       "1      False  \n",
       "2      False  \n",
       "3      False  \n",
       "4      False  \n",
       "5      False  \n",
       "6      False  \n",
       "7      False  \n",
       "8      False  \n",
       "9      False  \n",
       "10     False  "
      ]
     },
     "execution_count": 19,
     "metadata": {},
     "output_type": "execute_result"
    }
   ],
   "source": [
    "data.isna().head(10)"
   ]
  },
  {
   "cell_type": "code",
   "execution_count": 20,
   "id": "8da2a622",
   "metadata": {},
   "outputs": [
    {
     "data": {
      "text/plain": [
       "ofp         0\n",
       "ofnp        0\n",
       "opp         0\n",
       "opnp        0\n",
       "emer        0\n",
       "hosp        0\n",
       "health      0\n",
       "numchron    0\n",
       "adldiff     0\n",
       "region      0\n",
       "age         0\n",
       "black       0\n",
       "gender      0\n",
       "married     0\n",
       "school      0\n",
       "faminc      0\n",
       "employed    0\n",
       "privins     0\n",
       "medicaid    0\n",
       "dtype: int64"
      ]
     },
     "execution_count": 20,
     "metadata": {},
     "output_type": "execute_result"
    }
   ],
   "source": [
    "data.isna().sum() # 결측치 갯수 알려줌 # sum(np.isnan(sample['ARA2Aw2'])==True)"
   ]
  },
  {
   "cell_type": "markdown",
   "id": "01218a48",
   "metadata": {},
   "source": [
    "#### df.isin()"
   ]
  },
  {
   "cell_type": "code",
   "execution_count": 21,
   "id": "6a305ca4",
   "metadata": {},
   "outputs": [],
   "source": [
    "r1=[1,np.nan,2,3]\n",
    "r2=[4,5,np.nan,6]\n",
    "r3=[7,8,9,np.inf]\n",
    "\n",
    "df=pd.DataFrame({\"r1\":r1,\"r2\":r2,\"r3\":r3})"
   ]
  },
  {
   "cell_type": "code",
   "execution_count": 24,
   "id": "07615e48",
   "metadata": {},
   "outputs": [
    {
     "data": {
      "text/html": [
       "<div>\n",
       "<style scoped>\n",
       "    .dataframe tbody tr th:only-of-type {\n",
       "        vertical-align: middle;\n",
       "    }\n",
       "\n",
       "    .dataframe tbody tr th {\n",
       "        vertical-align: top;\n",
       "    }\n",
       "\n",
       "    .dataframe thead th {\n",
       "        text-align: right;\n",
       "    }\n",
       "</style>\n",
       "<table border=\"1\" class=\"dataframe\">\n",
       "  <thead>\n",
       "    <tr style=\"text-align: right;\">\n",
       "      <th></th>\n",
       "      <th>r1</th>\n",
       "      <th>r2</th>\n",
       "      <th>r3</th>\n",
       "    </tr>\n",
       "  </thead>\n",
       "  <tbody>\n",
       "    <tr>\n",
       "      <th>0</th>\n",
       "      <td>1.0</td>\n",
       "      <td>4.0</td>\n",
       "      <td>7.0</td>\n",
       "    </tr>\n",
       "    <tr>\n",
       "      <th>1</th>\n",
       "      <td>NaN</td>\n",
       "      <td>5.0</td>\n",
       "      <td>8.0</td>\n",
       "    </tr>\n",
       "    <tr>\n",
       "      <th>2</th>\n",
       "      <td>2.0</td>\n",
       "      <td>NaN</td>\n",
       "      <td>9.0</td>\n",
       "    </tr>\n",
       "    <tr>\n",
       "      <th>3</th>\n",
       "      <td>3.0</td>\n",
       "      <td>6.0</td>\n",
       "      <td>inf</td>\n",
       "    </tr>\n",
       "  </tbody>\n",
       "</table>\n",
       "</div>"
      ],
      "text/plain": [
       "    r1   r2   r3\n",
       "0  1.0  4.0  7.0\n",
       "1  NaN  5.0  8.0\n",
       "2  2.0  NaN  9.0\n",
       "3  3.0  6.0  inf"
      ]
     },
     "execution_count": 24,
     "metadata": {},
     "output_type": "execute_result"
    }
   ],
   "source": [
    "df"
   ]
  },
  {
   "cell_type": "code",
   "execution_count": 22,
   "id": "aeb993bb",
   "metadata": {},
   "outputs": [
    {
     "data": {
      "text/html": [
       "<div>\n",
       "<style scoped>\n",
       "    .dataframe tbody tr th:only-of-type {\n",
       "        vertical-align: middle;\n",
       "    }\n",
       "\n",
       "    .dataframe tbody tr th {\n",
       "        vertical-align: top;\n",
       "    }\n",
       "\n",
       "    .dataframe thead th {\n",
       "        text-align: right;\n",
       "    }\n",
       "</style>\n",
       "<table border=\"1\" class=\"dataframe\">\n",
       "  <thead>\n",
       "    <tr style=\"text-align: right;\">\n",
       "      <th></th>\n",
       "      <th>r1</th>\n",
       "      <th>r2</th>\n",
       "      <th>r3</th>\n",
       "    </tr>\n",
       "  </thead>\n",
       "  <tbody>\n",
       "    <tr>\n",
       "      <th>0</th>\n",
       "      <td>False</td>\n",
       "      <td>False</td>\n",
       "      <td>False</td>\n",
       "    </tr>\n",
       "    <tr>\n",
       "      <th>1</th>\n",
       "      <td>True</td>\n",
       "      <td>False</td>\n",
       "      <td>False</td>\n",
       "    </tr>\n",
       "    <tr>\n",
       "      <th>2</th>\n",
       "      <td>False</td>\n",
       "      <td>True</td>\n",
       "      <td>False</td>\n",
       "    </tr>\n",
       "    <tr>\n",
       "      <th>3</th>\n",
       "      <td>False</td>\n",
       "      <td>False</td>\n",
       "      <td>True</td>\n",
       "    </tr>\n",
       "  </tbody>\n",
       "</table>\n",
       "</div>"
      ],
      "text/plain": [
       "      r1     r2     r3\n",
       "0  False  False  False\n",
       "1   True  False  False\n",
       "2  False   True  False\n",
       "3  False  False   True"
      ]
     },
     "execution_count": 22,
     "metadata": {},
     "output_type": "execute_result"
    }
   ],
   "source": [
    "df.isin([np.nan,np.inf])"
   ]
  },
  {
   "cell_type": "code",
   "execution_count": 23,
   "id": "ebad67da",
   "metadata": {
    "scrolled": true
   },
   "outputs": [
    {
     "data": {
      "text/plain": [
       "r1    1\n",
       "r2    1\n",
       "r3    1\n",
       "dtype: int64"
      ]
     },
     "execution_count": 23,
     "metadata": {},
     "output_type": "execute_result"
    }
   ],
   "source": [
    "df.isin([np.nan,np.inf]).sum()"
   ]
  },
  {
   "cell_type": "code",
   "execution_count": null,
   "id": "3051a9a3",
   "metadata": {},
   "outputs": [],
   "source": []
  },
  {
   "cell_type": "markdown",
   "id": "8507fbde",
   "metadata": {},
   "source": [
    "### 결측치의 위치 찾기 (np.where 사용)"
   ]
  },
  {
   "cell_type": "markdown",
   "id": "53699223",
   "metadata": {},
   "source": [
    "- np.where 기본 사용법 (인덱스만 반환)   \n",
    "  - 조건 만족하는 위치 인덱스 찾기  \n",
    "  - 우선, 기본적으로 넘파이의 np.where 함수를 사용하는 방법은 np.where 내에 조건만 적는 방법이다.\n",
    "  - np.where(조건)   \n",
    "\n",
    "- np.where 값 반환 응용 (조건 True, False 위치 브로드캐스팅)\n",
    "  - np.where에서 두번째, 세번째 인자에 True일 때 값, False일 때 값을 써주면 브로드 캐스팅이 가능하다.\n",
    "  - np.where(조건,True 값,False 값)"
   ]
  },
  {
   "cell_type": "code",
   "execution_count": 25,
   "id": "87ed9c0a",
   "metadata": {},
   "outputs": [
    {
     "data": {
      "text/plain": [
       "array([100, 100, 200, 200])"
      ]
     },
     "execution_count": 25,
     "metadata": {},
     "output_type": "execute_result"
    }
   ],
   "source": [
    "np.where(df['r1']>1,200,100)  # df['r1']가 1보다 크면 200, 그렇지 않으면 100의 값으로 설정"
   ]
  },
  {
   "cell_type": "code",
   "execution_count": null,
   "id": "27fe1a15",
   "metadata": {},
   "outputs": [],
   "source": []
  },
  {
   "cell_type": "markdown",
   "id": "73fd87eb",
   "metadata": {},
   "source": [
    "### 결측치(NaN) 버리기 (Delete row and column)"
   ]
  },
  {
   "cell_type": "markdown",
   "id": "d4d0ee65",
   "metadata": {},
   "source": [
    "- 결측치가 있는 row나 column을 버리는 방법           \n",
    "\n",
    "- dropna: 결측치만 없어짐      \n",
    "  - df.dropna(): row 제거가 디폴트       \n",
    "\n",
    "- drop: \n",
    "  - df.drop(index): 지정한 index의 행을 제거\n",
    "  - df.drop(\"칼럼 명\", axis=1): 지정한 칼럼 명의 열을 제거"
   ]
  },
  {
   "cell_type": "markdown",
   "id": "b8806dbb",
   "metadata": {},
   "source": [
    "#### dropna()"
   ]
  },
  {
   "cell_type": "code",
   "execution_count": 26,
   "id": "e2c43e69",
   "metadata": {
    "scrolled": false
   },
   "outputs": [
    {
     "data": {
      "text/html": [
       "<div>\n",
       "<style scoped>\n",
       "    .dataframe tbody tr th:only-of-type {\n",
       "        vertical-align: middle;\n",
       "    }\n",
       "\n",
       "    .dataframe tbody tr th {\n",
       "        vertical-align: top;\n",
       "    }\n",
       "\n",
       "    .dataframe thead th {\n",
       "        text-align: right;\n",
       "    }\n",
       "</style>\n",
       "<table border=\"1\" class=\"dataframe\">\n",
       "  <thead>\n",
       "    <tr style=\"text-align: right;\">\n",
       "      <th></th>\n",
       "      <th>r1</th>\n",
       "      <th>r2</th>\n",
       "      <th>r3</th>\n",
       "    </tr>\n",
       "  </thead>\n",
       "  <tbody>\n",
       "    <tr>\n",
       "      <th>0</th>\n",
       "      <td>1.0</td>\n",
       "      <td>4.0</td>\n",
       "      <td>7.0</td>\n",
       "    </tr>\n",
       "    <tr>\n",
       "      <th>3</th>\n",
       "      <td>3.0</td>\n",
       "      <td>6.0</td>\n",
       "      <td>inf</td>\n",
       "    </tr>\n",
       "  </tbody>\n",
       "</table>\n",
       "</div>"
      ],
      "text/plain": [
       "    r1   r2   r3\n",
       "0  1.0  4.0  7.0\n",
       "3  3.0  6.0  inf"
      ]
     },
     "execution_count": 26,
     "metadata": {},
     "output_type": "execute_result"
    }
   ],
   "source": [
    "df.dropna()\n",
    "# df.dropna(axis=\"rows\") # 같은 결과\n",
    "# df.dropna(axis=0) # axis=0 for row"
   ]
  },
  {
   "cell_type": "code",
   "execution_count": 27,
   "id": "9e420581",
   "metadata": {
    "scrolled": true
   },
   "outputs": [
    {
     "data": {
      "text/html": [
       "<div>\n",
       "<style scoped>\n",
       "    .dataframe tbody tr th:only-of-type {\n",
       "        vertical-align: middle;\n",
       "    }\n",
       "\n",
       "    .dataframe tbody tr th {\n",
       "        vertical-align: top;\n",
       "    }\n",
       "\n",
       "    .dataframe thead th {\n",
       "        text-align: right;\n",
       "    }\n",
       "</style>\n",
       "<table border=\"1\" class=\"dataframe\">\n",
       "  <thead>\n",
       "    <tr style=\"text-align: right;\">\n",
       "      <th></th>\n",
       "      <th>r3</th>\n",
       "    </tr>\n",
       "  </thead>\n",
       "  <tbody>\n",
       "    <tr>\n",
       "      <th>0</th>\n",
       "      <td>7.0</td>\n",
       "    </tr>\n",
       "    <tr>\n",
       "      <th>1</th>\n",
       "      <td>8.0</td>\n",
       "    </tr>\n",
       "    <tr>\n",
       "      <th>2</th>\n",
       "      <td>9.0</td>\n",
       "    </tr>\n",
       "    <tr>\n",
       "      <th>3</th>\n",
       "      <td>inf</td>\n",
       "    </tr>\n",
       "  </tbody>\n",
       "</table>\n",
       "</div>"
      ],
      "text/plain": [
       "    r3\n",
       "0  7.0\n",
       "1  8.0\n",
       "2  9.0\n",
       "3  inf"
      ]
     },
     "execution_count": 27,
     "metadata": {},
     "output_type": "execute_result"
    }
   ],
   "source": [
    "df.dropna(axis=1) # axis=1 for column. 칼럼 기준으로 제거"
   ]
  },
  {
   "cell_type": "code",
   "execution_count": null,
   "id": "a7199b43",
   "metadata": {},
   "outputs": [],
   "source": []
  },
  {
   "cell_type": "markdown",
   "id": "333bb5f2",
   "metadata": {},
   "source": [
    "#### drop()"
   ]
  },
  {
   "cell_type": "markdown",
   "id": "b4e00228",
   "metadata": {},
   "source": [
    "   - 칼럼 기준으로 제거"
   ]
  },
  {
   "cell_type": "code",
   "execution_count": 28,
   "id": "81e747a4",
   "metadata": {},
   "outputs": [
    {
     "data": {
      "text/html": [
       "<div>\n",
       "<style scoped>\n",
       "    .dataframe tbody tr th:only-of-type {\n",
       "        vertical-align: middle;\n",
       "    }\n",
       "\n",
       "    .dataframe tbody tr th {\n",
       "        vertical-align: top;\n",
       "    }\n",
       "\n",
       "    .dataframe thead th {\n",
       "        text-align: right;\n",
       "    }\n",
       "</style>\n",
       "<table border=\"1\" class=\"dataframe\">\n",
       "  <thead>\n",
       "    <tr style=\"text-align: right;\">\n",
       "      <th></th>\n",
       "      <th>r2</th>\n",
       "      <th>r3</th>\n",
       "    </tr>\n",
       "  </thead>\n",
       "  <tbody>\n",
       "    <tr>\n",
       "      <th>0</th>\n",
       "      <td>4.0</td>\n",
       "      <td>7.0</td>\n",
       "    </tr>\n",
       "    <tr>\n",
       "      <th>1</th>\n",
       "      <td>5.0</td>\n",
       "      <td>8.0</td>\n",
       "    </tr>\n",
       "    <tr>\n",
       "      <th>2</th>\n",
       "      <td>NaN</td>\n",
       "      <td>9.0</td>\n",
       "    </tr>\n",
       "    <tr>\n",
       "      <th>3</th>\n",
       "      <td>6.0</td>\n",
       "      <td>inf</td>\n",
       "    </tr>\n",
       "  </tbody>\n",
       "</table>\n",
       "</div>"
      ],
      "text/plain": [
       "    r2   r3\n",
       "0  4.0  7.0\n",
       "1  5.0  8.0\n",
       "2  NaN  9.0\n",
       "3  6.0  inf"
      ]
     },
     "execution_count": 28,
     "metadata": {},
     "output_type": "execute_result"
    }
   ],
   "source": [
    "df.drop(\"r1\", axis=1)"
   ]
  },
  {
   "cell_type": "code",
   "execution_count": 29,
   "id": "6a3ea574",
   "metadata": {
    "scrolled": true
   },
   "outputs": [
    {
     "data": {
      "text/html": [
       "<div>\n",
       "<style scoped>\n",
       "    .dataframe tbody tr th:only-of-type {\n",
       "        vertical-align: middle;\n",
       "    }\n",
       "\n",
       "    .dataframe tbody tr th {\n",
       "        vertical-align: top;\n",
       "    }\n",
       "\n",
       "    .dataframe thead th {\n",
       "        text-align: right;\n",
       "    }\n",
       "</style>\n",
       "<table border=\"1\" class=\"dataframe\">\n",
       "  <thead>\n",
       "    <tr style=\"text-align: right;\">\n",
       "      <th></th>\n",
       "      <th>r3</th>\n",
       "    </tr>\n",
       "  </thead>\n",
       "  <tbody>\n",
       "    <tr>\n",
       "      <th>0</th>\n",
       "      <td>7.0</td>\n",
       "    </tr>\n",
       "    <tr>\n",
       "      <th>1</th>\n",
       "      <td>8.0</td>\n",
       "    </tr>\n",
       "    <tr>\n",
       "      <th>2</th>\n",
       "      <td>9.0</td>\n",
       "    </tr>\n",
       "    <tr>\n",
       "      <th>3</th>\n",
       "      <td>inf</td>\n",
       "    </tr>\n",
       "  </tbody>\n",
       "</table>\n",
       "</div>"
      ],
      "text/plain": [
       "    r3\n",
       "0  7.0\n",
       "1  8.0\n",
       "2  9.0\n",
       "3  inf"
      ]
     },
     "execution_count": 29,
     "metadata": {},
     "output_type": "execute_result"
    }
   ],
   "source": [
    "df.drop([\"r1\", 'r2'], axis=1)"
   ]
  },
  {
   "cell_type": "markdown",
   "id": "2e442aa7",
   "metadata": {},
   "source": [
    "* index (or row) 기준으로 제거"
   ]
  },
  {
   "cell_type": "code",
   "execution_count": 30,
   "id": "15e8a8ca",
   "metadata": {},
   "outputs": [
    {
     "data": {
      "text/html": [
       "<div>\n",
       "<style scoped>\n",
       "    .dataframe tbody tr th:only-of-type {\n",
       "        vertical-align: middle;\n",
       "    }\n",
       "\n",
       "    .dataframe tbody tr th {\n",
       "        vertical-align: top;\n",
       "    }\n",
       "\n",
       "    .dataframe thead th {\n",
       "        text-align: right;\n",
       "    }\n",
       "</style>\n",
       "<table border=\"1\" class=\"dataframe\">\n",
       "  <thead>\n",
       "    <tr style=\"text-align: right;\">\n",
       "      <th></th>\n",
       "      <th>r1</th>\n",
       "      <th>r2</th>\n",
       "      <th>r3</th>\n",
       "    </tr>\n",
       "  </thead>\n",
       "  <tbody>\n",
       "    <tr>\n",
       "      <th>0</th>\n",
       "      <td>1.0</td>\n",
       "      <td>4.0</td>\n",
       "      <td>7.0</td>\n",
       "    </tr>\n",
       "    <tr>\n",
       "      <th>2</th>\n",
       "      <td>2.0</td>\n",
       "      <td>NaN</td>\n",
       "      <td>9.0</td>\n",
       "    </tr>\n",
       "    <tr>\n",
       "      <th>3</th>\n",
       "      <td>3.0</td>\n",
       "      <td>6.0</td>\n",
       "      <td>inf</td>\n",
       "    </tr>\n",
       "  </tbody>\n",
       "</table>\n",
       "</div>"
      ],
      "text/plain": [
       "    r1   r2   r3\n",
       "0  1.0  4.0  7.0\n",
       "2  2.0  NaN  9.0\n",
       "3  3.0  6.0  inf"
      ]
     },
     "execution_count": 30,
     "metadata": {},
     "output_type": "execute_result"
    }
   ],
   "source": [
    "df1 = df.drop(1)  #data = data.drop([0, 15, 20]) \n",
    "df1"
   ]
  },
  {
   "cell_type": "code",
   "execution_count": null,
   "id": "ae4d1603",
   "metadata": {},
   "outputs": [],
   "source": []
  },
  {
   "cell_type": "code",
   "execution_count": null,
   "id": "81050d72",
   "metadata": {},
   "outputs": [],
   "source": []
  },
  {
   "cell_type": "markdown",
   "id": "bf10795e",
   "metadata": {},
   "source": [
    "# 변수 만들기/코딩하기\n",
    " - 숫자형 변수는 그대로 사용하고, 범주형 변수는 더미변수(0 or 1)로 변환하는 작업을 실행한다.\n",
    " - pandas의 pd.get_dummies() 함수 사용"
   ]
  },
  {
   "cell_type": "code",
   "execution_count": 31,
   "id": "0383afb4",
   "metadata": {
    "scrolled": true
   },
   "outputs": [
    {
     "data": {
      "text/html": [
       "<div>\n",
       "<style scoped>\n",
       "    .dataframe tbody tr th:only-of-type {\n",
       "        vertical-align: middle;\n",
       "    }\n",
       "\n",
       "    .dataframe tbody tr th {\n",
       "        vertical-align: top;\n",
       "    }\n",
       "\n",
       "    .dataframe thead th {\n",
       "        text-align: right;\n",
       "    }\n",
       "</style>\n",
       "<table border=\"1\" class=\"dataframe\">\n",
       "  <thead>\n",
       "    <tr style=\"text-align: right;\">\n",
       "      <th></th>\n",
       "      <th>ofp</th>\n",
       "      <th>ofnp</th>\n",
       "      <th>opp</th>\n",
       "      <th>opnp</th>\n",
       "      <th>emer</th>\n",
       "      <th>hosp</th>\n",
       "      <th>health</th>\n",
       "      <th>numchron</th>\n",
       "      <th>adldiff</th>\n",
       "      <th>region</th>\n",
       "      <th>age</th>\n",
       "      <th>black</th>\n",
       "      <th>gender</th>\n",
       "      <th>married</th>\n",
       "      <th>school</th>\n",
       "      <th>faminc</th>\n",
       "      <th>employed</th>\n",
       "      <th>privins</th>\n",
       "      <th>medicaid</th>\n",
       "    </tr>\n",
       "  </thead>\n",
       "  <tbody>\n",
       "    <tr>\n",
       "      <th>1</th>\n",
       "      <td>5</td>\n",
       "      <td>0</td>\n",
       "      <td>0</td>\n",
       "      <td>0</td>\n",
       "      <td>0</td>\n",
       "      <td>1</td>\n",
       "      <td>average</td>\n",
       "      <td>2</td>\n",
       "      <td>no</td>\n",
       "      <td>other</td>\n",
       "      <td>6.9</td>\n",
       "      <td>yes</td>\n",
       "      <td>male</td>\n",
       "      <td>yes</td>\n",
       "      <td>6</td>\n",
       "      <td>2.8810</td>\n",
       "      <td>yes</td>\n",
       "      <td>yes</td>\n",
       "      <td>no</td>\n",
       "    </tr>\n",
       "    <tr>\n",
       "      <th>2</th>\n",
       "      <td>1</td>\n",
       "      <td>0</td>\n",
       "      <td>2</td>\n",
       "      <td>0</td>\n",
       "      <td>2</td>\n",
       "      <td>0</td>\n",
       "      <td>average</td>\n",
       "      <td>2</td>\n",
       "      <td>no</td>\n",
       "      <td>other</td>\n",
       "      <td>7.4</td>\n",
       "      <td>no</td>\n",
       "      <td>female</td>\n",
       "      <td>yes</td>\n",
       "      <td>10</td>\n",
       "      <td>2.7478</td>\n",
       "      <td>no</td>\n",
       "      <td>yes</td>\n",
       "      <td>no</td>\n",
       "    </tr>\n",
       "    <tr>\n",
       "      <th>3</th>\n",
       "      <td>13</td>\n",
       "      <td>0</td>\n",
       "      <td>0</td>\n",
       "      <td>0</td>\n",
       "      <td>3</td>\n",
       "      <td>3</td>\n",
       "      <td>poor</td>\n",
       "      <td>4</td>\n",
       "      <td>yes</td>\n",
       "      <td>other</td>\n",
       "      <td>6.6</td>\n",
       "      <td>yes</td>\n",
       "      <td>female</td>\n",
       "      <td>no</td>\n",
       "      <td>10</td>\n",
       "      <td>0.6532</td>\n",
       "      <td>no</td>\n",
       "      <td>no</td>\n",
       "      <td>yes</td>\n",
       "    </tr>\n",
       "    <tr>\n",
       "      <th>4</th>\n",
       "      <td>16</td>\n",
       "      <td>0</td>\n",
       "      <td>5</td>\n",
       "      <td>0</td>\n",
       "      <td>1</td>\n",
       "      <td>1</td>\n",
       "      <td>poor</td>\n",
       "      <td>2</td>\n",
       "      <td>yes</td>\n",
       "      <td>other</td>\n",
       "      <td>7.6</td>\n",
       "      <td>no</td>\n",
       "      <td>male</td>\n",
       "      <td>yes</td>\n",
       "      <td>3</td>\n",
       "      <td>0.6588</td>\n",
       "      <td>no</td>\n",
       "      <td>yes</td>\n",
       "      <td>no</td>\n",
       "    </tr>\n",
       "    <tr>\n",
       "      <th>5</th>\n",
       "      <td>3</td>\n",
       "      <td>0</td>\n",
       "      <td>0</td>\n",
       "      <td>0</td>\n",
       "      <td>0</td>\n",
       "      <td>0</td>\n",
       "      <td>average</td>\n",
       "      <td>2</td>\n",
       "      <td>yes</td>\n",
       "      <td>other</td>\n",
       "      <td>7.9</td>\n",
       "      <td>no</td>\n",
       "      <td>female</td>\n",
       "      <td>yes</td>\n",
       "      <td>6</td>\n",
       "      <td>0.6588</td>\n",
       "      <td>no</td>\n",
       "      <td>yes</td>\n",
       "      <td>no</td>\n",
       "    </tr>\n",
       "  </tbody>\n",
       "</table>\n",
       "</div>"
      ],
      "text/plain": [
       "   ofp  ofnp  opp  opnp  emer  hosp   health  numchron adldiff region  age  \\\n",
       "1    5     0    0     0     0     1  average         2      no  other  6.9   \n",
       "2    1     0    2     0     2     0  average         2      no  other  7.4   \n",
       "3   13     0    0     0     3     3     poor         4     yes  other  6.6   \n",
       "4   16     0    5     0     1     1     poor         2     yes  other  7.6   \n",
       "5    3     0    0     0     0     0  average         2     yes  other  7.9   \n",
       "\n",
       "  black  gender married  school  faminc employed privins medicaid  \n",
       "1   yes    male     yes       6  2.8810      yes     yes       no  \n",
       "2    no  female     yes      10  2.7478       no     yes       no  \n",
       "3   yes  female      no      10  0.6532       no      no      yes  \n",
       "4    no    male     yes       3  0.6588       no     yes       no  \n",
       "5    no  female     yes       6  0.6588       no     yes       no  "
      ]
     },
     "execution_count": 31,
     "metadata": {},
     "output_type": "execute_result"
    }
   ],
   "source": [
    "data.head()"
   ]
  },
  {
   "cell_type": "markdown",
   "id": "2c0ed377",
   "metadata": {},
   "source": [
    "## health 더미변수 만들기 (EXCLHLTH, POORHLTH,  AVERAGEHLTH)"
   ]
  },
  {
   "cell_type": "code",
   "execution_count": 32,
   "id": "d75a2efb",
   "metadata": {
    "scrolled": true
   },
   "outputs": [
    {
     "data": {
      "text/plain": [
       "array(['average', 'poor', 'excellent'], dtype=object)"
      ]
     },
     "execution_count": 32,
     "metadata": {},
     "output_type": "execute_result"
    }
   ],
   "source": [
    "data[\"health\"].unique()"
   ]
  },
  {
   "cell_type": "code",
   "execution_count": 33,
   "id": "6ef06ac8",
   "metadata": {},
   "outputs": [
    {
     "data": {
      "text/plain": [
       "6"
      ]
     },
     "execution_count": 33,
     "metadata": {},
     "output_type": "execute_result"
    }
   ],
   "source": [
    "# 변수들의 위치 찾기\n",
    "idx=data.columns.get_loc(\"health\")# 8th column 변수임, 파이선은 0에서 시작\n",
    "idx"
   ]
  },
  {
   "cell_type": "code",
   "execution_count": 34,
   "id": "d41b8701",
   "metadata": {},
   "outputs": [],
   "source": [
    "# create dummy variables with pandas\n",
    "data[\"EXCLHLTH\"]= pd.get_dummies(data[\"health\"])[\"excellent\"]\n",
    "data[\"POORHLTH\"]= pd.get_dummies(data[\"health\"])[\"poor\"]\n",
    "data[\"AVRGHLTH\"]= pd.get_dummies(data[\"health\"])[\"average\"]"
   ]
  },
  {
   "cell_type": "code",
   "execution_count": 35,
   "id": "1ac52815",
   "metadata": {},
   "outputs": [
    {
     "data": {
      "text/html": [
       "<div>\n",
       "<style scoped>\n",
       "    .dataframe tbody tr th:only-of-type {\n",
       "        vertical-align: middle;\n",
       "    }\n",
       "\n",
       "    .dataframe tbody tr th {\n",
       "        vertical-align: top;\n",
       "    }\n",
       "\n",
       "    .dataframe thead th {\n",
       "        text-align: right;\n",
       "    }\n",
       "</style>\n",
       "<table border=\"1\" class=\"dataframe\">\n",
       "  <thead>\n",
       "    <tr style=\"text-align: right;\">\n",
       "      <th></th>\n",
       "      <th>average</th>\n",
       "      <th>excellent</th>\n",
       "      <th>poor</th>\n",
       "    </tr>\n",
       "  </thead>\n",
       "  <tbody>\n",
       "    <tr>\n",
       "      <th>1</th>\n",
       "      <td>1</td>\n",
       "      <td>0</td>\n",
       "      <td>0</td>\n",
       "    </tr>\n",
       "    <tr>\n",
       "      <th>2</th>\n",
       "      <td>1</td>\n",
       "      <td>0</td>\n",
       "      <td>0</td>\n",
       "    </tr>\n",
       "    <tr>\n",
       "      <th>3</th>\n",
       "      <td>0</td>\n",
       "      <td>0</td>\n",
       "      <td>1</td>\n",
       "    </tr>\n",
       "    <tr>\n",
       "      <th>4</th>\n",
       "      <td>0</td>\n",
       "      <td>0</td>\n",
       "      <td>1</td>\n",
       "    </tr>\n",
       "    <tr>\n",
       "      <th>5</th>\n",
       "      <td>1</td>\n",
       "      <td>0</td>\n",
       "      <td>0</td>\n",
       "    </tr>\n",
       "    <tr>\n",
       "      <th>...</th>\n",
       "      <td>...</td>\n",
       "      <td>...</td>\n",
       "      <td>...</td>\n",
       "    </tr>\n",
       "    <tr>\n",
       "      <th>4402</th>\n",
       "      <td>1</td>\n",
       "      <td>0</td>\n",
       "      <td>0</td>\n",
       "    </tr>\n",
       "    <tr>\n",
       "      <th>4403</th>\n",
       "      <td>1</td>\n",
       "      <td>0</td>\n",
       "      <td>0</td>\n",
       "    </tr>\n",
       "    <tr>\n",
       "      <th>4404</th>\n",
       "      <td>1</td>\n",
       "      <td>0</td>\n",
       "      <td>0</td>\n",
       "    </tr>\n",
       "    <tr>\n",
       "      <th>4405</th>\n",
       "      <td>1</td>\n",
       "      <td>0</td>\n",
       "      <td>0</td>\n",
       "    </tr>\n",
       "    <tr>\n",
       "      <th>4406</th>\n",
       "      <td>0</td>\n",
       "      <td>1</td>\n",
       "      <td>0</td>\n",
       "    </tr>\n",
       "  </tbody>\n",
       "</table>\n",
       "<p>4406 rows × 3 columns</p>\n",
       "</div>"
      ],
      "text/plain": [
       "      average  excellent  poor\n",
       "1           1          0     0\n",
       "2           1          0     0\n",
       "3           0          0     1\n",
       "4           0          0     1\n",
       "5           1          0     0\n",
       "...       ...        ...   ...\n",
       "4402        1          0     0\n",
       "4403        1          0     0\n",
       "4404        1          0     0\n",
       "4405        1          0     0\n",
       "4406        0          1     0\n",
       "\n",
       "[4406 rows x 3 columns]"
      ]
     },
     "execution_count": 35,
     "metadata": {},
     "output_type": "execute_result"
    }
   ],
   "source": [
    "pd.get_dummies(data[\"health\"])"
   ]
  },
  {
   "cell_type": "code",
   "execution_count": 36,
   "id": "1cb0cbb5",
   "metadata": {},
   "outputs": [
    {
     "data": {
      "text/html": [
       "<div>\n",
       "<style scoped>\n",
       "    .dataframe tbody tr th:only-of-type {\n",
       "        vertical-align: middle;\n",
       "    }\n",
       "\n",
       "    .dataframe tbody tr th {\n",
       "        vertical-align: top;\n",
       "    }\n",
       "\n",
       "    .dataframe thead th {\n",
       "        text-align: right;\n",
       "    }\n",
       "</style>\n",
       "<table border=\"1\" class=\"dataframe\">\n",
       "  <thead>\n",
       "    <tr style=\"text-align: right;\">\n",
       "      <th></th>\n",
       "      <th>ofp</th>\n",
       "      <th>ofnp</th>\n",
       "      <th>opp</th>\n",
       "      <th>opnp</th>\n",
       "      <th>emer</th>\n",
       "      <th>hosp</th>\n",
       "      <th>health</th>\n",
       "      <th>numchron</th>\n",
       "      <th>adldiff</th>\n",
       "      <th>region</th>\n",
       "      <th>...</th>\n",
       "      <th>gender</th>\n",
       "      <th>married</th>\n",
       "      <th>school</th>\n",
       "      <th>faminc</th>\n",
       "      <th>employed</th>\n",
       "      <th>privins</th>\n",
       "      <th>medicaid</th>\n",
       "      <th>EXCLHLTH</th>\n",
       "      <th>POORHLTH</th>\n",
       "      <th>AVRGHLTH</th>\n",
       "    </tr>\n",
       "  </thead>\n",
       "  <tbody>\n",
       "    <tr>\n",
       "      <th>1</th>\n",
       "      <td>5</td>\n",
       "      <td>0</td>\n",
       "      <td>0</td>\n",
       "      <td>0</td>\n",
       "      <td>0</td>\n",
       "      <td>1</td>\n",
       "      <td>average</td>\n",
       "      <td>2</td>\n",
       "      <td>no</td>\n",
       "      <td>other</td>\n",
       "      <td>...</td>\n",
       "      <td>male</td>\n",
       "      <td>yes</td>\n",
       "      <td>6</td>\n",
       "      <td>2.8810</td>\n",
       "      <td>yes</td>\n",
       "      <td>yes</td>\n",
       "      <td>no</td>\n",
       "      <td>0</td>\n",
       "      <td>0</td>\n",
       "      <td>1</td>\n",
       "    </tr>\n",
       "    <tr>\n",
       "      <th>2</th>\n",
       "      <td>1</td>\n",
       "      <td>0</td>\n",
       "      <td>2</td>\n",
       "      <td>0</td>\n",
       "      <td>2</td>\n",
       "      <td>0</td>\n",
       "      <td>average</td>\n",
       "      <td>2</td>\n",
       "      <td>no</td>\n",
       "      <td>other</td>\n",
       "      <td>...</td>\n",
       "      <td>female</td>\n",
       "      <td>yes</td>\n",
       "      <td>10</td>\n",
       "      <td>2.7478</td>\n",
       "      <td>no</td>\n",
       "      <td>yes</td>\n",
       "      <td>no</td>\n",
       "      <td>0</td>\n",
       "      <td>0</td>\n",
       "      <td>1</td>\n",
       "    </tr>\n",
       "    <tr>\n",
       "      <th>3</th>\n",
       "      <td>13</td>\n",
       "      <td>0</td>\n",
       "      <td>0</td>\n",
       "      <td>0</td>\n",
       "      <td>3</td>\n",
       "      <td>3</td>\n",
       "      <td>poor</td>\n",
       "      <td>4</td>\n",
       "      <td>yes</td>\n",
       "      <td>other</td>\n",
       "      <td>...</td>\n",
       "      <td>female</td>\n",
       "      <td>no</td>\n",
       "      <td>10</td>\n",
       "      <td>0.6532</td>\n",
       "      <td>no</td>\n",
       "      <td>no</td>\n",
       "      <td>yes</td>\n",
       "      <td>0</td>\n",
       "      <td>1</td>\n",
       "      <td>0</td>\n",
       "    </tr>\n",
       "    <tr>\n",
       "      <th>4</th>\n",
       "      <td>16</td>\n",
       "      <td>0</td>\n",
       "      <td>5</td>\n",
       "      <td>0</td>\n",
       "      <td>1</td>\n",
       "      <td>1</td>\n",
       "      <td>poor</td>\n",
       "      <td>2</td>\n",
       "      <td>yes</td>\n",
       "      <td>other</td>\n",
       "      <td>...</td>\n",
       "      <td>male</td>\n",
       "      <td>yes</td>\n",
       "      <td>3</td>\n",
       "      <td>0.6588</td>\n",
       "      <td>no</td>\n",
       "      <td>yes</td>\n",
       "      <td>no</td>\n",
       "      <td>0</td>\n",
       "      <td>1</td>\n",
       "      <td>0</td>\n",
       "    </tr>\n",
       "    <tr>\n",
       "      <th>5</th>\n",
       "      <td>3</td>\n",
       "      <td>0</td>\n",
       "      <td>0</td>\n",
       "      <td>0</td>\n",
       "      <td>0</td>\n",
       "      <td>0</td>\n",
       "      <td>average</td>\n",
       "      <td>2</td>\n",
       "      <td>yes</td>\n",
       "      <td>other</td>\n",
       "      <td>...</td>\n",
       "      <td>female</td>\n",
       "      <td>yes</td>\n",
       "      <td>6</td>\n",
       "      <td>0.6588</td>\n",
       "      <td>no</td>\n",
       "      <td>yes</td>\n",
       "      <td>no</td>\n",
       "      <td>0</td>\n",
       "      <td>0</td>\n",
       "      <td>1</td>\n",
       "    </tr>\n",
       "  </tbody>\n",
       "</table>\n",
       "<p>5 rows × 22 columns</p>\n",
       "</div>"
      ],
      "text/plain": [
       "   ofp  ofnp  opp  opnp  emer  hosp   health  numchron adldiff region  ...  \\\n",
       "1    5     0    0     0     0     1  average         2      no  other  ...   \n",
       "2    1     0    2     0     2     0  average         2      no  other  ...   \n",
       "3   13     0    0     0     3     3     poor         4     yes  other  ...   \n",
       "4   16     0    5     0     1     1     poor         2     yes  other  ...   \n",
       "5    3     0    0     0     0     0  average         2     yes  other  ...   \n",
       "\n",
       "   gender married school  faminc  employed  privins medicaid EXCLHLTH  \\\n",
       "1    male     yes      6  2.8810       yes      yes       no        0   \n",
       "2  female     yes     10  2.7478        no      yes       no        0   \n",
       "3  female      no     10  0.6532        no       no      yes        0   \n",
       "4    male     yes      3  0.6588        no      yes       no        0   \n",
       "5  female     yes      6  0.6588        no      yes       no        0   \n",
       "\n",
       "  POORHLTH  AVRGHLTH  \n",
       "1        0         1  \n",
       "2        0         1  \n",
       "3        1         0  \n",
       "4        1         0  \n",
       "5        0         1  \n",
       "\n",
       "[5 rows x 22 columns]"
      ]
     },
     "execution_count": 36,
     "metadata": {},
     "output_type": "execute_result"
    }
   ],
   "source": [
    "data.head()"
   ]
  },
  {
   "cell_type": "markdown",
   "id": "6747360a",
   "metadata": {},
   "source": [
    "## ADLDIFF 더미변수(yes/no) 만들기"
   ]
  },
  {
   "cell_type": "code",
   "execution_count": 37,
   "id": "a8e60d95",
   "metadata": {},
   "outputs": [
    {
     "data": {
      "text/plain": [
       "array(['no', 'yes'], dtype=object)"
      ]
     },
     "execution_count": 37,
     "metadata": {},
     "output_type": "execute_result"
    }
   ],
   "source": [
    "data[\"adldiff\"].unique()"
   ]
  },
  {
   "cell_type": "code",
   "execution_count": 38,
   "id": "9fb2264a",
   "metadata": {},
   "outputs": [],
   "source": [
    "# create dummy variables with pandas\n",
    "# 0: no, 1: yes 로 변환\n",
    "data[\"ADLDIFF\"]= pd.get_dummies(data[\"adldiff\"])[\"yes\"]"
   ]
  },
  {
   "cell_type": "code",
   "execution_count": 39,
   "id": "e59a4574",
   "metadata": {},
   "outputs": [
    {
     "data": {
      "text/html": [
       "<div>\n",
       "<style scoped>\n",
       "    .dataframe tbody tr th:only-of-type {\n",
       "        vertical-align: middle;\n",
       "    }\n",
       "\n",
       "    .dataframe tbody tr th {\n",
       "        vertical-align: top;\n",
       "    }\n",
       "\n",
       "    .dataframe thead th {\n",
       "        text-align: right;\n",
       "    }\n",
       "</style>\n",
       "<table border=\"1\" class=\"dataframe\">\n",
       "  <thead>\n",
       "    <tr style=\"text-align: right;\">\n",
       "      <th></th>\n",
       "      <th>no</th>\n",
       "      <th>yes</th>\n",
       "    </tr>\n",
       "  </thead>\n",
       "  <tbody>\n",
       "    <tr>\n",
       "      <th>1</th>\n",
       "      <td>1</td>\n",
       "      <td>0</td>\n",
       "    </tr>\n",
       "    <tr>\n",
       "      <th>2</th>\n",
       "      <td>1</td>\n",
       "      <td>0</td>\n",
       "    </tr>\n",
       "    <tr>\n",
       "      <th>3</th>\n",
       "      <td>0</td>\n",
       "      <td>1</td>\n",
       "    </tr>\n",
       "    <tr>\n",
       "      <th>4</th>\n",
       "      <td>0</td>\n",
       "      <td>1</td>\n",
       "    </tr>\n",
       "    <tr>\n",
       "      <th>5</th>\n",
       "      <td>0</td>\n",
       "      <td>1</td>\n",
       "    </tr>\n",
       "    <tr>\n",
       "      <th>...</th>\n",
       "      <td>...</td>\n",
       "      <td>...</td>\n",
       "    </tr>\n",
       "    <tr>\n",
       "      <th>4402</th>\n",
       "      <td>1</td>\n",
       "      <td>0</td>\n",
       "    </tr>\n",
       "    <tr>\n",
       "      <th>4403</th>\n",
       "      <td>1</td>\n",
       "      <td>0</td>\n",
       "    </tr>\n",
       "    <tr>\n",
       "      <th>4404</th>\n",
       "      <td>1</td>\n",
       "      <td>0</td>\n",
       "    </tr>\n",
       "    <tr>\n",
       "      <th>4405</th>\n",
       "      <td>1</td>\n",
       "      <td>0</td>\n",
       "    </tr>\n",
       "    <tr>\n",
       "      <th>4406</th>\n",
       "      <td>1</td>\n",
       "      <td>0</td>\n",
       "    </tr>\n",
       "  </tbody>\n",
       "</table>\n",
       "<p>4406 rows × 2 columns</p>\n",
       "</div>"
      ],
      "text/plain": [
       "      no  yes\n",
       "1      1    0\n",
       "2      1    0\n",
       "3      0    1\n",
       "4      0    1\n",
       "5      0    1\n",
       "...   ..  ...\n",
       "4402   1    0\n",
       "4403   1    0\n",
       "4404   1    0\n",
       "4405   1    0\n",
       "4406   1    0\n",
       "\n",
       "[4406 rows x 2 columns]"
      ]
     },
     "execution_count": 39,
     "metadata": {},
     "output_type": "execute_result"
    }
   ],
   "source": [
    "pd.get_dummies(data[\"adldiff\"])"
   ]
  },
  {
   "cell_type": "markdown",
   "id": "19576c9b",
   "metadata": {},
   "source": [
    "## region 더미변수 만들기 (1. NOREAST, 2. MIDWEST, 3. WEST, 4. Other)"
   ]
  },
  {
   "cell_type": "code",
   "execution_count": 40,
   "id": "b09795c3",
   "metadata": {},
   "outputs": [
    {
     "data": {
      "text/plain": [
       "array(['other', 'midwest', 'noreast', 'west'], dtype=object)"
      ]
     },
     "execution_count": 40,
     "metadata": {},
     "output_type": "execute_result"
    }
   ],
   "source": [
    "data[\"region\"].unique()"
   ]
  },
  {
   "cell_type": "code",
   "execution_count": 41,
   "id": "8846ff40",
   "metadata": {},
   "outputs": [],
   "source": [
    "# create dummy variables with pandas\n",
    "data[\"NOREAST\"]= pd.get_dummies(data[\"region\"])[\"noreast\"]\n",
    "data[\"MIDWEST\"]= pd.get_dummies(data[\"region\"])[\"midwest\"]\n",
    "data[\"WEST\"]= pd.get_dummies(data[\"region\"])[\"west\"]\n",
    "data[\"Other\"]= pd.get_dummies(data[\"region\"])[\"other\"]"
   ]
  },
  {
   "cell_type": "markdown",
   "id": "ac35e9a8",
   "metadata": {},
   "source": [
    "## BLACK 더미변수 만들기"
   ]
  },
  {
   "cell_type": "code",
   "execution_count": 42,
   "id": "bc8d9194",
   "metadata": {},
   "outputs": [],
   "source": [
    "# create dummy variables with pandas\n",
    "# 0: no, 1: yes 로 변환\n",
    "data[\"BLACK\"]= pd.get_dummies(data[\"black\"])[\"yes\"]"
   ]
  },
  {
   "cell_type": "markdown",
   "id": "d8cad882",
   "metadata": {},
   "source": [
    "## MALE 더미변수 만들기"
   ]
  },
  {
   "cell_type": "code",
   "execution_count": 43,
   "id": "99c48836",
   "metadata": {},
   "outputs": [],
   "source": [
    "# create dummy variables with pandas\n",
    "# 0: no, 1: yes 로 변환\n",
    "data[\"MALE\"]= pd.get_dummies(data[\"gender\"])[\"male\"]"
   ]
  },
  {
   "cell_type": "markdown",
   "id": "3e2cbc9a",
   "metadata": {},
   "source": [
    "## MARRIED 더미변수 만들기"
   ]
  },
  {
   "cell_type": "code",
   "execution_count": 44,
   "id": "31ee59aa",
   "metadata": {},
   "outputs": [],
   "source": [
    "# create dummy variables with pandas\n",
    "# 0: no, 1: yes 로 변환\n",
    "data[\"MARRIED\"]= pd.get_dummies(data[\"married\"])[\"yes\"]"
   ]
  },
  {
   "cell_type": "markdown",
   "id": "8545df58",
   "metadata": {},
   "source": [
    "## EMPLOYED 더미변수 만들기"
   ]
  },
  {
   "cell_type": "code",
   "execution_count": 45,
   "id": "3c3ac954",
   "metadata": {},
   "outputs": [],
   "source": [
    "# create dummy variables with pandas\n",
    "# 0: no, 1: yes 로 변환\n",
    "data[\"EMPLOYED\"]= pd.get_dummies(data[\"employed\"])[\"yes\"]"
   ]
  },
  {
   "cell_type": "markdown",
   "id": "568e2938",
   "metadata": {},
   "source": [
    "## PRIVINS 더미변수 만들기"
   ]
  },
  {
   "cell_type": "code",
   "execution_count": 46,
   "id": "a6a95484",
   "metadata": {},
   "outputs": [],
   "source": [
    "# create dummy variables with pandas\n",
    "# 0: no, 1: yes 로 변환\n",
    "data[\"PRIVINS\"]= pd.get_dummies(data[\"privins\"])[\"yes\"]"
   ]
  },
  {
   "cell_type": "markdown",
   "id": "9483a97f",
   "metadata": {},
   "source": [
    "## MEDICAID 더미변수 만들기"
   ]
  },
  {
   "cell_type": "code",
   "execution_count": 47,
   "id": "f494d9de",
   "metadata": {},
   "outputs": [],
   "source": [
    "# create dummy variables with pandas\n",
    "# 0: no, 1: yes 로 변환\n",
    "data[\"MEDICAID\"]= pd.get_dummies(data[\"medicaid\"])[\"yes\"]"
   ]
  },
  {
   "cell_type": "code",
   "execution_count": 48,
   "id": "b151712e",
   "metadata": {
    "scrolled": true
   },
   "outputs": [
    {
     "data": {
      "text/html": [
       "<div>\n",
       "<style scoped>\n",
       "    .dataframe tbody tr th:only-of-type {\n",
       "        vertical-align: middle;\n",
       "    }\n",
       "\n",
       "    .dataframe tbody tr th {\n",
       "        vertical-align: top;\n",
       "    }\n",
       "\n",
       "    .dataframe thead th {\n",
       "        text-align: right;\n",
       "    }\n",
       "</style>\n",
       "<table border=\"1\" class=\"dataframe\">\n",
       "  <thead>\n",
       "    <tr style=\"text-align: right;\">\n",
       "      <th></th>\n",
       "      <th>ofp</th>\n",
       "      <th>ofnp</th>\n",
       "      <th>opp</th>\n",
       "      <th>opnp</th>\n",
       "      <th>emer</th>\n",
       "      <th>hosp</th>\n",
       "      <th>health</th>\n",
       "      <th>numchron</th>\n",
       "      <th>adldiff</th>\n",
       "      <th>region</th>\n",
       "      <th>...</th>\n",
       "      <th>NOREAST</th>\n",
       "      <th>MIDWEST</th>\n",
       "      <th>WEST</th>\n",
       "      <th>Other</th>\n",
       "      <th>BLACK</th>\n",
       "      <th>MALE</th>\n",
       "      <th>MARRIED</th>\n",
       "      <th>EMPLOYED</th>\n",
       "      <th>PRIVINS</th>\n",
       "      <th>MEDICAID</th>\n",
       "    </tr>\n",
       "  </thead>\n",
       "  <tbody>\n",
       "    <tr>\n",
       "      <th>1</th>\n",
       "      <td>5</td>\n",
       "      <td>0</td>\n",
       "      <td>0</td>\n",
       "      <td>0</td>\n",
       "      <td>0</td>\n",
       "      <td>1</td>\n",
       "      <td>average</td>\n",
       "      <td>2</td>\n",
       "      <td>no</td>\n",
       "      <td>other</td>\n",
       "      <td>...</td>\n",
       "      <td>0</td>\n",
       "      <td>0</td>\n",
       "      <td>0</td>\n",
       "      <td>1</td>\n",
       "      <td>1</td>\n",
       "      <td>1</td>\n",
       "      <td>1</td>\n",
       "      <td>1</td>\n",
       "      <td>1</td>\n",
       "      <td>0</td>\n",
       "    </tr>\n",
       "    <tr>\n",
       "      <th>2</th>\n",
       "      <td>1</td>\n",
       "      <td>0</td>\n",
       "      <td>2</td>\n",
       "      <td>0</td>\n",
       "      <td>2</td>\n",
       "      <td>0</td>\n",
       "      <td>average</td>\n",
       "      <td>2</td>\n",
       "      <td>no</td>\n",
       "      <td>other</td>\n",
       "      <td>...</td>\n",
       "      <td>0</td>\n",
       "      <td>0</td>\n",
       "      <td>0</td>\n",
       "      <td>1</td>\n",
       "      <td>0</td>\n",
       "      <td>0</td>\n",
       "      <td>1</td>\n",
       "      <td>0</td>\n",
       "      <td>1</td>\n",
       "      <td>0</td>\n",
       "    </tr>\n",
       "    <tr>\n",
       "      <th>3</th>\n",
       "      <td>13</td>\n",
       "      <td>0</td>\n",
       "      <td>0</td>\n",
       "      <td>0</td>\n",
       "      <td>3</td>\n",
       "      <td>3</td>\n",
       "      <td>poor</td>\n",
       "      <td>4</td>\n",
       "      <td>yes</td>\n",
       "      <td>other</td>\n",
       "      <td>...</td>\n",
       "      <td>0</td>\n",
       "      <td>0</td>\n",
       "      <td>0</td>\n",
       "      <td>1</td>\n",
       "      <td>1</td>\n",
       "      <td>0</td>\n",
       "      <td>0</td>\n",
       "      <td>0</td>\n",
       "      <td>0</td>\n",
       "      <td>1</td>\n",
       "    </tr>\n",
       "    <tr>\n",
       "      <th>4</th>\n",
       "      <td>16</td>\n",
       "      <td>0</td>\n",
       "      <td>5</td>\n",
       "      <td>0</td>\n",
       "      <td>1</td>\n",
       "      <td>1</td>\n",
       "      <td>poor</td>\n",
       "      <td>2</td>\n",
       "      <td>yes</td>\n",
       "      <td>other</td>\n",
       "      <td>...</td>\n",
       "      <td>0</td>\n",
       "      <td>0</td>\n",
       "      <td>0</td>\n",
       "      <td>1</td>\n",
       "      <td>0</td>\n",
       "      <td>1</td>\n",
       "      <td>1</td>\n",
       "      <td>0</td>\n",
       "      <td>1</td>\n",
       "      <td>0</td>\n",
       "    </tr>\n",
       "    <tr>\n",
       "      <th>5</th>\n",
       "      <td>3</td>\n",
       "      <td>0</td>\n",
       "      <td>0</td>\n",
       "      <td>0</td>\n",
       "      <td>0</td>\n",
       "      <td>0</td>\n",
       "      <td>average</td>\n",
       "      <td>2</td>\n",
       "      <td>yes</td>\n",
       "      <td>other</td>\n",
       "      <td>...</td>\n",
       "      <td>0</td>\n",
       "      <td>0</td>\n",
       "      <td>0</td>\n",
       "      <td>1</td>\n",
       "      <td>0</td>\n",
       "      <td>0</td>\n",
       "      <td>1</td>\n",
       "      <td>0</td>\n",
       "      <td>1</td>\n",
       "      <td>0</td>\n",
       "    </tr>\n",
       "  </tbody>\n",
       "</table>\n",
       "<p>5 rows × 33 columns</p>\n",
       "</div>"
      ],
      "text/plain": [
       "   ofp  ofnp  opp  opnp  emer  hosp   health  numchron adldiff region  ...  \\\n",
       "1    5     0    0     0     0     1  average         2      no  other  ...   \n",
       "2    1     0    2     0     2     0  average         2      no  other  ...   \n",
       "3   13     0    0     0     3     3     poor         4     yes  other  ...   \n",
       "4   16     0    5     0     1     1     poor         2     yes  other  ...   \n",
       "5    3     0    0     0     0     0  average         2     yes  other  ...   \n",
       "\n",
       "   NOREAST MIDWEST WEST Other  BLACK  MALE MARRIED EMPLOYED PRIVINS  MEDICAID  \n",
       "1        0       0    0     1      1     1       1        1       1         0  \n",
       "2        0       0    0     1      0     0       1        0       1         0  \n",
       "3        0       0    0     1      1     0       0        0       0         1  \n",
       "4        0       0    0     1      0     1       1        0       1         0  \n",
       "5        0       0    0     1      0     0       1        0       1         0  \n",
       "\n",
       "[5 rows x 33 columns]"
      ]
     },
     "execution_count": 48,
     "metadata": {},
     "output_type": "execute_result"
    }
   ],
   "source": [
    "data.head()"
   ]
  },
  {
   "cell_type": "code",
   "execution_count": 49,
   "id": "9c02fa76",
   "metadata": {},
   "outputs": [
    {
     "data": {
      "text/plain": [
       "Index(['ofp', 'ofnp', 'opp', 'opnp', 'emer', 'hosp', 'health', 'numchron',\n",
       "       'adldiff', 'region', 'age', 'black', 'gender', 'married', 'school',\n",
       "       'faminc', 'employed', 'privins', 'medicaid', 'EXCLHLTH', 'POORHLTH',\n",
       "       'AVRGHLTH', 'ADLDIFF', 'NOREAST', 'MIDWEST', 'WEST', 'Other', 'BLACK',\n",
       "       'MALE', 'MARRIED', 'EMPLOYED', 'PRIVINS', 'MEDICAID'],\n",
       "      dtype='object')"
      ]
     },
     "execution_count": 49,
     "metadata": {},
     "output_type": "execute_result"
    }
   ],
   "source": [
    "data.columns"
   ]
  },
  {
   "cell_type": "code",
   "execution_count": 50,
   "id": "2bc6ff9f",
   "metadata": {},
   "outputs": [
    {
     "data": {
      "text/html": [
       "<div>\n",
       "<style scoped>\n",
       "    .dataframe tbody tr th:only-of-type {\n",
       "        vertical-align: middle;\n",
       "    }\n",
       "\n",
       "    .dataframe tbody tr th {\n",
       "        vertical-align: top;\n",
       "    }\n",
       "\n",
       "    .dataframe thead th {\n",
       "        text-align: right;\n",
       "    }\n",
       "</style>\n",
       "<table border=\"1\" class=\"dataframe\">\n",
       "  <thead>\n",
       "    <tr style=\"text-align: right;\">\n",
       "      <th></th>\n",
       "      <th>ofp</th>\n",
       "      <th>EXCLHLTH</th>\n",
       "      <th>POORHLTH</th>\n",
       "      <th>AVRGHLTH</th>\n",
       "      <th>numchron</th>\n",
       "      <th>ADLDIFF</th>\n",
       "      <th>NOREAST</th>\n",
       "      <th>MIDWEST</th>\n",
       "      <th>WEST</th>\n",
       "      <th>Other</th>\n",
       "      <th>age</th>\n",
       "      <th>BLACK</th>\n",
       "      <th>MALE</th>\n",
       "      <th>MARRIED</th>\n",
       "      <th>school</th>\n",
       "      <th>faminc</th>\n",
       "      <th>EMPLOYED</th>\n",
       "      <th>PRIVINS</th>\n",
       "      <th>MEDICAID</th>\n",
       "    </tr>\n",
       "  </thead>\n",
       "  <tbody>\n",
       "    <tr>\n",
       "      <th>1</th>\n",
       "      <td>5</td>\n",
       "      <td>0</td>\n",
       "      <td>0</td>\n",
       "      <td>1</td>\n",
       "      <td>2</td>\n",
       "      <td>0</td>\n",
       "      <td>0</td>\n",
       "      <td>0</td>\n",
       "      <td>0</td>\n",
       "      <td>1</td>\n",
       "      <td>6.9</td>\n",
       "      <td>1</td>\n",
       "      <td>1</td>\n",
       "      <td>1</td>\n",
       "      <td>6</td>\n",
       "      <td>2.881000</td>\n",
       "      <td>1</td>\n",
       "      <td>1</td>\n",
       "      <td>0</td>\n",
       "    </tr>\n",
       "    <tr>\n",
       "      <th>2</th>\n",
       "      <td>1</td>\n",
       "      <td>0</td>\n",
       "      <td>0</td>\n",
       "      <td>1</td>\n",
       "      <td>2</td>\n",
       "      <td>0</td>\n",
       "      <td>0</td>\n",
       "      <td>0</td>\n",
       "      <td>0</td>\n",
       "      <td>1</td>\n",
       "      <td>7.4</td>\n",
       "      <td>0</td>\n",
       "      <td>0</td>\n",
       "      <td>1</td>\n",
       "      <td>10</td>\n",
       "      <td>2.747800</td>\n",
       "      <td>0</td>\n",
       "      <td>1</td>\n",
       "      <td>0</td>\n",
       "    </tr>\n",
       "    <tr>\n",
       "      <th>3</th>\n",
       "      <td>13</td>\n",
       "      <td>0</td>\n",
       "      <td>1</td>\n",
       "      <td>0</td>\n",
       "      <td>4</td>\n",
       "      <td>1</td>\n",
       "      <td>0</td>\n",
       "      <td>0</td>\n",
       "      <td>0</td>\n",
       "      <td>1</td>\n",
       "      <td>6.6</td>\n",
       "      <td>1</td>\n",
       "      <td>0</td>\n",
       "      <td>0</td>\n",
       "      <td>10</td>\n",
       "      <td>0.653200</td>\n",
       "      <td>0</td>\n",
       "      <td>0</td>\n",
       "      <td>1</td>\n",
       "    </tr>\n",
       "    <tr>\n",
       "      <th>4</th>\n",
       "      <td>16</td>\n",
       "      <td>0</td>\n",
       "      <td>1</td>\n",
       "      <td>0</td>\n",
       "      <td>2</td>\n",
       "      <td>1</td>\n",
       "      <td>0</td>\n",
       "      <td>0</td>\n",
       "      <td>0</td>\n",
       "      <td>1</td>\n",
       "      <td>7.6</td>\n",
       "      <td>0</td>\n",
       "      <td>1</td>\n",
       "      <td>1</td>\n",
       "      <td>3</td>\n",
       "      <td>0.658800</td>\n",
       "      <td>0</td>\n",
       "      <td>1</td>\n",
       "      <td>0</td>\n",
       "    </tr>\n",
       "    <tr>\n",
       "      <th>5</th>\n",
       "      <td>3</td>\n",
       "      <td>0</td>\n",
       "      <td>0</td>\n",
       "      <td>1</td>\n",
       "      <td>2</td>\n",
       "      <td>1</td>\n",
       "      <td>0</td>\n",
       "      <td>0</td>\n",
       "      <td>0</td>\n",
       "      <td>1</td>\n",
       "      <td>7.9</td>\n",
       "      <td>0</td>\n",
       "      <td>0</td>\n",
       "      <td>1</td>\n",
       "      <td>6</td>\n",
       "      <td>0.658800</td>\n",
       "      <td>0</td>\n",
       "      <td>1</td>\n",
       "      <td>0</td>\n",
       "    </tr>\n",
       "    <tr>\n",
       "      <th>...</th>\n",
       "      <td>...</td>\n",
       "      <td>...</td>\n",
       "      <td>...</td>\n",
       "      <td>...</td>\n",
       "      <td>...</td>\n",
       "      <td>...</td>\n",
       "      <td>...</td>\n",
       "      <td>...</td>\n",
       "      <td>...</td>\n",
       "      <td>...</td>\n",
       "      <td>...</td>\n",
       "      <td>...</td>\n",
       "      <td>...</td>\n",
       "      <td>...</td>\n",
       "      <td>...</td>\n",
       "      <td>...</td>\n",
       "      <td>...</td>\n",
       "      <td>...</td>\n",
       "      <td>...</td>\n",
       "    </tr>\n",
       "    <tr>\n",
       "      <th>4402</th>\n",
       "      <td>11</td>\n",
       "      <td>0</td>\n",
       "      <td>0</td>\n",
       "      <td>1</td>\n",
       "      <td>0</td>\n",
       "      <td>0</td>\n",
       "      <td>0</td>\n",
       "      <td>0</td>\n",
       "      <td>0</td>\n",
       "      <td>1</td>\n",
       "      <td>8.4</td>\n",
       "      <td>0</td>\n",
       "      <td>0</td>\n",
       "      <td>1</td>\n",
       "      <td>8</td>\n",
       "      <td>2.249700</td>\n",
       "      <td>0</td>\n",
       "      <td>1</td>\n",
       "      <td>0</td>\n",
       "    </tr>\n",
       "    <tr>\n",
       "      <th>4403</th>\n",
       "      <td>12</td>\n",
       "      <td>0</td>\n",
       "      <td>0</td>\n",
       "      <td>1</td>\n",
       "      <td>2</td>\n",
       "      <td>0</td>\n",
       "      <td>0</td>\n",
       "      <td>0</td>\n",
       "      <td>0</td>\n",
       "      <td>1</td>\n",
       "      <td>7.8</td>\n",
       "      <td>0</td>\n",
       "      <td>0</td>\n",
       "      <td>0</td>\n",
       "      <td>11</td>\n",
       "      <td>5.813200</td>\n",
       "      <td>0</td>\n",
       "      <td>1</td>\n",
       "      <td>0</td>\n",
       "    </tr>\n",
       "    <tr>\n",
       "      <th>4404</th>\n",
       "      <td>10</td>\n",
       "      <td>0</td>\n",
       "      <td>0</td>\n",
       "      <td>1</td>\n",
       "      <td>5</td>\n",
       "      <td>0</td>\n",
       "      <td>0</td>\n",
       "      <td>0</td>\n",
       "      <td>0</td>\n",
       "      <td>1</td>\n",
       "      <td>7.3</td>\n",
       "      <td>0</td>\n",
       "      <td>1</td>\n",
       "      <td>1</td>\n",
       "      <td>12</td>\n",
       "      <td>3.877916</td>\n",
       "      <td>0</td>\n",
       "      <td>1</td>\n",
       "      <td>0</td>\n",
       "    </tr>\n",
       "    <tr>\n",
       "      <th>4405</th>\n",
       "      <td>16</td>\n",
       "      <td>0</td>\n",
       "      <td>0</td>\n",
       "      <td>1</td>\n",
       "      <td>0</td>\n",
       "      <td>0</td>\n",
       "      <td>0</td>\n",
       "      <td>0</td>\n",
       "      <td>0</td>\n",
       "      <td>1</td>\n",
       "      <td>6.6</td>\n",
       "      <td>0</td>\n",
       "      <td>0</td>\n",
       "      <td>1</td>\n",
       "      <td>12</td>\n",
       "      <td>3.877916</td>\n",
       "      <td>0</td>\n",
       "      <td>1</td>\n",
       "      <td>0</td>\n",
       "    </tr>\n",
       "    <tr>\n",
       "      <th>4406</th>\n",
       "      <td>0</td>\n",
       "      <td>1</td>\n",
       "      <td>0</td>\n",
       "      <td>0</td>\n",
       "      <td>0</td>\n",
       "      <td>0</td>\n",
       "      <td>0</td>\n",
       "      <td>0</td>\n",
       "      <td>0</td>\n",
       "      <td>1</td>\n",
       "      <td>7.1</td>\n",
       "      <td>0</td>\n",
       "      <td>1</td>\n",
       "      <td>1</td>\n",
       "      <td>0</td>\n",
       "      <td>6.596800</td>\n",
       "      <td>1</td>\n",
       "      <td>0</td>\n",
       "      <td>0</td>\n",
       "    </tr>\n",
       "  </tbody>\n",
       "</table>\n",
       "<p>4406 rows × 19 columns</p>\n",
       "</div>"
      ],
      "text/plain": [
       "      ofp  EXCLHLTH  POORHLTH  AVRGHLTH  numchron  ADLDIFF  NOREAST  MIDWEST  \\\n",
       "1       5         0         0         1         2        0        0        0   \n",
       "2       1         0         0         1         2        0        0        0   \n",
       "3      13         0         1         0         4        1        0        0   \n",
       "4      16         0         1         0         2        1        0        0   \n",
       "5       3         0         0         1         2        1        0        0   \n",
       "...   ...       ...       ...       ...       ...      ...      ...      ...   \n",
       "4402   11         0         0         1         0        0        0        0   \n",
       "4403   12         0         0         1         2        0        0        0   \n",
       "4404   10         0         0         1         5        0        0        0   \n",
       "4405   16         0         0         1         0        0        0        0   \n",
       "4406    0         1         0         0         0        0        0        0   \n",
       "\n",
       "      WEST  Other  age  BLACK  MALE  MARRIED  school    faminc  EMPLOYED  \\\n",
       "1        0      1  6.9      1     1        1       6  2.881000         1   \n",
       "2        0      1  7.4      0     0        1      10  2.747800         0   \n",
       "3        0      1  6.6      1     0        0      10  0.653200         0   \n",
       "4        0      1  7.6      0     1        1       3  0.658800         0   \n",
       "5        0      1  7.9      0     0        1       6  0.658800         0   \n",
       "...    ...    ...  ...    ...   ...      ...     ...       ...       ...   \n",
       "4402     0      1  8.4      0     0        1       8  2.249700         0   \n",
       "4403     0      1  7.8      0     0        0      11  5.813200         0   \n",
       "4404     0      1  7.3      0     1        1      12  3.877916         0   \n",
       "4405     0      1  6.6      0     0        1      12  3.877916         0   \n",
       "4406     0      1  7.1      0     1        1       0  6.596800         1   \n",
       "\n",
       "      PRIVINS  MEDICAID  \n",
       "1           1         0  \n",
       "2           1         0  \n",
       "3           0         1  \n",
       "4           1         0  \n",
       "5           1         0  \n",
       "...       ...       ...  \n",
       "4402        1         0  \n",
       "4403        1         0  \n",
       "4404        1         0  \n",
       "4405        1         0  \n",
       "4406        0         0  \n",
       "\n",
       "[4406 rows x 19 columns]"
      ]
     },
     "execution_count": 50,
     "metadata": {},
     "output_type": "execute_result"
    }
   ],
   "source": [
    "data_ML = data[['ofp','EXCLHLTH',\n",
    "       'POORHLTH', 'AVRGHLTH','numchron', 'ADLDIFF', 'NOREAST', 'MIDWEST', 'WEST',\n",
    "       'Other',  'age',  'BLACK', 'MALE', 'MARRIED', 'school', 'faminc', 'EMPLOYED', 'PRIVINS', 'MEDICAID']]\n",
    "data_ML"
   ]
  },
  {
   "cell_type": "code",
   "execution_count": 52,
   "id": "169514b9",
   "metadata": {},
   "outputs": [],
   "source": [
    "# 파일 내보 내기. 03 사이킷런에서 사용\n",
    "data_ML.to_csv(\"C:/Users/owner/Dropbox/Python/Python_Lec/data_ML.csv\" , sep=',', na_rep='NaN')  "
   ]
  },
  {
   "cell_type": "code",
   "execution_count": null,
   "id": "3284ed80",
   "metadata": {},
   "outputs": [],
   "source": []
  },
  {
   "cell_type": "markdown",
   "id": "c734b72e",
   "metadata": {},
   "source": [
    "# 자료의 요약\n",
    "## 수치형 자료의 요약"
   ]
  },
  {
   "cell_type": "markdown",
   "id": "a9156e7c",
   "metadata": {},
   "source": [
    "- 숫자형 자료의 수치적 요약은 다음과 같은 다양한 통계량을 사용할 수 있다. "
   ]
  },
  {
   "cell_type": "code",
   "execution_count": 53,
   "id": "b6d07d92",
   "metadata": {},
   "outputs": [],
   "source": [
    "score=[98,90,96,54,43,87,88,90,94,92,81,79,85,91,79,88,89,83]"
   ]
  },
  {
   "cell_type": "code",
   "execution_count": 54,
   "id": "29c48c00",
   "metadata": {},
   "outputs": [
    {
     "name": "stdout",
     "output_type": "stream",
     "text": [
      "83.72222222222223\n",
      "13.604760423206264\n",
      "185.0895061728395\n",
      "88.0\n",
      "88.0\n",
      "1507\n",
      "43\n",
      "98\n"
     ]
    }
   ],
   "source": [
    "print(np.mean(score)) # 평균\n",
    "print(np.std(score)) # 표준편차\n",
    "print(np.var(score)) # 분산\n",
    "print(np.median(score)) # 중앙값\n",
    "print(np.percentile(score,50)) # 분위수\n",
    "print(np.sum(score)) # 총 합\n",
    "print(np.min(score)) # 최소값\n",
    "print(np.max(score)) # 최대값"
   ]
  },
  {
   "cell_type": "code",
   "execution_count": null,
   "id": "1dff3cc1",
   "metadata": {},
   "outputs": [],
   "source": []
  },
  {
   "cell_type": "markdown",
   "id": "e4f5f16e",
   "metadata": {},
   "source": [
    "## 기술통계 /  그룹별 기술통계"
   ]
  },
  {
   "cell_type": "markdown",
   "id": "d751bd34",
   "metadata": {},
   "source": [
    "- describe()함수를 이용해서 pandas 객체의 다양한 통계량들을 생성할 수 있다.    \n",
    "  - 제공되는 통계량: count, mean, std, min, 25%, 50%, 75%, max\n",
    "   - 통계량은 Series에 대해 요약이 수행된다.\n",
    "   - DataFrame의 경우 열에 대해 요약이 수행된다.\n",
    "   - 누락데이터(NaN)는 제외되고 데이터 요약이 수행된다.    \n",
    "\n",
    "- 사용 형식: \n",
    "   - df.describe(percentiles=None, include=None, exclude=None)\n",
    "   - percentiles: 선택적으로 입력 가능. 분위수가 출력되는 퍼센트를 입력받는다. 기본값: [0.25,0.5, 0.75]\n",
    "   - include: 결과를 요약하기 위한 데이터 타입의 리스트를 입력받는다. (\"all\": 모든 열이 데이터 출력으로 포함된다.)\n",
    "   - exclude: 결과를 제외하기 위한 데이터 타입의 리스트를 입력받는다.(None: 제외시키는 데이터가 없을 경우 입력한다.)"
   ]
  },
  {
   "cell_type": "code",
   "execution_count": 31,
   "id": "0b8a5f0e",
   "metadata": {},
   "outputs": [],
   "source": [
    "data_y=data.iloc[:,0:7] # 종속변수 6개"
   ]
  },
  {
   "cell_type": "code",
   "execution_count": 32,
   "id": "4cc5676c",
   "metadata": {
    "scrolled": true
   },
   "outputs": [
    {
     "data": {
      "text/html": [
       "<div>\n",
       "<style scoped>\n",
       "    .dataframe tbody tr th:only-of-type {\n",
       "        vertical-align: middle;\n",
       "    }\n",
       "\n",
       "    .dataframe tbody tr th {\n",
       "        vertical-align: top;\n",
       "    }\n",
       "\n",
       "    .dataframe thead th {\n",
       "        text-align: right;\n",
       "    }\n",
       "</style>\n",
       "<table border=\"1\" class=\"dataframe\">\n",
       "  <thead>\n",
       "    <tr style=\"text-align: right;\">\n",
       "      <th></th>\n",
       "      <th>ofp</th>\n",
       "      <th>ofnp</th>\n",
       "      <th>opp</th>\n",
       "      <th>opnp</th>\n",
       "      <th>emer</th>\n",
       "      <th>hosp</th>\n",
       "    </tr>\n",
       "  </thead>\n",
       "  <tbody>\n",
       "    <tr>\n",
       "      <th>count</th>\n",
       "      <td>4406.000000</td>\n",
       "      <td>4406.000000</td>\n",
       "      <td>4406.000000</td>\n",
       "      <td>4406.000000</td>\n",
       "      <td>4406.000000</td>\n",
       "      <td>4406.000000</td>\n",
       "    </tr>\n",
       "    <tr>\n",
       "      <th>mean</th>\n",
       "      <td>5.774399</td>\n",
       "      <td>1.618021</td>\n",
       "      <td>0.750794</td>\n",
       "      <td>0.536087</td>\n",
       "      <td>0.263504</td>\n",
       "      <td>0.295960</td>\n",
       "    </tr>\n",
       "    <tr>\n",
       "      <th>std</th>\n",
       "      <td>6.759225</td>\n",
       "      <td>5.317056</td>\n",
       "      <td>3.652759</td>\n",
       "      <td>3.879506</td>\n",
       "      <td>0.703659</td>\n",
       "      <td>0.746398</td>\n",
       "    </tr>\n",
       "    <tr>\n",
       "      <th>min</th>\n",
       "      <td>0.000000</td>\n",
       "      <td>0.000000</td>\n",
       "      <td>0.000000</td>\n",
       "      <td>0.000000</td>\n",
       "      <td>0.000000</td>\n",
       "      <td>0.000000</td>\n",
       "    </tr>\n",
       "    <tr>\n",
       "      <th>25%</th>\n",
       "      <td>1.000000</td>\n",
       "      <td>0.000000</td>\n",
       "      <td>0.000000</td>\n",
       "      <td>0.000000</td>\n",
       "      <td>0.000000</td>\n",
       "      <td>0.000000</td>\n",
       "    </tr>\n",
       "    <tr>\n",
       "      <th>50%</th>\n",
       "      <td>4.000000</td>\n",
       "      <td>0.000000</td>\n",
       "      <td>0.000000</td>\n",
       "      <td>0.000000</td>\n",
       "      <td>0.000000</td>\n",
       "      <td>0.000000</td>\n",
       "    </tr>\n",
       "    <tr>\n",
       "      <th>75%</th>\n",
       "      <td>8.000000</td>\n",
       "      <td>1.000000</td>\n",
       "      <td>0.000000</td>\n",
       "      <td>0.000000</td>\n",
       "      <td>0.000000</td>\n",
       "      <td>0.000000</td>\n",
       "    </tr>\n",
       "    <tr>\n",
       "      <th>max</th>\n",
       "      <td>89.000000</td>\n",
       "      <td>104.000000</td>\n",
       "      <td>141.000000</td>\n",
       "      <td>155.000000</td>\n",
       "      <td>12.000000</td>\n",
       "      <td>8.000000</td>\n",
       "    </tr>\n",
       "  </tbody>\n",
       "</table>\n",
       "</div>"
      ],
      "text/plain": [
       "               ofp         ofnp          opp         opnp         emer  \\\n",
       "count  4406.000000  4406.000000  4406.000000  4406.000000  4406.000000   \n",
       "mean      5.774399     1.618021     0.750794     0.536087     0.263504   \n",
       "std       6.759225     5.317056     3.652759     3.879506     0.703659   \n",
       "min       0.000000     0.000000     0.000000     0.000000     0.000000   \n",
       "25%       1.000000     0.000000     0.000000     0.000000     0.000000   \n",
       "50%       4.000000     0.000000     0.000000     0.000000     0.000000   \n",
       "75%       8.000000     1.000000     0.000000     0.000000     0.000000   \n",
       "max      89.000000   104.000000   141.000000   155.000000    12.000000   \n",
       "\n",
       "              hosp  \n",
       "count  4406.000000  \n",
       "mean      0.295960  \n",
       "std       0.746398  \n",
       "min       0.000000  \n",
       "25%       0.000000  \n",
       "50%       0.000000  \n",
       "75%       0.000000  \n",
       "max       8.000000  "
      ]
     },
     "execution_count": 32,
     "metadata": {},
     "output_type": "execute_result"
    }
   ],
   "source": [
    "data_y.describe() "
   ]
  },
  {
   "cell_type": "code",
   "execution_count": null,
   "id": "6f62be6e",
   "metadata": {},
   "outputs": [],
   "source": []
  },
  {
   "cell_type": "markdown",
   "id": "8879b06f",
   "metadata": {},
   "source": [
    "## 상관계수를 이용한 요약"
   ]
  },
  {
   "cell_type": "markdown",
   "id": "2452840b",
   "metadata": {},
   "source": [
    "- 상관계수 구하기\n",
    "  - numpy의 corrcoef()를 사용: np.corrcoef(math,phy)\n",
    "  - Dataframe에서 corr() 사용: df.corr(method=\"pearson\") \n",
    "\n",
    "- 결측치(NaN, missing)을 포함한 배열의 상관계수를 계산하는 방법\n",
    "  - NaN과 같은 유효하지 않은 값들을 마스크처리한 다음 구하기\n",
    "  - a = np.ma.masked$\\_$invalid(a)\n",
    "  - b = np.ma.masked$\\_$invalid(b)\n",
    "  - print(np.ma.corrcoef(a,b)[0,1])"
   ]
  },
  {
   "cell_type": "code",
   "execution_count": 71,
   "id": "e00fea6e",
   "metadata": {},
   "outputs": [],
   "source": [
    "math=[66,64,48,46,78,60,90,50,66,70]\n",
    "phy=[70,68,46,48,84,64,92,52,68,72]"
   ]
  },
  {
   "cell_type": "code",
   "execution_count": 72,
   "id": "95f794d3",
   "metadata": {},
   "outputs": [],
   "source": [
    "dt = DataFrame({'math' : [66,64,48,46,78,60,90,50,66,70],   # Dataframe으로 저장(corr())\n",
    "                'phy' :[70,68,46,48,84,64,92,52,68,72]})"
   ]
  },
  {
   "cell_type": "code",
   "execution_count": 73,
   "id": "4741e734",
   "metadata": {},
   "outputs": [
    {
     "data": {
      "text/html": [
       "<div>\n",
       "<style scoped>\n",
       "    .dataframe tbody tr th:only-of-type {\n",
       "        vertical-align: middle;\n",
       "    }\n",
       "\n",
       "    .dataframe tbody tr th {\n",
       "        vertical-align: top;\n",
       "    }\n",
       "\n",
       "    .dataframe thead th {\n",
       "        text-align: right;\n",
       "    }\n",
       "</style>\n",
       "<table border=\"1\" class=\"dataframe\">\n",
       "  <thead>\n",
       "    <tr style=\"text-align: right;\">\n",
       "      <th></th>\n",
       "      <th>math</th>\n",
       "      <th>phy</th>\n",
       "    </tr>\n",
       "  </thead>\n",
       "  <tbody>\n",
       "    <tr>\n",
       "      <th>math</th>\n",
       "      <td>1.000000</td>\n",
       "      <td>0.991806</td>\n",
       "    </tr>\n",
       "    <tr>\n",
       "      <th>phy</th>\n",
       "      <td>0.991806</td>\n",
       "      <td>1.000000</td>\n",
       "    </tr>\n",
       "  </tbody>\n",
       "</table>\n",
       "</div>"
      ],
      "text/plain": [
       "          math       phy\n",
       "math  1.000000  0.991806\n",
       "phy   0.991806  1.000000"
      ]
     },
     "execution_count": 73,
     "metadata": {},
     "output_type": "execute_result"
    }
   ],
   "source": [
    "dt.corr(method=\"pearson\") # Dataframe에서 가능"
   ]
  },
  {
   "cell_type": "code",
   "execution_count": 74,
   "id": "755133e5",
   "metadata": {},
   "outputs": [
    {
     "data": {
      "text/plain": [
       "array([[1.       , 0.9918056],\n",
       "       [0.9918056, 1.       ]])"
      ]
     },
     "execution_count": 74,
     "metadata": {},
     "output_type": "execute_result"
    }
   ],
   "source": [
    "np.corrcoef(math,phy)"
   ]
  },
  {
   "cell_type": "code",
   "execution_count": null,
   "id": "3268124a",
   "metadata": {},
   "outputs": [],
   "source": []
  },
  {
   "cell_type": "markdown",
   "id": "0a545bbb",
   "metadata": {},
   "source": [
    "## 범주형 자료의 요약(표)"
   ]
  },
  {
   "cell_type": "markdown",
   "id": "a880ee3d",
   "metadata": {},
   "source": [
    "- How to Create Frequency Tables \n",
    "  - A frequency table is a table that displays the frequencies of different categories. This type of table is particularly useful for understanding the distribution of values in a dataset.     "
   ]
  },
  {
   "cell_type": "markdown",
   "id": "aea7e307",
   "metadata": {},
   "source": [
    "- Frequency Table for a Series\n",
    "   - To find the frequencies of individual values in a pandas Series, you can use the value_counts() function\n",
    "   - df.value$\\_$counts(sort=False) \n",
    "   - sort=False :  if you don’t want the data values sorted by frequency"
   ]
  },
  {
   "cell_type": "markdown",
   "id": "5e15a0df",
   "metadata": {},
   "source": [
    "- Frequency Table for a DataFrame\n",
    "  - 분할표의 작성은 pandas 패키지의 crosstab()함수를 사용\n",
    "  - 범주형 변수로 되어있는 요인(factors)별로 교차분석(cross tabulations) 해서, 행, 열 요인 기준 별로 빈도를 세어서 도수분포표(frequency table), 교차표(contingency table) 를 만든다.    \n",
    "    \n",
    "  - pd.crosstab(index, columns)\n",
    "     - One-Way Frequency Table\n",
    "        - index: name of column to group by\n",
    "        - columns: name to give to frequency column(ex.\"count\")\n",
    "     - Two-Way Frequency Table\n",
    "        - index, columns 위치에는 array 형식의 데이터를 입력"
   ]
  },
  {
   "cell_type": "code",
   "execution_count": null,
   "id": "99b6fb76",
   "metadata": {},
   "outputs": [],
   "source": []
  },
  {
   "cell_type": "markdown",
   "id": "cbbd5986",
   "metadata": {},
   "source": [
    "- Frequency Table for a Series"
   ]
  },
  {
   "cell_type": "code",
   "execution_count": 78,
   "id": "fd11b1ef",
   "metadata": {},
   "outputs": [],
   "source": [
    "# define Series, 시리즈로 변환\n",
    "HT=pd.Series(data[\"health\"])"
   ]
  },
  {
   "cell_type": "code",
   "execution_count": 79,
   "id": "49513ad9",
   "metadata": {
    "scrolled": true
   },
   "outputs": [
    {
     "data": {
      "text/plain": [
       "average      3509\n",
       "poor          554\n",
       "excellent     343\n",
       "Name: health, dtype: int64"
      ]
     },
     "execution_count": 79,
     "metadata": {},
     "output_type": "execute_result"
    }
   ],
   "source": [
    "# find frequencies of Series data\n",
    "HT.value_counts(sort=False)  "
   ]
  },
  {
   "cell_type": "markdown",
   "id": "dfc4a578",
   "metadata": {},
   "source": [
    "- One-Way Frequency Table for a DataFrame"
   ]
  },
  {
   "cell_type": "code",
   "execution_count": 81,
   "id": "b214f02f",
   "metadata": {},
   "outputs": [
    {
     "data": {
      "text/html": [
       "<div>\n",
       "<style scoped>\n",
       "    .dataframe tbody tr th:only-of-type {\n",
       "        vertical-align: middle;\n",
       "    }\n",
       "\n",
       "    .dataframe tbody tr th {\n",
       "        vertical-align: top;\n",
       "    }\n",
       "\n",
       "    .dataframe thead th {\n",
       "        text-align: right;\n",
       "    }\n",
       "</style>\n",
       "<table border=\"1\" class=\"dataframe\">\n",
       "  <thead>\n",
       "    <tr style=\"text-align: right;\">\n",
       "      <th>col_0</th>\n",
       "      <th>count</th>\n",
       "    </tr>\n",
       "    <tr>\n",
       "      <th>health</th>\n",
       "      <th></th>\n",
       "    </tr>\n",
       "  </thead>\n",
       "  <tbody>\n",
       "    <tr>\n",
       "      <th>average</th>\n",
       "      <td>3509</td>\n",
       "    </tr>\n",
       "    <tr>\n",
       "      <th>excellent</th>\n",
       "      <td>343</td>\n",
       "    </tr>\n",
       "    <tr>\n",
       "      <th>poor</th>\n",
       "      <td>554</td>\n",
       "    </tr>\n",
       "  </tbody>\n",
       "</table>\n",
       "</div>"
      ],
      "text/plain": [
       "col_0      count\n",
       "health          \n",
       "average     3509\n",
       "excellent    343\n",
       "poor         554"
      ]
     },
     "execution_count": 81,
     "metadata": {},
     "output_type": "execute_result"
    }
   ],
   "source": [
    "pd.crosstab(index=data.health, columns='count')"
   ]
  },
  {
   "cell_type": "code",
   "execution_count": 83,
   "id": "0ddcc626",
   "metadata": {},
   "outputs": [
    {
     "data": {
      "text/html": [
       "<div>\n",
       "<style scoped>\n",
       "    .dataframe tbody tr th:only-of-type {\n",
       "        vertical-align: middle;\n",
       "    }\n",
       "\n",
       "    .dataframe tbody tr th {\n",
       "        vertical-align: top;\n",
       "    }\n",
       "\n",
       "    .dataframe thead th {\n",
       "        text-align: right;\n",
       "    }\n",
       "</style>\n",
       "<table border=\"1\" class=\"dataframe\">\n",
       "  <thead>\n",
       "    <tr style=\"text-align: right;\">\n",
       "      <th>col_0</th>\n",
       "      <th>count</th>\n",
       "    </tr>\n",
       "    <tr>\n",
       "      <th>region</th>\n",
       "      <th></th>\n",
       "    </tr>\n",
       "  </thead>\n",
       "  <tbody>\n",
       "    <tr>\n",
       "      <th>midwest</th>\n",
       "      <td>0.262596</td>\n",
       "    </tr>\n",
       "    <tr>\n",
       "      <th>noreast</th>\n",
       "      <td>0.189968</td>\n",
       "    </tr>\n",
       "    <tr>\n",
       "      <th>other</th>\n",
       "      <td>0.366319</td>\n",
       "    </tr>\n",
       "    <tr>\n",
       "      <th>west</th>\n",
       "      <td>0.181117</td>\n",
       "    </tr>\n",
       "  </tbody>\n",
       "</table>\n",
       "</div>"
      ],
      "text/plain": [
       "col_0       count\n",
       "region           \n",
       "midwest  0.262596\n",
       "noreast  0.189968\n",
       "other    0.366319\n",
       "west     0.181117"
      ]
     },
     "execution_count": 83,
     "metadata": {},
     "output_type": "execute_result"
    }
   ],
   "source": [
    "pd.crosstab(index=data.region, columns='count')/pd.crosstab(index=data.region, columns='count').sum() # 비율"
   ]
  },
  {
   "cell_type": "markdown",
   "id": "577e89b9",
   "metadata": {},
   "source": [
    "- Two-Way Frequency Table for a DataFrame"
   ]
  },
  {
   "cell_type": "code",
   "execution_count": 84,
   "id": "b0737e04",
   "metadata": {},
   "outputs": [
    {
     "data": {
      "text/html": [
       "<div>\n",
       "<style scoped>\n",
       "    .dataframe tbody tr th:only-of-type {\n",
       "        vertical-align: middle;\n",
       "    }\n",
       "\n",
       "    .dataframe tbody tr th {\n",
       "        vertical-align: top;\n",
       "    }\n",
       "\n",
       "    .dataframe thead th {\n",
       "        text-align: right;\n",
       "    }\n",
       "</style>\n",
       "<table border=\"1\" class=\"dataframe\">\n",
       "  <thead>\n",
       "    <tr style=\"text-align: right;\">\n",
       "      <th>medicaid</th>\n",
       "      <th>no</th>\n",
       "      <th>yes</th>\n",
       "    </tr>\n",
       "    <tr>\n",
       "      <th>region</th>\n",
       "      <th></th>\n",
       "      <th></th>\n",
       "    </tr>\n",
       "  </thead>\n",
       "  <tbody>\n",
       "    <tr>\n",
       "      <th>midwest</th>\n",
       "      <td>1114</td>\n",
       "      <td>43</td>\n",
       "    </tr>\n",
       "    <tr>\n",
       "      <th>noreast</th>\n",
       "      <td>768</td>\n",
       "      <td>69</td>\n",
       "    </tr>\n",
       "    <tr>\n",
       "      <th>other</th>\n",
       "      <td>1419</td>\n",
       "      <td>195</td>\n",
       "    </tr>\n",
       "    <tr>\n",
       "      <th>west</th>\n",
       "      <td>703</td>\n",
       "      <td>95</td>\n",
       "    </tr>\n",
       "  </tbody>\n",
       "</table>\n",
       "</div>"
      ],
      "text/plain": [
       "medicaid    no  yes\n",
       "region             \n",
       "midwest   1114   43\n",
       "noreast    768   69\n",
       "other     1419  195\n",
       "west       703   95"
      ]
     },
     "execution_count": 84,
     "metadata": {},
     "output_type": "execute_result"
    }
   ],
   "source": [
    "# 교차표(contingency table, frequency table) 만들기\n",
    "pd.crosstab(index=data.region, columns=data.medicaid)"
   ]
  },
  {
   "cell_type": "code",
   "execution_count": 85,
   "id": "9dffdec1",
   "metadata": {},
   "outputs": [
    {
     "data": {
      "text/html": [
       "<div>\n",
       "<style scoped>\n",
       "    .dataframe tbody tr th:only-of-type {\n",
       "        vertical-align: middle;\n",
       "    }\n",
       "\n",
       "    .dataframe tbody tr th {\n",
       "        vertical-align: top;\n",
       "    }\n",
       "\n",
       "    .dataframe thead th {\n",
       "        text-align: right;\n",
       "    }\n",
       "</style>\n",
       "<table border=\"1\" class=\"dataframe\">\n",
       "  <thead>\n",
       "    <tr style=\"text-align: right;\">\n",
       "      <th>Medicaid</th>\n",
       "      <th>no</th>\n",
       "      <th>yes</th>\n",
       "    </tr>\n",
       "    <tr>\n",
       "      <th>Region</th>\n",
       "      <th></th>\n",
       "      <th></th>\n",
       "    </tr>\n",
       "  </thead>\n",
       "  <tbody>\n",
       "    <tr>\n",
       "      <th>midwest</th>\n",
       "      <td>1114</td>\n",
       "      <td>43</td>\n",
       "    </tr>\n",
       "    <tr>\n",
       "      <th>noreast</th>\n",
       "      <td>768</td>\n",
       "      <td>69</td>\n",
       "    </tr>\n",
       "    <tr>\n",
       "      <th>other</th>\n",
       "      <td>1419</td>\n",
       "      <td>195</td>\n",
       "    </tr>\n",
       "    <tr>\n",
       "      <th>west</th>\n",
       "      <td>703</td>\n",
       "      <td>95</td>\n",
       "    </tr>\n",
       "  </tbody>\n",
       "</table>\n",
       "</div>"
      ],
      "text/plain": [
       "Medicaid    no  yes\n",
       "Region             \n",
       "midwest   1114   43\n",
       "noreast    768   69\n",
       "other     1419  195\n",
       "west       703   95"
      ]
     },
     "execution_count": 85,
     "metadata": {},
     "output_type": "execute_result"
    }
   ],
   "source": [
    "#교차표의 행 이름, 열 이름 부여 : pd.crosstab(rownames=['xx'], colnames=['aa'])\n",
    "pd.crosstab(index=data.region, columns=data.medicaid,rownames=['Region'], colnames=['Medicaid'])"
   ]
  },
  {
   "cell_type": "code",
   "execution_count": 86,
   "id": "229fecc8",
   "metadata": {},
   "outputs": [
    {
     "data": {
      "text/html": [
       "<div>\n",
       "<style scoped>\n",
       "    .dataframe tbody tr th:only-of-type {\n",
       "        vertical-align: middle;\n",
       "    }\n",
       "\n",
       "    .dataframe tbody tr th {\n",
       "        vertical-align: top;\n",
       "    }\n",
       "\n",
       "    .dataframe thead th {\n",
       "        text-align: right;\n",
       "    }\n",
       "</style>\n",
       "<table border=\"1\" class=\"dataframe\">\n",
       "  <thead>\n",
       "    <tr style=\"text-align: right;\">\n",
       "      <th>medicaid</th>\n",
       "      <th>no</th>\n",
       "      <th>yes</th>\n",
       "      <th>All</th>\n",
       "    </tr>\n",
       "    <tr>\n",
       "      <th>region</th>\n",
       "      <th></th>\n",
       "      <th></th>\n",
       "      <th></th>\n",
       "    </tr>\n",
       "  </thead>\n",
       "  <tbody>\n",
       "    <tr>\n",
       "      <th>midwest</th>\n",
       "      <td>1114</td>\n",
       "      <td>43</td>\n",
       "      <td>1157</td>\n",
       "    </tr>\n",
       "    <tr>\n",
       "      <th>noreast</th>\n",
       "      <td>768</td>\n",
       "      <td>69</td>\n",
       "      <td>837</td>\n",
       "    </tr>\n",
       "    <tr>\n",
       "      <th>other</th>\n",
       "      <td>1419</td>\n",
       "      <td>195</td>\n",
       "      <td>1614</td>\n",
       "    </tr>\n",
       "    <tr>\n",
       "      <th>west</th>\n",
       "      <td>703</td>\n",
       "      <td>95</td>\n",
       "      <td>798</td>\n",
       "    </tr>\n",
       "    <tr>\n",
       "      <th>All</th>\n",
       "      <td>4004</td>\n",
       "      <td>402</td>\n",
       "      <td>4406</td>\n",
       "    </tr>\n",
       "  </tbody>\n",
       "</table>\n",
       "</div>"
      ],
      "text/plain": [
       "medicaid    no  yes   All\n",
       "region                   \n",
       "midwest   1114   43  1157\n",
       "noreast    768   69   837\n",
       "other     1419  195  1614\n",
       "west       703   95   798\n",
       "All       4004  402  4406"
      ]
     },
     "execution_count": 86,
     "metadata": {},
     "output_type": "execute_result"
    }
   ],
   "source": [
    "#교차표의 행 합, 열 합 추가하기 : pd.crosstab(margins=True)\n",
    "pd.crosstab(index=data.region, columns=data.medicaid,margins=True)"
   ]
  },
  {
   "cell_type": "code",
   "execution_count": 87,
   "id": "4e9033e6",
   "metadata": {},
   "outputs": [
    {
     "data": {
      "text/html": [
       "<div>\n",
       "<style scoped>\n",
       "    .dataframe tbody tr th:only-of-type {\n",
       "        vertical-align: middle;\n",
       "    }\n",
       "\n",
       "    .dataframe tbody tr th {\n",
       "        vertical-align: top;\n",
       "    }\n",
       "\n",
       "    .dataframe thead th {\n",
       "        text-align: right;\n",
       "    }\n",
       "</style>\n",
       "<table border=\"1\" class=\"dataframe\">\n",
       "  <thead>\n",
       "    <tr style=\"text-align: right;\">\n",
       "      <th>medicaid</th>\n",
       "      <th>no</th>\n",
       "      <th>yes</th>\n",
       "    </tr>\n",
       "    <tr>\n",
       "      <th>region</th>\n",
       "      <th></th>\n",
       "      <th></th>\n",
       "    </tr>\n",
       "  </thead>\n",
       "  <tbody>\n",
       "    <tr>\n",
       "      <th>midwest</th>\n",
       "      <td>0.252837</td>\n",
       "      <td>0.009759</td>\n",
       "    </tr>\n",
       "    <tr>\n",
       "      <th>noreast</th>\n",
       "      <td>0.174308</td>\n",
       "      <td>0.015660</td>\n",
       "    </tr>\n",
       "    <tr>\n",
       "      <th>other</th>\n",
       "      <td>0.322061</td>\n",
       "      <td>0.044258</td>\n",
       "    </tr>\n",
       "    <tr>\n",
       "      <th>west</th>\n",
       "      <td>0.159555</td>\n",
       "      <td>0.021562</td>\n",
       "    </tr>\n",
       "  </tbody>\n",
       "</table>\n",
       "</div>"
      ],
      "text/plain": [
       "medicaid        no       yes\n",
       "region                      \n",
       "midwest   0.252837  0.009759\n",
       "noreast   0.174308  0.015660\n",
       "other     0.322061  0.044258\n",
       "west      0.159555  0.021562"
      ]
     },
     "execution_count": 87,
     "metadata": {},
     "output_type": "execute_result"
    }
   ],
   "source": [
    "#구성비율로 교차표 만들기 : pd.crosstab(normalize=True)\n",
    "pd.crosstab(index=data.region, columns=data.medicaid,normalize=True)"
   ]
  },
  {
   "cell_type": "code",
   "execution_count": null,
   "id": "952eb7c8",
   "metadata": {},
   "outputs": [],
   "source": []
  },
  {
   "cell_type": "markdown",
   "id": "e6f70f44",
   "metadata": {
    "scrolled": false
   },
   "source": [
    "# 그래프 그리기"
   ]
  },
  {
   "cell_type": "markdown",
   "id": "bbbe50dc",
   "metadata": {},
   "source": [
    " - Matplotlib 라이브러리를 이용하여  바 차트, 파이차트, 히스토그램, Box Plot, Scatter Plot 등의 다양한 차트를 그릴 수 있다."
   ]
  },
  {
   "cell_type": "markdown",
   "id": "9efc71b8",
   "metadata": {},
   "source": [
    "- Matplotlib는 가장 많이 사용되는 데이터 시각화 (Data Visualization) 라이브러리 패키지로, 파이썬에서 데이터로 플롯(Plot)을 그리는데 활용 할 수 있다.\n",
    "- Matplotlib는 바 차트, 파이차트, 히스토그램, Box Plot, Scatter Plot 등을 비롯하여 다양한 차트와 플롯 스타일을 지원하며, 필요한 경우 Matplotlib.org 갤러리 웹페이지에서 다양한 샘플 차트를 볼 수 있다."
   ]
  },
  {
   "cell_type": "markdown",
   "id": "cf12e3dd",
   "metadata": {},
   "source": [
    "Matplotlib의 주요 기능은 다음과 같다."
   ]
  },
  {
   "cell_type": "markdown",
   "id": "4eb26f9e",
   "metadata": {},
   "source": [
    "* 주로 2차원 그림을 위한 패키지\n",
    "* Ipython에서 GUI 툴 킷과 함께 사용하면 인터렉티브한 기능을 사용할 수 있음 (그림 회전, 확대 등)\n",
    "* 다양한 포멧(pdf, jpg, png 등)으로 저장 가능\n",
    "* 3차원 그림을 위한 matplot3d 툴 킷 지원"
   ]
  },
  {
   "cell_type": "markdown",
   "id": "a7d75aaa",
   "metadata": {},
   "source": [
    "Matplotlib는 과학용 파이썬 배포판인 아나콘다(Anaconda)를 설치해서 Jupyter Notebook에서 사용가능하며,   아나콘다로 파이썬을 설치하지 않은 경우에는설치 관리자를 통해서 설치 후 사용해야한다. "
   ]
  },
  {
   "cell_type": "code",
   "execution_count": 55,
   "id": "2330bb31",
   "metadata": {},
   "outputs": [],
   "source": [
    "import matplotlib.pyplot as plt"
   ]
  },
  {
   "cell_type": "markdown",
   "id": "5da3ac56",
   "metadata": {},
   "source": [
    "##  선 그래프 (line graph)"
   ]
  },
  {
   "cell_type": "markdown",
   "id": "22599176",
   "metadata": {},
   "source": [
    "먼저, plt.figure figsize를 통해서 빈 도화지의 크기 (inch)를 지정할 수 있다.  \n",
    "plt.plot으로 그림을 만들고 나서는 실제 그림을 표시하는 함수인 plt.show()을 호출하여 그림을 프린트 해줄수 있다."
   ]
  },
  {
   "cell_type": "code",
   "execution_count": 56,
   "id": "21574061",
   "metadata": {
    "scrolled": true
   },
   "outputs": [
    {
     "data": {
      "image/png": "[encoded data removed]",
      "text/plain": [
       "<Figure size 500x300 with 1 Axes>"
      ]
     },
     "metadata": {},
     "output_type": "display_data"
    }
   ],
   "source": [
    "plt.figure(figsize=(5,3))\n",
    "plt.plot([2, 4, 6, 8, 10])\n",
    "plt.show()"
   ]
  },
  {
   "cell_type": "markdown",
   "id": "ca252e07",
   "metadata": {},
   "source": [
    "### 제목과 축 레이블 변경\n",
    "그림에 X,Y 축 레이블이나 제목을 붙이기 위해서는 plt.xlabel(축이름), plt.ylabel(축이름), plt.title(제목) 등의 함수를 사용하면 된다."
   ]
  },
  {
   "cell_type": "markdown",
   "id": "7c844871",
   "metadata": {},
   "source": [
    "xticks( ), yticks( ) 함수를 이용해서 각각 X축 눈금, Y축에 실제 데이터 값의 눈금을 표시 할 수 있다. "
   ]
  },
  {
   "cell_type": "code",
   "execution_count": 57,
   "id": "f693b7bb",
   "metadata": {},
   "outputs": [
    {
     "data": {
      "image/png": "[encoded data removed]",
      "text/plain": [
       "<Figure size 500x300 with 1 Axes>"
      ]
     },
     "metadata": {},
     "output_type": "display_data"
    }
   ],
   "source": [
    "x = [8, 9, 10, 11, 12]\n",
    "y = [15.3, 21.4, 24.2, 30.6, 41.2]\n",
    "plt.figure(figsize=(5,3))\n",
    "plt.plot(x, y)\n",
    "plt.title('Candy price')\n",
    "plt.xlabel('weight')\n",
    "plt.ylabel('price')\n",
    "plt.xticks(x)  # 데이터 값이 직접 표현 됨 \n",
    "plt.yticks(y)  # 데이터 값이 직접 표현 됨 \n",
    "plt.show()"
   ]
  },
  {
   "cell_type": "markdown",
   "id": "159a519e",
   "metadata": {},
   "source": [
    "## 스타일 변경 "
   ]
  },
  {
   "cell_type": "markdown",
   "id": "af3502e3",
   "metadata": {},
   "source": [
    "plot( ) 함수 내 linestyle, color, marker 인자를 이용해서 선 스타일, 색상, 마커(marker)를 수정/삽입할 수 있다."
   ]
  },
  {
   "cell_type": "markdown",
   "id": "9fb4f472",
   "metadata": {},
   "source": [
    "**주요 선스타일**"
   ]
  },
  {
   "cell_type": "markdown",
   "id": "30624fc2",
   "metadata": {},
   "source": [
    "|type| description |\n",
    "|:-------:|:---------:|\n",
    "|'-' | solid line|\n",
    "|'--' | dashed line|\n",
    "|'-.' | dash-dot line|\n",
    "|':'  |dotted line|"
   ]
  },
  {
   "cell_type": "markdown",
   "id": "edead978",
   "metadata": {},
   "source": [
    "**주요 색상**\n",
    "\n",
    "|type| description |\n",
    "|:-------:|:---------:|\n",
    "|'b' or \"blue\" | blue|\n",
    "|'g' or \"green\" | green|\n",
    "|'r' or \"red\" | red|\n",
    "|'c' or \"cyan\" | cyan|\n",
    "|'y' or \"yellow\" | yellow|\n",
    "|'k' or \"black\" | black|\n",
    "|'w' or \"white\" | white|"
   ]
  },
  {
   "cell_type": "markdown",
   "id": "9512a1c6",
   "metadata": {},
   "source": [
    "**주요 마커**"
   ]
  },
  {
   "cell_type": "markdown",
   "id": "960488a9",
   "metadata": {},
   "source": [
    "|type| description |\n",
    "|:-------:|:---------:|\n",
    "|'.' | point marker|\n",
    "|'o' | circle marker|\n",
    "|'v' | triangle marker|\n",
    "|'s' | square marker|\n",
    "|'p' | pentagon marker|\n",
    "|'*' | star marker|\n",
    "|'h' | hexagon marker|\n",
    "|'+' | plus marker|"
   ]
  },
  {
   "cell_type": "code",
   "execution_count": 58,
   "id": "006679a1",
   "metadata": {
    "scrolled": true
   },
   "outputs": [
    {
     "data": {
      "image/png": "[encoded data removed]",
      "text/plain": [
       "<Figure size 500x300 with 1 Axes>"
      ]
     },
     "metadata": {},
     "output_type": "display_data"
    }
   ],
   "source": [
    "plt.figure(figsize=(5,3))\n",
    "plt.plot([1, 4, 9, 16], linestyle = ':', color =\"r\", marker = 'o')\n",
    "plt.show()"
   ]
  },
  {
   "cell_type": "code",
   "execution_count": null,
   "id": "33c7c73d",
   "metadata": {},
   "outputs": [],
   "source": []
  },
  {
   "cell_type": "markdown",
   "id": "13c3cef3",
   "metadata": {},
   "source": [
    "## NMES data로 다양한 그래프 그리기"
   ]
  },
  {
   "cell_type": "markdown",
   "id": "a338c66b",
   "metadata": {},
   "source": [
    "### 막대 그래프(Bar plot)"
   ]
  },
  {
   "cell_type": "markdown",
   "id": "e6067e48",
   "metadata": {},
   "source": [
    "- 막대 그래프(bar plot)은 범주형 데이터(categorical data)에 대해 그래프적으로 요약해주는 그림이다. \n",
    "- bar( ) 혹은 barh( ) 함수를 이용해서 막대 그래프를 그릴 수 있다.\n",
    "- 여러 범주형 변수를 사용하여 각 클래스별로 빈도나 합계를 막대그래프로 비교 가능하다."
   ]
  },
  {
   "cell_type": "markdown",
   "id": "e60aa72e",
   "metadata": {},
   "source": [
    "**주요 parameter**\n",
    "\n",
    "|parameter| description |\n",
    "|:----:|:--------:|\n",
    "|color, alpha | 막대의 색상, 투명도|\n",
    "|width |막대 폭|\n",
    "|bottom |위로 쌓은(stacked) bar chart 생성|"
   ]
  },
  {
   "cell_type": "code",
   "execution_count": 103,
   "id": "b0970ade",
   "metadata": {},
   "outputs": [],
   "source": [
    "# 지역별 도수의 막대그래프 그리기"
   ]
  },
  {
   "cell_type": "code",
   "execution_count": 59,
   "id": "2a0f4acf",
   "metadata": {},
   "outputs": [
    {
     "data": {
      "text/plain": [
       "other      1614\n",
       "midwest    1157\n",
       "noreast     837\n",
       "west        798\n",
       "Name: region, dtype: int64"
      ]
     },
     "execution_count": 59,
     "metadata": {},
     "output_type": "execute_result"
    }
   ],
   "source": [
    "# Y축\n",
    "freq_by_region=pd.Series(data[\"region\"]).value_counts(sort=False) \n",
    "## 지역별로 도수 계산(Series로 변환해서 사용, crosstab은 DataFrame 형태라 안됨)\n",
    "freq_by_region # 시리즈 sort 안함"
   ]
  },
  {
   "cell_type": "code",
   "execution_count": 60,
   "id": "148bb7f7",
   "metadata": {},
   "outputs": [
    {
     "data": {
      "text/plain": [
       "array([0, 1, 2, 3])"
      ]
     },
     "execution_count": 60,
     "metadata": {},
     "output_type": "execute_result"
    }
   ],
   "source": [
    "# X축 \n",
    "label = ['other','midwest', 'noreast ','west' ]\n",
    "index = np.arange(len(label))\n",
    "index"
   ]
  },
  {
   "cell_type": "code",
   "execution_count": 61,
   "id": "ce86b572",
   "metadata": {
    "scrolled": true
   },
   "outputs": [
    {
     "data": {
      "image/png": "[encoded data removed]",
      "text/plain": [
       "<Figure size 500x300 with 1 Axes>"
      ]
     },
     "metadata": {},
     "output_type": "display_data"
    }
   ],
   "source": [
    "# bar plot \n",
    "plt.figure(figsize=(5,3))\n",
    "plt.bar(index,\n",
    "        freq_by_region,\n",
    "        color='green', \n",
    "        alpha=0.5, \n",
    "        width=0.5)# color:막대의 색상, alpha:투명도 , width:막대의 너비(default: 0.8)\n",
    "plt.title('frequency by region', fontsize=10)\n",
    "plt.xlabel('region', fontsize=10)\n",
    "plt.ylabel('frequency', fontsize=10)\n",
    "plt.xticks(index, label, fontsize=10)   # X축 눈금 지정, 라벨링 \n",
    "plt.show()"
   ]
  },
  {
   "cell_type": "code",
   "execution_count": 40,
   "id": "5f3b5df9",
   "metadata": {},
   "outputs": [],
   "source": [
    "# 지역별 ofp의 값을 막대그래프로"
   ]
  },
  {
   "cell_type": "code",
   "execution_count": 62,
   "id": "06f650bd",
   "metadata": {},
   "outputs": [
    {
     "data": {
      "text/plain": [
       "region\n",
       "midwest    5.408816\n",
       "noreast    6.091995\n",
       "other      5.578067\n",
       "west       6.368421\n",
       "Name: ofp, dtype: float64"
      ]
     },
     "execution_count": 62,
     "metadata": {},
     "output_type": "execute_result"
    }
   ],
   "source": [
    "# Y축 # pandas : groupby ( 그룹별로 데이터를 집계, 요약하도록 도움을 주는 매서드)\n",
    "ofp_mean_by_region=data.groupby('region').ofp.mean() # \"region\" 변수의 값에 따라 그룹을 만들고, ofp 변수에 대해 그룹평균을 구함\n",
    "ofp_mean_by_region"
   ]
  },
  {
   "cell_type": "code",
   "execution_count": 63,
   "id": "50f3f128",
   "metadata": {},
   "outputs": [
    {
     "data": {
      "text/plain": [
       "array([0, 1, 2, 3])"
      ]
     },
     "execution_count": 63,
     "metadata": {},
     "output_type": "execute_result"
    }
   ],
   "source": [
    "# X축 \n",
    "label = ['other','midwest', 'noreast ','west' ]\n",
    "index = np.arange(len(label))\n",
    "index"
   ]
  },
  {
   "cell_type": "code",
   "execution_count": 64,
   "id": "a451e3c2",
   "metadata": {},
   "outputs": [
    {
     "data": {
      "image/png": "[encoded data removed]",
      "text/plain": [
       "<Figure size 500x300 with 1 Axes>"
      ]
     },
     "metadata": {},
     "output_type": "display_data"
    }
   ],
   "source": [
    "# bar plot \n",
    "plt.figure(figsize=(5,3))\n",
    "plt.bar(index, \n",
    "        ofp_mean_by_region, \n",
    "        color='red', \n",
    "        alpha=0.5, \n",
    "        width=0.5)# color:막대의 색상, alpha:투명도 , width:막대의 너비(default: 0.8)\n",
    "plt.title('mean of ofp by region', fontsize=10)\n",
    "plt.xlabel('region', fontsize=10)\n",
    "plt.ylabel('mean of ofp', fontsize=10)\n",
    "plt.xticks(index, label, fontsize=10)   # X축 눈금 지정, 라벨링 \n",
    "plt.show()"
   ]
  },
  {
   "cell_type": "code",
   "execution_count": null,
   "id": "4dcfd384",
   "metadata": {},
   "outputs": [],
   "source": []
  },
  {
   "cell_type": "markdown",
   "id": "3f025a58",
   "metadata": {},
   "source": [
    "### 히스토그램 (Histogram)"
   ]
  },
  {
   "cell_type": "markdown",
   "id": "46a799e3",
   "metadata": {},
   "source": [
    "- 히스토그램은 일변량 수치형 데이터(numeric data)의 분포를 나타낸다.  \n",
    "- 흔히 도수, 상대도수, 확률, 확률밀도 등의 분포를 그릴 때 사용한다.  \n",
    "- matplotlib.pyplot의 hist( ) 함수를 이용하면 히스토그램(histogram)을 그릴 수 있다.  \n",
    "   - hist( ) 함수 내 bins 인자로 구간의 개수를 결정하고, density 인자로 확률밀도와 빈도 중 어떤 것을 그릴 것인지 결정한다."
   ]
  },
  {
   "cell_type": "markdown",
   "id": "970b387d",
   "metadata": {},
   "source": [
    "**주요 parameter**\n",
    "\n",
    "|parameter| description |\n",
    "|:----:|:--------:|\n",
    "|bins |막대 개수|\n",
    "|density| 빈도수가 아닌 density로 그래프 표현|\n",
    "|color |그래프 색상|\n",
    "|alpha |색상의 투명도, 0에 가까울수록 투명|"
   ]
  },
  {
   "cell_type": "code",
   "execution_count": 65,
   "id": "cdf98c14",
   "metadata": {},
   "outputs": [
    {
     "data": {
      "image/png": "[encoded data removed]",
      "text/plain": [
       "<Figure size 500x300 with 1 Axes>"
      ]
     },
     "metadata": {},
     "output_type": "display_data"
    }
   ],
   "source": [
    "dt = np.random.randn(5000)\n",
    "plt.figure(figsize=(5,3))\n",
    "plt.hist(dt, # 데이터\n",
    "         bins = 50, # 막대 개수\n",
    "         density = True, # 확률밀도(True)/빈도(False)\n",
    "         color = 'blue', # 그래프 색상\n",
    "         alpha = 0.7, # 색상의 투명도, 0에 가까울수록 투명\n",
    "         label = 'N(10, 25)')\n",
    "plt.show()"
   ]
  },
  {
   "cell_type": "code",
   "execution_count": 66,
   "id": "0419c503",
   "metadata": {},
   "outputs": [
    {
     "data": {
      "image/png": "[encoded data removed]",
      "text/plain": [
       "<Figure size 500x300 with 1 Axes>"
      ]
     },
     "metadata": {},
     "output_type": "display_data"
    }
   ],
   "source": [
    "#두개의 그래프가 겹쳐서 그려짐\n",
    "dt1 = np.random.normal(10, 5, 10000)\n",
    "dt2 = np.random.normal(0, 1, 10000)\n",
    "\n",
    "plt.figure(figsize=(5,3))\n",
    "plt.hist(dt1, bins = 50, density = True, color = 'blue', alpha = 0.5,label = 'N(10, 25)')\n",
    "plt.hist(dt2, bins = 20, density= True, color = 'red', alpha = 0.5, label = 'N(0,1)')\n",
    "plt.legend(title=\"Variables\")\n",
    "plt.show()"
   ]
  },
  {
   "cell_type": "code",
   "execution_count": 67,
   "id": "e8e431b0",
   "metadata": {
    "scrolled": true
   },
   "outputs": [
    {
     "data": {
      "image/png": "[encoded data removed]",
      "text/plain": [
       "<Figure size 700x400 with 1 Axes>"
      ]
     },
     "metadata": {},
     "output_type": "display_data"
    }
   ],
   "source": [
    "plt.figure(figsize=(7,4))\n",
    "plt.hist(data[\"ofp\"],bins=180)\n",
    "plt.show()"
   ]
  },
  {
   "cell_type": "code",
   "execution_count": null,
   "id": "7b91885e",
   "metadata": {},
   "outputs": [],
   "source": []
  },
  {
   "cell_type": "markdown",
   "id": "8542bf41",
   "metadata": {},
   "source": [
    "### 산점도 (Scatter plot)"
   ]
  },
  {
   "cell_type": "markdown",
   "id": "cf509624",
   "metadata": {},
   "source": [
    "- 두 수치형 변수의 관계를 확인하고자 할때 사용하는 산점도(scatter plot)를 그릴 수 있다.\n",
    "\n",
    "1. matplotlib.pyplot의 **scatter()** 함수를 사용\n",
    "\n",
    "**주요 parameter**\n",
    "\n",
    "|parameter| description |\n",
    "|:----:|:--------:|\n",
    "|marker| 점 스타일|\n",
    "| c | 색깔|\n",
    "| s |점 크기|\n"
   ]
  },
  {
   "cell_type": "code",
   "execution_count": 69,
   "id": "5f8255ec",
   "metadata": {},
   "outputs": [
    {
     "data": {
      "image/png": "[encoded data removed]",
      "text/plain": [
       "<Figure size 500x500 with 1 Axes>"
      ]
     },
     "metadata": {},
     "output_type": "display_data"
    }
   ],
   "source": [
    "plt.figure(figsize=(5,5))\n",
    "plt.scatter(data['school'],# x축\n",
    "            data['faminc']) # y축\n",
    "plt.show()"
   ]
  },
  {
   "cell_type": "markdown",
   "id": "50712b97",
   "metadata": {},
   "source": [
    "2. seaborn의 **relplot()** 함수를 사용"
   ]
  },
  {
   "cell_type": "code",
   "execution_count": 50,
   "id": "0d50e02b",
   "metadata": {},
   "outputs": [],
   "source": [
    "import seaborn "
   ]
  },
  {
   "cell_type": "code",
   "execution_count": 51,
   "id": "1bd2ff47",
   "metadata": {},
   "outputs": [
    {
     "data": {
      "image/png": "[encoded data removed]",
      "text/plain": [
       "<Figure size 500x500 with 1 Axes>"
      ]
     },
     "metadata": {},
     "output_type": "display_data"
    }
   ],
   "source": [
    "seaborn.set(rc={'figure.figsize':(3,3)})\n",
    "seaborn.relplot(x = 'school', y = 'faminc', data = data)\n",
    "plt.show()"
   ]
  },
  {
   "cell_type": "markdown",
   "id": "11c27519",
   "metadata": {},
   "source": [
    "### 산점도 행렬"
   ]
  },
  {
   "cell_type": "markdown",
   "id": "4b4047c3",
   "metadata": {},
   "source": [
    "- 산점도 행렬은 seaborn 라이브러리의 **seaborn.pairplot()** 사용\n",
    "- 대각원소 자리에 histogram이 그려짐"
   ]
  },
  {
   "cell_type": "code",
   "execution_count": 123,
   "id": "24c9eeac",
   "metadata": {},
   "outputs": [],
   "source": [
    "# 수치형 변수들로만 그리기"
   ]
  },
  {
   "cell_type": "code",
   "execution_count": 59,
   "id": "b8783d50",
   "metadata": {},
   "outputs": [
    {
     "data": {
      "image/png": "[encoded data removed]",
      "text/plain": [
       "<Figure size 1000x1000 with 20 Axes>"
      ]
     },
     "metadata": {},
     "output_type": "display_data"
    }
   ],
   "source": [
    "iris = seaborn.load_dataset('iris')\n",
    "\n",
    "seaborn.pairplot(iris, diag_kind='hist') # 대각원소 자리에 histogram\n",
    "plt.show()"
   ]
  },
  {
   "cell_type": "code",
   "execution_count": null,
   "id": "fef7466a",
   "metadata": {
    "scrolled": true
   },
   "outputs": [],
   "source": []
  },
  {
   "cell_type": "markdown",
   "id": "e79fe4d4",
   "metadata": {},
   "source": [
    "### 상자수염그림(Box plot)"
   ]
  },
  {
   "cell_type": "markdown",
   "id": "d31a5df4",
   "metadata": {},
   "source": [
    "- Box-plot은 수치형 데이터(numeric data)를 다섯숫자요약 통계량(최솟값, 제 1사분위수, 중앙값, 제 3사분위수, 최댓값)으로 표현 하는 그래프적 기술 통계 방법이다.   \n",
    "- matplotlib 에서는 **boxplot( )** 함수를 이용해서 box-plot을 그릴 수 있다."
   ]
  },
  {
   "cell_type": "code",
   "execution_count": 60,
   "id": "83a21b62",
   "metadata": {},
   "outputs": [
    {
     "data": {
      "image/png": "[encoded data removed]",
      "text/plain": [
       "<Figure size 300x300 with 1 Axes>"
      ]
     },
     "metadata": {},
     "output_type": "display_data"
    }
   ],
   "source": [
    "plt.boxplot(data['age'],\n",
    "            sym=\"bo\") # outlier symbol : blue+original\n",
    "plt.title('Box plot of age')\n",
    "plt.xticks([1], ['age'])\n",
    "plt.show()"
   ]
  },
  {
   "cell_type": "markdown",
   "id": "531d5133",
   "metadata": {},
   "source": [
    "* vert=0 으로 지정하면 가로방향으로 boxplot을 그릴 수있다."
   ]
  },
  {
   "cell_type": "code",
   "execution_count": 61,
   "id": "c4f90e7f",
   "metadata": {},
   "outputs": [
    {
     "data": {
      "image/png": "[encoded data removed]",
      "text/plain": [
       "<Figure size 300x300 with 1 Axes>"
      ]
     },
     "metadata": {},
     "output_type": "display_data"
    }
   ],
   "source": [
    "plt.boxplot(data['age'], \n",
    "            sym='rs', # outlier symbol : red+square\n",
    "            vert=0) # 가로 방향으로 boxplot 생성\n",
    "plt.show()"
   ]
  },
  {
   "cell_type": "markdown",
   "id": "8285acc4",
   "metadata": {},
   "source": [
    "#### ofp 변수를 health 변수로 그룹화한 상자 그림 그리기\n",
    " - seaborn 패키지 이용"
   ]
  },
  {
   "cell_type": "code",
   "execution_count": 65,
   "id": "c16b7425",
   "metadata": {},
   "outputs": [
    {
     "data": {
      "image/png": "[encoded data removed]",
      "text/plain": [
       "<Figure size 500x500 with 1 Axes>"
      ]
     },
     "metadata": {},
     "output_type": "display_data"
    }
   ],
   "source": [
    "# Box plot of \"ofp\" grouped by \"health\"\n",
    "\n",
    "seaborn.set(rc={'figure.figsize':(5,5)})\n",
    "seaborn.boxplot(x=\"health\", y=\"ofp\", data=data)\n",
    "plt.show()"
   ]
  },
  {
   "cell_type": "code",
   "execution_count": 66,
   "id": "75ef33fd",
   "metadata": {},
   "outputs": [],
   "source": [
    "# ofp에 log 취하기\n",
    "data['ofp_log'] = np.log(data['ofp']+0.5)"
   ]
  },
  {
   "cell_type": "code",
   "execution_count": 506,
   "id": "c4eeb50f",
   "metadata": {},
   "outputs": [
    {
     "data": {
      "image/png": "[encoded data removed]",
      "text/plain": [
       "<Figure size 500x500 with 1 Axes>"
      ]
     },
     "metadata": {},
     "output_type": "display_data"
    }
   ],
   "source": [
    "# Box plot of \"log(ofp)\" grouped by \"health\"\n",
    "seaborn.set(rc={'figure.figsize':(5,5)})\n",
    "seaborn.boxplot(x=\"health\", y=\"ofp_log\", data=data)\n",
    "plt.show()"
   ]
  },
  {
   "cell_type": "code",
   "execution_count": 67,
   "id": "9fe7b28e",
   "metadata": {},
   "outputs": [
    {
     "data": {
      "image/png": "[encoded data removed]",
      "text/plain": [
       "<Figure size 500x500 with 1 Axes>"
      ]
     },
     "metadata": {},
     "output_type": "display_data"
    }
   ],
   "source": [
    "# Box plot of \"log(ofp)\" grouped by \"region\"\n",
    "seaborn.set(rc={'figure.figsize':(5,5)})\n",
    "seaborn.boxplot(x=\"region\", y=\"ofp_log\", data=data)\n",
    "plt.show()"
   ]
  },
  {
   "cell_type": "code",
   "execution_count": null,
   "id": "2101afb2",
   "metadata": {},
   "outputs": [],
   "source": []
  },
  {
   "cell_type": "markdown",
   "id": "4f17b17a",
   "metadata": {},
   "source": [
    "# 통계적 분석방법"
   ]
  },
  {
   "cell_type": "markdown",
   "id": "bcd44d79",
   "metadata": {},
   "source": [
    "## t-test"
   ]
  },
  {
   "cell_type": "markdown",
   "id": "4a535403",
   "metadata": {},
   "source": [
    "- t-test는  집단간 평균 차이를 검증할 때 사용하는 방법\n",
    "- medicaid_yes와 medicaid_no의 ofp(병원 방문 횟수)에 차이가 있는지 검정해보자.\n",
    "  - $H_0: \\mu_1=\\mu_2~~ H_1: \\mu_1\\neq\\mu_2 $\n",
    "- scipy.stats 패키지의 **ttest_ind()** 함수를 이용"
   ]
  },
  {
   "cell_type": "code",
   "execution_count": 70,
   "id": "07800758",
   "metadata": {},
   "outputs": [
    {
     "data": {
      "text/html": [
       "<div>\n",
       "<style scoped>\n",
       "    .dataframe tbody tr th:only-of-type {\n",
       "        vertical-align: middle;\n",
       "    }\n",
       "\n",
       "    .dataframe tbody tr th {\n",
       "        vertical-align: top;\n",
       "    }\n",
       "\n",
       "    .dataframe thead th {\n",
       "        text-align: right;\n",
       "    }\n",
       "</style>\n",
       "<table border=\"1\" class=\"dataframe\">\n",
       "  <thead>\n",
       "    <tr style=\"text-align: right;\">\n",
       "      <th></th>\n",
       "      <th>MEDICAID</th>\n",
       "      <th>ofp</th>\n",
       "    </tr>\n",
       "  </thead>\n",
       "  <tbody>\n",
       "    <tr>\n",
       "      <th>1</th>\n",
       "      <td>0</td>\n",
       "      <td>5</td>\n",
       "    </tr>\n",
       "    <tr>\n",
       "      <th>2</th>\n",
       "      <td>0</td>\n",
       "      <td>1</td>\n",
       "    </tr>\n",
       "    <tr>\n",
       "      <th>3</th>\n",
       "      <td>1</td>\n",
       "      <td>13</td>\n",
       "    </tr>\n",
       "    <tr>\n",
       "      <th>4</th>\n",
       "      <td>0</td>\n",
       "      <td>16</td>\n",
       "    </tr>\n",
       "    <tr>\n",
       "      <th>5</th>\n",
       "      <td>0</td>\n",
       "      <td>3</td>\n",
       "    </tr>\n",
       "  </tbody>\n",
       "</table>\n",
       "</div>"
      ],
      "text/plain": [
       "   MEDICAID  ofp\n",
       "1         0    5\n",
       "2         0    1\n",
       "3         1   13\n",
       "4         0   16\n",
       "5         0    3"
      ]
     },
     "execution_count": 70,
     "metadata": {},
     "output_type": "execute_result"
    }
   ],
   "source": [
    "data2=data[[\"MEDICAID\",\"ofp\"]]\n",
    "data2.head()"
   ]
  },
  {
   "cell_type": "code",
   "execution_count": 71,
   "id": "b3aa39b6",
   "metadata": {},
   "outputs": [
    {
     "name": "stdout",
     "output_type": "stream",
     "text": [
      "medicaid_yes의 ofp 평균: 6.713930348258707\n",
      "medicaid_no의 ofp 평균: 5.68006993006993\n"
     ]
    }
   ],
   "source": [
    "print(\"medicaid_yes의 ofp 평균:\", data2[data2.MEDICAID == 1]['ofp'].mean())\n",
    "print(\"medicaid_no의 ofp 평균:\",  data2[data2.MEDICAID == 0]['ofp'].mean())"
   ]
  },
  {
   "cell_type": "code",
   "execution_count": null,
   "id": "e37f00f4",
   "metadata": {},
   "outputs": [],
   "source": []
  },
  {
   "cell_type": "markdown",
   "id": "081c1d4c",
   "metadata": {},
   "source": [
    "* 모분산의 비교 먼저 시행"
   ]
  },
  {
   "cell_type": "code",
   "execution_count": 131,
   "id": "4e01021d",
   "metadata": {},
   "outputs": [],
   "source": [
    "# 등분산 비교 검정하는 함수 만들어 검정하기"
   ]
  },
  {
   "cell_type": "code",
   "execution_count": 72,
   "id": "d02d7211",
   "metadata": {},
   "outputs": [],
   "source": [
    "from scipy.stats import f\n",
    "\n",
    "def var_test(sample1, sample2):    # 등분산 검정을 위한 함수\n",
    " n1 = len(sample1)\n",
    " n2 = len(sample2)\n",
    " S1 = np.var(sample1, ddof=1)\n",
    " S2 = np.var(sample2, ddof=1)\n",
    " dfn = n1 - 1\n",
    " dfd = n2 - 1\n",
    " F = S1 / S2\n",
    " pval = 2*min(f.cdf(F, dfn = dfn, dfd = dfd),1-f.cdf(F, dfn=dfn, dfd=dfd))\n",
    " \n",
    " print(\"F test to compare two variances: F = %s, num df = %s, denom df = %s, p-value = %s\"\n",
    " % (round(F,5),dfn,dfd,round(pval,5))) # 문자열 포맷팅 (fomatting)"
   ]
  },
  {
   "cell_type": "code",
   "execution_count": 73,
   "id": "71710fed",
   "metadata": {},
   "outputs": [
    {
     "name": "stdout",
     "output_type": "stream",
     "text": [
      "F test to compare two variances: F = 1.0439, num df = 401, denom df = 4003, p-value = 0.54615\n"
     ]
    }
   ],
   "source": [
    "group1 = data2[data2.MEDICAID == 1]['ofp']\n",
    "group2 = data2[data2.MEDICAID == 0]['ofp']\n",
    "\n",
    "var_test(group1, group2) # 결과: 등분산"
   ]
  },
  {
   "cell_type": "code",
   "execution_count": 74,
   "id": "857efa76",
   "metadata": {},
   "outputs": [
    {
     "data": {
      "text/plain": [
       "TtestResult(statistic=2.926006417555468, pvalue=0.0034509892281588375, df=4404.0)"
      ]
     },
     "execution_count": 74,
     "metadata": {},
     "output_type": "execute_result"
    }
   ],
   "source": [
    "from scipy.stats import ttest_ind\n",
    "\n",
    "ttest_ind(group1, group2, equal_var=True) # 귀무가설을 기각."
   ]
  },
  {
   "cell_type": "code",
   "execution_count": null,
   "id": "97bb16e8",
   "metadata": {},
   "outputs": [],
   "source": []
  },
  {
   "cell_type": "markdown",
   "id": "698d0a07",
   "metadata": {},
   "source": [
    "## 다중선형회귀분석(multiple linear regression model)"
   ]
  },
  {
   "cell_type": "markdown",
   "id": "651a3b1f",
   "metadata": {},
   "source": [
    "기업의 광고비와 설비투자가 매출액에 어떤 영향을 미치는가를 알아보고자 한다. 매출액은 반응변수 Y이고, 광고비와 설비투자는 각각 x1, x2이다. "
   ]
  },
  {
   "cell_type": "code",
   "execution_count": 79,
   "id": "c7c2b82a",
   "metadata": {},
   "outputs": [],
   "source": [
    "sample = {'x1' : [5,6,7,8,9,11,12,13,14,15],\n",
    "          'x2' : [2,1.9,4,5.6,6.1,6.2,7,7.2,8,9],\n",
    "          'y' : [16,19,18,20,24,26,30,32,31,34]}\n",
    "dt=DataFrame(sample)"
   ]
  },
  {
   "cell_type": "markdown",
   "id": "6be66ac0",
   "metadata": {},
   "source": [
    "- 매출액을 종속변수, 나머지 광고비, 설비투자비 변수들은 독립변수로 하는 다음의 다중선형회귀분석을 시행해 보자.\n",
    "$Y_i=\\beta_0+\\beta_1 x_{1i}+\\beta_2 x_{2i}+\\cdots+\\beta_k x_{ki}+\\epsilon_i~~~(i=1,2,\\cdots,n)$    "
   ]
  },
  {
   "cell_type": "markdown",
   "id": "6e2b63f9",
   "metadata": {},
   "source": [
    "- statsmodels.formula.api 의 **ols()** 함수를 이용한다."
   ]
  },
  {
   "cell_type": "code",
   "execution_count": 80,
   "id": "5fcf1335",
   "metadata": {
    "scrolled": true
   },
   "outputs": [
    {
     "name": "stdout",
     "output_type": "stream",
     "text": [
      "                            OLS Regression Results                            \n",
      "==============================================================================\n",
      "Dep. Variable:                      y   R-squared:                       0.971\n",
      "Model:                            OLS   Adj. R-squared:                  0.963\n",
      "Method:                 Least Squares   F-statistic:                     116.8\n",
      "Date:                Wed, 17 Jan 2024   Prob (F-statistic):           4.19e-06\n",
      "Time:                        13:22:33   Log-Likelihood:                -14.742\n",
      "No. Observations:                  10   AIC:                             35.48\n",
      "Df Residuals:                       7   BIC:                             36.39\n",
      "Df Model:                           2                                         \n",
      "Covariance Type:            nonrobust                                         \n",
      "==============================================================================\n",
      "                 coef    std err          t      P>|t|      [0.025      0.975]\n",
      "------------------------------------------------------------------------------\n",
      "Intercept      6.0985      1.362      4.478      0.003       2.878       9.319\n",
      "x1             2.2567      0.405      5.575      0.001       1.299       3.214\n",
      "x2            -0.6430      0.591     -1.088      0.313      -2.041       0.755\n",
      "==============================================================================\n",
      "Omnibus:                        1.884   Durbin-Watson:                   2.642\n",
      "Prob(Omnibus):                  0.390   Jarque-Bera (JB):                0.806\n",
      "Skew:                           0.057   Prob(JB):                        0.668\n",
      "Kurtosis:                       1.614   Cond. No.                         43.1\n",
      "==============================================================================\n",
      "\n",
      "Notes:\n",
      "[1] Standard Errors assume that the covariance matrix of the errors is correctly specified.\n"
     ]
    },
    {
     "name": "stderr",
     "output_type": "stream",
     "text": [
      "C:\\Users\\mh\\anaconda3\\lib\\site-packages\\scipy\\stats\\_stats_py.py:1806: UserWarning: kurtosistest only valid for n>=20 ... continuing anyway, n=10\n",
      "  warnings.warn(\"kurtosistest only valid for n>=20 ... continuing \"\n"
     ]
    }
   ],
   "source": [
    "from statsmodels.formula.api import ols\n",
    "model = ols(\"y ~ x1+x2\",dt).fit()\n",
    "print(model.summary())"
   ]
  },
  {
   "cell_type": "code",
   "execution_count": 81,
   "id": "6a10eefd",
   "metadata": {},
   "outputs": [
    {
     "name": "stdout",
     "output_type": "stream",
     "text": [
      "             sum_sq   df          F    PR(>F)\n",
      "x1        49.581711  1.0  31.078716  0.000838\n",
      "x2         1.887032  1.0   1.182826  0.312805\n",
      "Residual  11.167513  7.0        NaN       NaN\n"
     ]
    }
   ],
   "source": [
    "# 분산분석표\n",
    "table = sm.stats.anova_lm(model, typ=2)  \n",
    "print(table)"
   ]
  },
  {
   "cell_type": "code",
   "execution_count": null,
   "id": "38bff033",
   "metadata": {},
   "outputs": [],
   "source": []
  }
 ],
 "metadata": {
  "kernelspec": {
   "display_name": "Python 3 (ipykernel)",
   "language": "python",
   "name": "python3"
  },
  "language_info": {
   "codemirror_mode": {
    "name": "ipython",
    "version": 3
   },
   "file_extension": ".py",
   "mimetype": "text/x-python",
   "name": "python",
   "nbconvert_exporter": "python",
   "pygments_lexer": "ipython3",
   "version": "3.10.9"
  }
 },
 "nbformat": 4,
 "nbformat_minor": 5
}
